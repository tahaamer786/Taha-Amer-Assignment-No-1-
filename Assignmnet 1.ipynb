{
 "cells": [
  {
   "cell_type": "markdown",
   "id": "22c7f37c-5c5e-466b-acef-171fba68062d",
   "metadata": {},
   "source": [
    "# Assignment - NO: 1"
   ]
  },
  {
   "cell_type": "markdown",
   "id": "a05661ef-4c54-4674-91df-5e9bfe111a79",
   "metadata": {},
   "source": [
    "### Muhammad Taha Amer"
   ]
  },
  {
   "cell_type": "markdown",
   "id": "2acfb750-85be-4bed-adc5-0d543333d6eb",
   "metadata": {},
   "source": [
    "### 2.1 Variables"
   ]
  },
  {
   "cell_type": "code",
   "execution_count": 2,
   "id": "4e5a4f43-ccdc-4f1c-a0e8-72ace13de66d",
   "metadata": {},
   "outputs": [
    {
     "name": "stdout",
     "output_type": "stream",
     "text": [
      "100.0\n",
      "100\n",
      "Mehvish\n"
     ]
    }
   ],
   "source": [
    "counter = 100.00 #float type variable\n",
    "miles = 100 #integer type variable\n",
    "name = \"Mehvish\" #string type variable\n",
    "\n",
    "#print all values\n",
    "print (counter)\n",
    "print (miles)\n",
    "print (name)"
   ]
  },
  {
   "cell_type": "markdown",
   "id": "54fced73-907c-4823-9518-a06a44b49a52",
   "metadata": {},
   "source": [
    "### 2.2 Numbers"
   ]
  },
  {
   "cell_type": "code",
   "execution_count": 3,
   "id": "6d64142b-0f72-467f-8c1a-da3b023a17fd",
   "metadata": {},
   "outputs": [
    {
     "data": {
      "text/plain": [
       "2"
      ]
     },
     "execution_count": 3,
     "metadata": {},
     "output_type": "execute_result"
    }
   ],
   "source": [
    "2 #integer"
   ]
  },
  {
   "cell_type": "code",
   "execution_count": 4,
   "id": "62672ae2-afda-4ffd-bff8-42e6bc6f26f2",
   "metadata": {},
   "outputs": [
    {
     "data": {
      "text/plain": [
       "5"
      ]
     },
     "execution_count": 4,
     "metadata": {},
     "output_type": "execute_result"
    }
   ],
   "source": [
    "2+3 #integer"
   ]
  },
  {
   "cell_type": "code",
   "execution_count": 5,
   "id": "9bb958f8-4b33-4628-af1e-2192ce536506",
   "metadata": {},
   "outputs": [
    {
     "data": {
      "text/plain": [
       "7.8"
      ]
     },
     "execution_count": 5,
     "metadata": {},
     "output_type": "execute_result"
    }
   ],
   "source": [
    "2.3+5.5 #float"
   ]
  },
  {
   "cell_type": "code",
   "execution_count": 7,
   "id": "22d2bdda-baea-4baf-ae7f-c1a66dec7ae2",
   "metadata": {},
   "outputs": [
    {
     "data": {
      "text/plain": [
       "4"
      ]
     },
     "execution_count": 7,
     "metadata": {},
     "output_type": "execute_result"
    }
   ],
   "source": [
    "2*2 #exponent"
   ]
  },
  {
   "cell_type": "markdown",
   "id": "c7cafbb2-f6be-4605-b7a1-d680d36ccf51",
   "metadata": {},
   "source": [
    "### 2.3 Strings"
   ]
  },
  {
   "cell_type": "code",
   "execution_count": 8,
   "id": "b6decbda-4e46-4a59-bc58-47d2428a967b",
   "metadata": {},
   "outputs": [
    {
     "name": "stdout",
     "output_type": "stream",
     "text": [
      "Mehvish COMSATS\n"
     ]
    }
   ],
   "source": [
    "name = 'Mehvish'\n",
    "university = \"COMSATS\"\n",
    "print (name,university)"
   ]
  },
  {
   "cell_type": "markdown",
   "id": "c05fdd01-c8b7-4302-9959-75bb60eff9cc",
   "metadata": {},
   "source": [
    "## Access Values in String"
   ]
  },
  {
   "cell_type": "code",
   "execution_count": 16,
   "id": "9613e64f-8f3a-4e14-a79b-11b7f5dad72c",
   "metadata": {},
   "outputs": [
    {
     "name": "stdout",
     "output_type": "stream",
     "text": [
      "stringVariable[0]: H\n",
      "stringVariable[1:5]: ello\n"
     ]
    }
   ],
   "source": [
    "stringVariable = 'Hello World'\n",
    "print(\"stringVariable[0]:\" , stringVariable[0])\n",
    "print(\"stringVariable[1:5]:\" , stringVariable[1:5])"
   ]
  },
  {
   "cell_type": "markdown",
   "id": "2e681975-ed07-4d05-b9ca-5093be05a884",
   "metadata": {},
   "source": [
    "## Updating String"
   ]
  },
  {
   "cell_type": "code",
   "execution_count": 20,
   "id": "3f7bdb85-12a7-4dd1-89cf-86940e2dedb8",
   "metadata": {},
   "outputs": [
    {
     "name": "stdout",
     "output_type": "stream",
     "text": [
      "Updated string:  Hello Python\n"
     ]
    }
   ],
   "source": [
    "stringVariable = \"Hello World\"\n",
    "stringVariable = stringVariable[:6] + \"Python\"\n",
    "print(\"Updated string: \", stringVariable)"
   ]
  },
  {
   "cell_type": "markdown",
   "id": "a6dfde0e-288f-4e5a-a345-9f95fb16c346",
   "metadata": {},
   "source": [
    "## Delete String"
   ]
  },
  {
   "cell_type": "code",
   "execution_count": 33,
   "id": "6c6ab2d8-01f8-480f-8e4f-3f4e1c433c06",
   "metadata": {},
   "outputs": [
    {
     "name": "stdout",
     "output_type": "stream",
     "text": [
      "Hello World\n"
     ]
    }
   ],
   "source": [
    "stringVariable = \"Hello World\"\n",
    "print (stringVariable)\n",
    "del stringVariable\n"
   ]
  },
  {
   "cell_type": "markdown",
   "id": "132c4f54-6d7f-46a3-a040-3914012e73f6",
   "metadata": {},
   "source": [
    "## String Special Characters\n",
    "### '+' operator is used for concatenation."
   ]
  },
  {
   "cell_type": "code",
   "execution_count": 34,
   "id": "3d1050e6-591d-4980-b9a1-7a95718a61d2",
   "metadata": {},
   "outputs": [
    {
     "name": "stdout",
     "output_type": "stream",
     "text": [
      "Hello Worldpython\n"
     ]
    }
   ],
   "source": [
    "variable = \"Hello World\"\n",
    "print(variable + \"python\")\n"
   ]
  },
  {
   "cell_type": "markdown",
   "id": "7d6e612f-b598-4935-979b-854327a87fed",
   "metadata": {},
   "source": [
    "### '*' used of Repetition"
   ]
  },
  {
   "cell_type": "code",
   "execution_count": 38,
   "id": "d3d92b3a-b2d5-43b4-98f0-afa5cc022ba7",
   "metadata": {},
   "outputs": [
    {
     "name": "stdout",
     "output_type": "stream",
     "text": [
      "pythonpythonpython\n"
     ]
    }
   ],
   "source": [
    "variable = \"python\"\n",
    "print (variable *3)"
   ]
  },
  {
   "cell_type": "markdown",
   "id": "059d33d7-8e30-44dd-b7ca-8e367225731f",
   "metadata": {},
   "source": [
    "### '[]' give the character of string at given index. "
   ]
  },
  {
   "cell_type": "code",
   "execution_count": 39,
   "id": "e918b978-dddf-4717-a3c1-ea8c2e0223a0",
   "metadata": {},
   "outputs": [
    {
     "name": "stdout",
     "output_type": "stream",
     "text": [
      "e\n"
     ]
    }
   ],
   "source": [
    "variable = \"Hello\"\n",
    "print(variable[1])"
   ]
  },
  {
   "cell_type": "markdown",
   "id": "eb9ad026-e3e8-46d3-990b-3de020baabc8",
   "metadata": {},
   "source": [
    "### [:]' variable is used to get a range of characters from string. "
   ]
  },
  {
   "cell_type": "code",
   "execution_count": 41,
   "id": "36733522-e2e0-4b09-ad07-87a68b959321",
   "metadata": {},
   "outputs": [
    {
     "name": "stdout",
     "output_type": "stream",
     "text": [
      "llo Wo\n"
     ]
    }
   ],
   "source": [
    "variable = \"Hello World\"\n",
    "print(variable[2:8])"
   ]
  },
  {
   "cell_type": "markdown",
   "id": "4f3c7309-5270-40ff-91ac-f219bebe4833",
   "metadata": {},
   "source": [
    "### 'in' returns true if given character doesn't exists in string, otherwise false. "
   ]
  },
  {
   "cell_type": "code",
   "execution_count": 46,
   "id": "fecde65d-23ee-41d6-88d2-727a83511f04",
   "metadata": {},
   "outputs": [
    {
     "name": "stdout",
     "output_type": "stream",
     "text": [
      "True\n"
     ]
    }
   ],
   "source": [
    "variable = \"Taha\"\n",
    "print('M' not in variable)"
   ]
  },
  {
   "cell_type": "markdown",
   "id": "a39e9b4e-2b85-4fe1-ad78-d357af12f9fa",
   "metadata": {},
   "source": [
    "# String formatting operator "
   ]
  },
  {
   "cell_type": "markdown",
   "id": "2511f3b1-a3c7-45d5-b3e1-c204e7c74ccd",
   "metadata": {},
   "source": [
    "### One of the coolest feature is string formatting operator within print statement.\n",
    " See following example: "
   ]
  },
  {
   "cell_type": "code",
   "execution_count": 48,
   "id": "9613ed18-1778-4a5c-ba54-90a540708ec5",
   "metadata": {},
   "outputs": [
    {
     "name": "stdout",
     "output_type": "stream",
     "text": [
      "My name is Taha and age is 21 kg!\n"
     ]
    }
   ],
   "source": [
    "print (\"My name is %s and age is %d kg!\" % (\"Taha\", 21))"
   ]
  },
  {
   "cell_type": "markdown",
   "id": "b9fe6c14-dee4-41e9-a323-c1aa9665afcc",
   "metadata": {},
   "source": [
    "### 2.4 Lists"
   ]
  },
  {
   "cell_type": "code",
   "execution_count": 3,
   "id": "0fee4931-c3a5-439e-9c89-d7c573a06390",
   "metadata": {},
   "outputs": [
    {
     "name": "stdout",
     "output_type": "stream",
     "text": [
      "['Taha', '1999']\n"
     ]
    }
   ],
   "source": [
    "list1 = ['Taha', '1999']\n",
    "print(list1)"
   ]
  },
  {
   "cell_type": "markdown",
   "id": "c0f2b874-4e2d-4c30-99e8-700231c71c38",
   "metadata": {},
   "source": [
    "## Accessing Values in Lists"
   ]
  },
  {
   "cell_type": "code",
   "execution_count": 6,
   "id": "1bb6546f-5f20-4585-b6c1-50c917bc0441",
   "metadata": {},
   "outputs": [
    {
     "name": "stdout",
     "output_type": "stream",
     "text": [
      "list1[0]:  Physics\n",
      "list2[1:5]:  [2, 3]\n"
     ]
    }
   ],
   "source": [
    "list1 = ['Physics', 'Chemistry', 'Maths'];\n",
    "list2 = [1, 2, 3];\n",
    "print (\"list1[0]: \", list1[0])\n",
    "print (\"list2[1:5]: \", list2[1:5]) "
   ]
  },
  {
   "cell_type": "markdown",
   "id": "312c76b5-51f0-4c5f-b548-9ec8ccceb093",
   "metadata": {},
   "source": [
    "## Updating List"
   ]
  },
  {
   "cell_type": "code",
   "execution_count": 7,
   "id": "42bd7f87-cdf0-428c-b590-670208b88883",
   "metadata": {},
   "outputs": [
    {
     "name": "stdout",
     "output_type": "stream",
     "text": [
      "['physics', 'computer science', 'Biology']\n",
      "['physics', 'computer science', 'Biology', 'computer science']\n"
     ]
    }
   ],
   "source": [
    "list1 = ['physics' , 'chemistry', 'Biology']\n",
    "list1[1] = \"computer science\"\n",
    "print(list1)\n",
    "list1.append('computer science')\n",
    "print(list1)"
   ]
  },
  {
   "cell_type": "markdown",
   "id": "dbb965c7-df4b-4c74-b465-2550743e9357",
   "metadata": {},
   "source": [
    "## Delete List element"
   ]
  },
  {
   "cell_type": "code",
   "execution_count": 13,
   "id": "53ede2ad-18ea-4200-884b-c9cde3a6c12e",
   "metadata": {},
   "outputs": [
    {
     "name": "stdout",
     "output_type": "stream",
     "text": [
      "['physics', 'chemistry', 1997, 2000]\n",
      "After deleting value at index 2 : \n",
      "['physics', 'chemistry', 2000]\n"
     ]
    }
   ],
   "source": [
    "list1 = ['physics', 'chemistry', 1997, 2000]; \n",
    "print (list1)\n",
    "\n",
    "del list1[2];\n",
    "\n",
    "print (\"After deleting value at index 2 : \") \n",
    "print (list1)"
   ]
  },
  {
   "cell_type": "markdown",
   "id": "5df74296-e249-40bb-87d7-65de2d22726b",
   "metadata": {},
   "source": [
    "## 2.5 Dictionaries"
   ]
  },
  {
   "cell_type": "code",
   "execution_count": 19,
   "id": "93c05d33-836a-49a8-baaa-5741a743f408",
   "metadata": {},
   "outputs": [
    {
     "name": "stdout",
     "output_type": "stream",
     "text": [
      "Taha\n"
     ]
    }
   ],
   "source": [
    "dict = {'Name':\"Taha\" , 'Depart': \"Bsc EE\", 'Batch': 2019}\n",
    "print (dict['Name'])"
   ]
  },
  {
   "cell_type": "markdown",
   "id": "e6d63244-b12c-4faf-a20c-6b824484c92a",
   "metadata": {},
   "source": [
    "## Updating Dictionary"
   ]
  },
  {
   "cell_type": "code",
   "execution_count": 21,
   "id": "e6b95622-afa4-4953-be43-1c174c8cb7ed",
   "metadata": {},
   "outputs": [
    {
     "name": "stdout",
     "output_type": "stream",
     "text": [
      "{'Name': 'Mehvish', 'Depart': 'BCS', 'Batch': 2014}\n",
      "{'Name': 'Mehvish', 'Depart': 'BCS', 'Batch': 'SP14'}\n",
      "{'Name': 'Mehvish', 'Depart': 'BCS', 'Batch': 'SP14', 'University': 'COMSATS'}\n"
     ]
    }
   ],
   "source": [
    "dict = {'Name':\"Mehvish\", 'Depart': \"BCS\", 'Batch': 2014}\n",
    "print (dict)\n",
    "dict['Batch'] = \"SP14\"\n",
    "print (dict) \n",
    "dict['University'] = \"COMSATS\" \n",
    "print(dict) "
   ]
  },
  {
   "cell_type": "markdown",
   "id": "e65fd45a-16ed-4686-a3b7-1370fe449040",
   "metadata": {},
   "source": [
    "## Delete Dictionary Element"
   ]
  },
  {
   "cell_type": "code",
   "execution_count": 22,
   "id": "34997a3f-6161-45e6-b7ab-828544947aa9",
   "metadata": {},
   "outputs": [
    {
     "name": "stdout",
     "output_type": "stream",
     "text": [
      "{'Name': 'Mehvish', 'Depart': 'BCS', 'Batch': 2014}\n",
      "{'Name': 'Mehvish', 'Depart': 'BCS'}\n"
     ]
    }
   ],
   "source": [
    "dict = {'Name':\"Mehvish\", 'Depart': \"BCS\", 'Batch': 2014} \n",
    "print (dict) \n",
    "del dict['Batch'] \n",
    "print (dict) "
   ]
  },
  {
   "cell_type": "code",
   "execution_count": 23,
   "id": "d1bfb083-14da-4c42-b193-8371cc692ea1",
   "metadata": {},
   "outputs": [
    {
     "name": "stdout",
     "output_type": "stream",
     "text": [
      "{}\n"
     ]
    }
   ],
   "source": [
    "dict = {'Name':\"Mehvish\", 'Depart': \"BCS\", 'Batch': 2014} \n",
    "dict.clear() \n",
    "print (dict) "
   ]
  },
  {
   "cell_type": "markdown",
   "id": "7166cd95-8568-4967-8704-4499a7aa4772",
   "metadata": {},
   "source": [
    "### 2.6 Tuples "
   ]
  },
  {
   "cell_type": "code",
   "execution_count": 24,
   "id": "9eae9b25-3771-412e-a1db-e1dc1838ee10",
   "metadata": {},
   "outputs": [
    {
     "name": "stdout",
     "output_type": "stream",
     "text": [
      "('Math', '98', 'C programming', '99')\n"
     ]
    }
   ],
   "source": [
    "\n",
    " tup = ('Math','98', 'C programming', '99')\n",
    " print (tup) "
   ]
  },
  {
   "cell_type": "code",
   "execution_count": 26,
   "id": "86ae1504-1db2-48ef-860b-1bbe50ad2436",
   "metadata": {},
   "outputs": [
    {
     "name": "stdout",
     "output_type": "stream",
     "text": [
      "('Math', '98', 'C programming', '99')\n",
      "98\n",
      "('98', 'C programming')\n"
     ]
    }
   ],
   "source": [
    "\n",
    "tup = ('Math','98', 'C programming', '99')\n",
    "print (tup) \n",
    "print(tup[1]) \n",
    "print(tup[1:3]) "
   ]
  },
  {
   "cell_type": "markdown",
   "id": "747ef49e-f2f6-40c6-9340-d16ba3b66e3a",
   "metadata": {},
   "source": [
    "## Updating Tuples "
   ]
  },
  {
   "cell_type": "code",
   "execution_count": 27,
   "id": "9a049d54-8e06-4902-87fd-444ca8f0cfce",
   "metadata": {},
   "outputs": [
    {
     "name": "stdout",
     "output_type": "stream",
     "text": [
      "(12, 34.56, 'abc', 'xyz')\n"
     ]
    }
   ],
   "source": [
    "tup1 = (12, 34.56);\n",
    "tup2 = ('abc', 'xyz');\n",
    "\n",
    "#Following action is not valid for tuples \n",
    "#tup1[0] = 100; \n",
    "#So let's create a new tuple as follows\n",
    "\n",
    "tup3 = tup1 + tup2; \n",
    "print (tup3); "
   ]
  },
  {
   "cell_type": "markdown",
   "id": "e7b14914-b43c-4ac5-a13f-5af3320bd1c2",
   "metadata": {},
   "source": [
    "## Delete Tuple elements "
   ]
  },
  {
   "cell_type": "code",
   "execution_count": 2,
   "id": "33aea460-531d-487b-8090-f27cc2f59a39",
   "metadata": {},
   "outputs": [
    {
     "name": "stdout",
     "output_type": "stream",
     "text": [
      "('physics', 'chemistry', 1997, 2000)\n",
      "After deleting tup : \n"
     ]
    },
    {
     "ename": "NameError",
     "evalue": "name 'tup' is not defined",
     "output_type": "error",
     "traceback": [
      "\u001b[31m---------------------------------------------------------------------------\u001b[39m",
      "\u001b[31mNameError\u001b[39m                                 Traceback (most recent call last)",
      "\u001b[36mCell\u001b[39m\u001b[36m \u001b[39m\u001b[32mIn[2]\u001b[39m\u001b[32m, line 5\u001b[39m\n\u001b[32m      3\u001b[39m \u001b[38;5;28;01mdel\u001b[39;00m tup;\n\u001b[32m      4\u001b[39m \u001b[38;5;28mprint\u001b[39m (\u001b[33m\"\u001b[39m\u001b[33mAfter deleting tup : \u001b[39m\u001b[33m\"\u001b[39m);\n\u001b[32m----> \u001b[39m\u001b[32m5\u001b[39m \u001b[38;5;28mprint\u001b[39m (\u001b[43mtup\u001b[49m)\n",
      "\u001b[31mNameError\u001b[39m: name 'tup' is not defined"
     ]
    }
   ],
   "source": [
    "tup = ('physics', 'chemistry', 1997, 2000);\n",
    "print (tup);\n",
    "del tup;\n",
    "print (\"After deleting tup : \");\n",
    "print (tup);"
   ]
  },
  {
   "cell_type": "code",
   "execution_count": 31,
   "id": "b47c2bc0-3e92-4eb7-91ae-643e2b97a244",
   "metadata": {},
   "outputs": [
    {
     "name": "stdout",
     "output_type": "stream",
     "text": [
      "('physics', 'chemistry', 1997, 2000)\n"
     ]
    }
   ],
   "source": [
    "tup = ('physics', 'chemistry', 1997, 2000);\n",
    "print (tup);"
   ]
  },
  {
   "cell_type": "code",
   "execution_count": 32,
   "id": "98c0d680-3f49-4eae-9a39-aafdff26ff7f",
   "metadata": {},
   "outputs": [
    {
     "name": "stdout",
     "output_type": "stream",
     "text": [
      "('physics', 'chemistry', 1997, 2000)\n"
     ]
    }
   ],
   "source": [
    "tup = ('physics', 'chemistry', 1997, 2000);\n",
    "print (tup);\n",
    "del tup;"
   ]
  },
  {
   "cell_type": "code",
   "execution_count": 33,
   "id": "828e64d3-523a-40ac-a3e0-f3b026d12356",
   "metadata": {},
   "outputs": [],
   "source": [
    "tup = ('physics', 'chemistry', 1997, 2000);\n",
    "del tup;"
   ]
  },
  {
   "cell_type": "markdown",
   "id": "1ab65900-406d-423a-92db-dee912209bb6",
   "metadata": {},
   "source": [
    "### 2.7 Sets "
   ]
  },
  {
   "cell_type": "code",
   "execution_count": 2,
   "id": "e8a88a74-ec37-4543-9d32-7f735e0db032",
   "metadata": {},
   "outputs": [
    {
     "name": "stdout",
     "output_type": "stream",
     "text": [
      "<class 'list'>\n",
      "{1, 2, 3, 4, 5}\n"
     ]
    }
   ],
   "source": [
    "#list\n",
    "list1 = [1,2,3,4,5]\n",
    "print(type(list1))\n",
    "my_set = set(list1)\n",
    "print(my_set)"
   ]
  },
  {
   "cell_type": "code",
   "execution_count": 3,
   "id": "50b5a23a-d02b-4e34-961a-52a208028860",
   "metadata": {},
   "outputs": [
    {
     "name": "stdout",
     "output_type": "stream",
     "text": [
      "{1, 2, 3}\n"
     ]
    }
   ],
   "source": [
    "#set of integers\n",
    "my_set = {1,2,3}\n",
    "print (my_set)\n"
   ]
  },
  {
   "cell_type": "code",
   "execution_count": 4,
   "id": "2c25fba9-b725-47c4-a52a-313fe4c41209",
   "metadata": {},
   "outputs": [
    {
     "name": "stdout",
     "output_type": "stream",
     "text": [
      "{'Hello', 1, 1.2, 2, 3, 4, 5, 'C', 'D'}\n"
     ]
    }
   ],
   "source": [
    "#set of mixed data types\n",
    "my_set = {1, 'Hello' , 1.2 , 'C'}\n",
    "#adding a single value\n",
    "my_set.add('D')\n",
    "#adding multiple values\n",
    "my_set.update(list1)\n",
    "print(my_set)"
   ]
  },
  {
   "cell_type": "markdown",
   "id": "494f8846-79bb-4be2-b8b9-0a6513245d94",
   "metadata": {},
   "source": [
    "## Comparison Operators"
   ]
  },
  {
   "cell_type": "code",
   "execution_count": 5,
   "id": "73293dbe-d297-4e94-91d4-c00d12d07d04",
   "metadata": {},
   "outputs": [
    {
     "data": {
      "text/plain": [
       "True"
      ]
     },
     "execution_count": 5,
     "metadata": {},
     "output_type": "execute_result"
    }
   ],
   "source": [
    "1<3"
   ]
  },
  {
   "cell_type": "code",
   "execution_count": 6,
   "id": "89bf6eff-46a5-44f0-8369-24f3986b0a53",
   "metadata": {},
   "outputs": [
    {
     "data": {
      "text/plain": [
       "True"
      ]
     },
     "execution_count": 6,
     "metadata": {},
     "output_type": "execute_result"
    }
   ],
   "source": [
    "15 <= 23 "
   ]
  },
  {
   "cell_type": "code",
   "execution_count": 7,
   "id": "3e7a715f-b40e-4ed6-97c7-76e4b6fa969d",
   "metadata": {},
   "outputs": [
    {
     "data": {
      "text/plain": [
       "False"
      ]
     },
     "execution_count": 7,
     "metadata": {},
     "output_type": "execute_result"
    }
   ],
   "source": [
    " 'Mehvish' == \"Zeenat\" "
   ]
  },
  {
   "cell_type": "code",
   "execution_count": 8,
   "id": "9f37f033-22d1-4c46-993c-de1715ef033f",
   "metadata": {},
   "outputs": [
    {
     "data": {
      "text/plain": [
       "False"
      ]
     },
     "execution_count": 8,
     "metadata": {},
     "output_type": "execute_result"
    }
   ],
   "source": [
    "\"Mehvish\" != \"Mehvish\" "
   ]
  },
  {
   "cell_type": "code",
   "execution_count": 9,
   "id": "a3f5097a-d545-49e2-92e8-4b441cbd3993",
   "metadata": {},
   "outputs": [
    {
     "data": {
      "text/plain": [
       "True"
      ]
     },
     "execution_count": 9,
     "metadata": {},
     "output_type": "execute_result"
    }
   ],
   "source": [
    "(1==1)or(5>2)"
   ]
  },
  {
   "cell_type": "code",
   "execution_count": 10,
   "id": "229ce349-e569-4290-a3eb-ca0ab72f8fc2",
   "metadata": {},
   "outputs": [
    {
     "data": {
      "text/plain": [
       "False"
      ]
     },
     "execution_count": 10,
     "metadata": {},
     "output_type": "execute_result"
    }
   ],
   "source": [
    "(1<2)and(2<1)"
   ]
  },
  {
   "cell_type": "markdown",
   "id": "c3d36e62-75ec-4b3b-b89a-ab1476911330",
   "metadata": {},
   "source": [
    "## If-Else Statements "
   ]
  },
  {
   "cell_type": "code",
   "execution_count": 14,
   "id": "978c3aa3-7f89-44de-b7d2-e7dcb2fcfd0a",
   "metadata": {},
   "outputs": [
    {
     "name": "stdout",
     "output_type": "stream",
     "text": [
      "Even\n"
     ]
    }
   ],
   "source": [
    "if 25 % 2: \n",
    "    print('Even')\n",
    "else: \n",
    "    print('Odd')"
   ]
  },
  {
   "cell_type": "markdown",
   "id": "44763d14-e15b-4826-978a-74f4e2b03d72",
   "metadata": {},
   "source": [
    "## For and While Loop"
   ]
  },
  {
   "cell_type": "code",
   "execution_count": 17,
   "id": "7a4d26f8-304b-4ae4-8902-7d27c50ad5c3",
   "metadata": {},
   "outputs": [
    {
     "name": "stdout",
     "output_type": "stream",
     "text": [
      "120\n"
     ]
    }
   ],
   "source": [
    "#example of for loop\n",
    "fact = 1\n",
    "N = 5\n",
    "for i in range (1,N+1): \n",
    "    fact*=i \n",
    "print (fact) "
   ]
  },
  {
   "cell_type": "code",
   "execution_count": 20,
   "id": "7aa301ea-c8ff-44f0-86e8-3bd140361246",
   "metadata": {},
   "outputs": [
    {
     "name": "stdout",
     "output_type": "stream",
     "text": [
      "1\n",
      "2\n",
      "3\n",
      "4\n",
      "5\n",
      "6\n",
      "7\n",
      "8\n",
      "9\n",
      "10\n"
     ]
    }
   ],
   "source": [
    "#example of while loop\n",
    "a = 0\n",
    "while a < 10: \n",
    "    a = a+1\n",
    "    print(a) "
   ]
  },
  {
   "cell_type": "markdown",
   "id": "76cbfdfb-830c-44a9-ad9b-5f4426a29ed8",
   "metadata": {},
   "source": [
    "##  Functions "
   ]
  },
  {
   "cell_type": "code",
   "execution_count": 25,
   "id": "366bcd99-7412-4e48-a9f5-1959e56c5a91",
   "metadata": {},
   "outputs": [
    {
     "name": "stdout",
     "output_type": "stream",
     "text": [
      "I'm first call user defined function!\n"
     ]
    }
   ],
   "source": [
    "#Function Definition is HERE\n",
    "def printme(str):\n",
    "#This prints a passed string into this function\n",
    "   print (str)\n",
    "   return;\n",
    "#Now you can call printme function\n",
    "printme (\"I'm first call user defined function!\")"
   ]
  },
  {
   "cell_type": "markdown",
   "id": "7102ae4d-b08e-46d3-8469-fc9630a0b17e",
   "metadata": {},
   "source": [
    "##  Lambda Functions"
   ]
  },
  {
   "cell_type": "code",
   "execution_count": 30,
   "id": "b56d6400-6934-435d-a9f1-d29087c4485b",
   "metadata": {},
   "outputs": [
    {
     "name": "stdout",
     "output_type": "stream",
     "text": [
      "64\n"
     ]
    }
   ],
   "source": [
    "#Normal Function\n",
    "def f (x):\n",
    "    return x**2\n",
    "print (f(8))"
   ]
  },
  {
   "cell_type": "code",
   "execution_count": 32,
   "id": "eb2ea745-e9dd-475c-9b76-85401e218a8b",
   "metadata": {},
   "outputs": [
    {
     "data": {
      "text/plain": [
       "30"
      ]
     },
     "execution_count": 32,
     "metadata": {},
     "output_type": "execute_result"
    }
   ],
   "source": [
    "#Lambda Function\n",
    "#Lambda Expressions\n",
    "times3 = lambda var:var*3\n",
    "times3(10)"
   ]
  },
  {
   "cell_type": "markdown",
   "id": "094723b5-ed35-4ed0-80fa-979fbd550099",
   "metadata": {},
   "source": [
    "## 7.1 Map()"
   ]
  },
  {
   "cell_type": "code",
   "execution_count": 35,
   "id": "2949b345-81de-4c39-9dfb-fd82d9a79460",
   "metadata": {},
   "outputs": [
    {
     "name": "stdout",
     "output_type": "stream",
     "text": [
      "['It', 'is', 'raining', 'cats', 'and', 'dogs']\n"
     ]
    },
    {
     "data": {
      "text/plain": [
       "[2, 2, 7, 4, 3, 4]"
      ]
     },
     "execution_count": 35,
     "metadata": {},
     "output_type": "execute_result"
    }
   ],
   "source": [
    "sentence = 'It is raining cats and dogs'\n",
    "words = sentence.split()\n",
    "print(words)\n",
    "\n",
    "lengths = map(lambda word: len(word), words)\n",
    "list(lengths)"
   ]
  },
  {
   "cell_type": "markdown",
   "id": "5bfa7b77-a45f-4812-8fa4-0ace7b517dd0",
   "metadata": {},
   "source": [
    "## 7.2 Filter() "
   ]
  },
  {
   "cell_type": "code",
   "execution_count": 36,
   "id": "b179c872-b096-4fd2-93d7-e0c9e7303f10",
   "metadata": {},
   "outputs": [
    {
     "data": {
      "text/plain": [
       "[1, 1, 3, 5, 13, 21, 55]"
      ]
     },
     "execution_count": 36,
     "metadata": {},
     "output_type": "execute_result"
    }
   ],
   "source": [
    "fib = [0,1,1,2,3,5,8,13,21,34,55] \n",
    "result1 = filter(lambda x: x % 2, fib)\n",
    "list(result1) "
   ]
  },
  {
   "cell_type": "code",
   "execution_count": 37,
   "id": "71476e26-36b8-43f3-bee7-a599dd99ed91",
   "metadata": {},
   "outputs": [
    {
     "data": {
      "text/plain": [
       "[0, 2, 8, 34]"
      ]
     },
     "execution_count": 37,
     "metadata": {},
     "output_type": "execute_result"
    }
   ],
   "source": [
    "fib = [0,1,1,2,3,5,8,13,21,34,55] \n",
    "result2 = filter(lambda x: x % 2 == 0, fib) \n",
    "list (result2) "
   ]
  },
  {
   "cell_type": "markdown",
   "id": "6f8e621e-5e0e-473c-bee8-b7c8649e4d9c",
   "metadata": {},
   "source": [
    "## File I/O "
   ]
  },
  {
   "cell_type": "code",
   "execution_count": 40,
   "id": "9ae06aca-fd2b-4530-92ca-37848856f3bc",
   "metadata": {},
   "outputs": [
    {
     "name": "stdin",
     "output_type": "stream",
     "text": [
      "Enter your Name Taha\n"
     ]
    },
    {
     "name": "stdout",
     "output_type": "stream",
     "text": [
      "Taha\n"
     ]
    }
   ],
   "source": [
    "from six.moves import input\n",
    "string = input (\"Enter your Name\");\n",
    "print (string)"
   ]
  },
  {
   "cell_type": "markdown",
   "id": "c136ef75-109d-4a4a-9dd6-1b03cc7e8345",
   "metadata": {},
   "source": [
    "## I/O from or to Text File"
   ]
  },
  {
   "cell_type": "code",
   "execution_count": 4,
   "id": "b2509368-b62b-4918-bce3-889f6c1db3c7",
   "metadata": {},
   "outputs": [
    {
     "name": "stdout",
     "output_type": "stream",
     "text": [
      "1 2 3 4 5 6 \n"
     ]
    }
   ],
   "source": [
    "# Open a file to read\n",
    "fileOpen = open(\"file.txt.txt\",\"r+\")\n",
    "str = fileOpen.read();\n",
    "print(str)\n",
    "fileOpen.close()"
   ]
  },
  {
   "cell_type": "code",
   "execution_count": 14,
   "id": "3ed4ef0e-debf-45d9-8be7-d986cef389ad",
   "metadata": {},
   "outputs": [
    {
     "name": "stdout",
     "output_type": "stream",
     "text": [
      "1 2 3 4 5 6 \n"
     ]
    }
   ],
   "source": [
    "# Open a file to append\n",
    "fileOpen = open(\"file1.txt.txt\", \"a+\")\n",
    "fileOpen.write(\" Information Technology Lahore\");\n",
    "fileOpen.close()\n",
    "# Open a file to read\n",
    "fileOpen = open(\"file.txt.txt\", \"r+\")\n",
    "string = fileOpen.read(); \n",
    "#to read specific content from start you can use read(12). \n",
    "# It will read 12 characters from the start of file\n",
    "print (string)\n",
    "# Close opend file\n"
   ]
  },
  {
   "cell_type": "markdown",
   "id": "db372e88-f502-4bc6-b2e5-55fd94cab191",
   "metadata": {},
   "source": [
    "## File Position\n"
   ]
  },
  {
   "cell_type": "code",
   "execution_count": 23,
   "id": "a6244b6c-b085-498e-a5d0-77ab78add6d4",
   "metadata": {},
   "outputs": [
    {
     "name": "stdout",
     "output_type": "stream",
     "text": [
      "ReadStringis:\n",
      " Taha Amer\n",
      "Currentfileposition:\n",
      " 9\n",
      "AgainreadStringis:\n",
      " Taha Amer\n"
     ]
    }
   ],
   "source": [
    "# Open a file\n",
    "fo = open(\"file1.txt.txt\", \"r+\")\n",
    "str = fo.read(10);\n",
    "print(\"ReadStringis:\\n\",str)\n",
    "# Check current position\n",
    "position = fo.tell();\n",
    "print(\"Currentfileposition:\\n\", position)\n",
    "#Repositionpointeratthebeginning once again\n",
    "position = fo.seek(0, 0);\n",
    "str = fo.read(10);\n",
    "print(\"AgainreadStringis:\\n\", str)\n",
    "# Close opend file\n",
    "fo.close()"
   ]
  },
  {
   "cell_type": "code",
   "execution_count": 26,
   "id": "f1a470a2-4f8c-4394-bd0f-ee3210acaa9d",
   "metadata": {},
   "outputs": [],
   "source": [
    "import os"
   ]
  },
  {
   "cell_type": "code",
   "execution_count": 28,
   "id": "eef3150a-9f18-4218-89e7-bb96a851115d",
   "metadata": {},
   "outputs": [
    {
     "ename": "PermissionError",
     "evalue": "[WinError 32] The process cannot access the file because it is being used by another process: 'file.txt.txt' -> 'renamefile.txt'",
     "output_type": "error",
     "traceback": [
      "\u001b[31m---------------------------------------------------------------------------\u001b[39m",
      "\u001b[31mPermissionError\u001b[39m                           Traceback (most recent call last)",
      "\u001b[36mCell\u001b[39m\u001b[36m \u001b[39m\u001b[32mIn[28]\u001b[39m\u001b[32m, line 3\u001b[39m\n\u001b[32m      1\u001b[39m \u001b[38;5;28;01mimport\u001b[39;00m\u001b[38;5;250m \u001b[39m\u001b[34;01mos\u001b[39;00m\n\u001b[32m      2\u001b[39m \u001b[38;5;66;03m# renameafile\u001b[39;00m\n\u001b[32m----> \u001b[39m\u001b[32m3\u001b[39m \u001b[43mos\u001b[49m\u001b[43m.\u001b[49m\u001b[43mrename\u001b[49m\u001b[43m(\u001b[49m\u001b[33;43m\"\u001b[39;49m\u001b[33;43mfile.txt.txt\u001b[39;49m\u001b[33;43m\"\u001b[39;49m\u001b[43m,\u001b[49m\u001b[33;43m\"\u001b[39;49m\u001b[33;43mrenamefile.txt\u001b[39;49m\u001b[33;43m\"\u001b[39;49m\u001b[43m)\u001b[49m\n",
      "\u001b[31mPermissionError\u001b[39m: [WinError 32] The process cannot access the file because it is being used by another process: 'file.txt.txt' -> 'renamefile.txt'"
     ]
    }
   ],
   "source": [
    "import os\n",
    "# renameafile\n",
    "os.rename(\"file.txt.txt\",\"renamefile.txt\")"
   ]
  },
  {
   "cell_type": "markdown",
   "id": "22a23174-3610-42f3-a8d5-f6d17c080fa9",
   "metadata": {},
   "source": [
    "## 9. Pandas Introduction Done"
   ]
  },
  {
   "cell_type": "markdown",
   "id": "7055cdbc-9722-4f27-8568-a63dc5313d6e",
   "metadata": {},
   "source": [
    "## 10. Series\n"
   ]
  },
  {
   "cell_type": "markdown",
   "id": "a37aff67-ceb6-46ef-b633-d98dbefabf85",
   "metadata": {},
   "source": [
    "### 10.1 From ndarray"
   ]
  },
  {
   "cell_type": "code",
   "execution_count": 30,
   "id": "5aa52244-f0db-4314-8cb9-41829a0ddf9e",
   "metadata": {},
   "outputs": [
    {
     "data": {
      "text/plain": [
       "a    0.182247\n",
       "b   -0.239999\n",
       "c    0.640343\n",
       "d    0.845657\n",
       "e   -0.627893\n",
       "dtype: float64"
      ]
     },
     "execution_count": 30,
     "metadata": {},
     "output_type": "execute_result"
    }
   ],
   "source": [
    "import pandas as pd\n",
    "import numpy as np\n",
    "import matplotlib.pyplot as plt\n",
    "\"\"\"following a fucntion is called from panas to create a series.\n",
    "data would be 5 random values and indexes are assigned a-e\"\"\"\n",
    "s = pd.Series(np.random.randn(5), index=['a', 'b', 'c', 'd', 'e'])\n",
    "s"
   ]
  },
  {
   "cell_type": "code",
   "execution_count": 33,
   "id": "e1018883-6d0e-4498-b8d6-cb156b2ea20c",
   "metadata": {},
   "outputs": [
    {
     "data": {
      "text/plain": [
       "Index(['a', 'b', 'c', 'd', 'e'], dtype='object')"
      ]
     },
     "execution_count": 33,
     "metadata": {},
     "output_type": "execute_result"
    }
   ],
   "source": [
    " ##Following function will print the index and its datatype\n",
    "s.index\n"
   ]
  },
  {
   "cell_type": "code",
   "execution_count": 34,
   "id": "be2f661d-effd-47d3-81b1-eff7d36a4970",
   "metadata": {},
   "outputs": [
    {
     "data": {
      "text/plain": [
       "0   -1.137392\n",
       "1   -0.689610\n",
       "2   -1.220364\n",
       "3    0.755426\n",
       "4   -0.171187\n",
       "dtype: float64"
      ]
     },
     "execution_count": 34,
     "metadata": {},
     "output_type": "execute_result"
    }
   ],
   "source": [
    "##3If we don't assign the index then it will of length having values [0.\n",
    "pd.Series(np.random.randn(5))\n"
   ]
  },
  {
   "cell_type": "markdown",
   "id": "03e2e44a-301c-45c7-b5d0-dfc271e4e84e",
   "metadata": {},
   "source": [
    "### 10.2 From dict\n"
   ]
  },
  {
   "cell_type": "code",
   "execution_count": 35,
   "id": "95fe3749-1487-40a4-a751-ebeab47599c5",
   "metadata": {},
   "outputs": [
    {
     "data": {
      "text/plain": [
       "Taha    0.0\n",
       "Amer    1.0\n",
       "c       2.0\n",
       "dtype: float64"
      ]
     },
     "execution_count": 35,
     "metadata": {},
     "output_type": "execute_result"
    }
   ],
   "source": [
    "### In following example, indexes are not given to it is constructed from the sorted keys of the dict\n",
    "d = {'Taha' : 0., 'Amer' : 1., 'c' : 2.} # a python dict\n",
    "pd.Series(d)"
   ]
  },
  {
   "cell_type": "code",
   "execution_count": 36,
   "id": "2532816a-b568-43fc-9210-f0bfcee5c702",
   "metadata": {},
   "outputs": [
    {
     "data": {
      "text/plain": [
       "Cyber           NaN\n",
       "Gen             NaN\n",
       "Taha            0.0\n",
       "AI DEVELOPER    NaN\n",
       "dtype: float64"
      ]
     },
     "execution_count": 36,
     "metadata": {},
     "output_type": "execute_result"
    }
   ],
   "source": [
    " ##3In following example, index are given, so the values in data corresponding in the index will be pulled out\n",
    "pd.Series(d, index=['Cyber', 'Gen', 'Taha', 'AI DEVELOPER'])\n"
   ]
  },
  {
   "cell_type": "markdown",
   "id": "06d53bb6-1a29-4c7c-8b9b-69b2c610076a",
   "metadata": {},
   "source": [
    "### 10.3 From a scalar value"
   ]
  },
  {
   "cell_type": "code",
   "execution_count": 37,
   "id": "83876a02-2368-4029-808f-5099a0e4178e",
   "metadata": {},
   "outputs": [
    {
     "data": {
      "text/plain": [
       "a    5.0\n",
       "e    5.0\n",
       "i    5.0\n",
       "o    5.0\n",
       "u    5.0\n",
       "dtype: float64"
      ]
     },
     "execution_count": 37,
     "metadata": {},
     "output_type": "execute_result"
    }
   ],
   "source": [
    " ###In following example, a scalar value is given as data so it will be repeated to match the length of index\n",
    "pd.Series(5., index=['a', 'e', 'i', 'o', 'u'])\n"
   ]
  },
  {
   "cell_type": "markdown",
   "id": "d16b9c4e-e495-4dc2-929b-b9123f897215",
   "metadata": {},
   "source": [
    "### 10.4 Series is ndarray-like"
   ]
  },
  {
   "cell_type": "code",
   "execution_count": 48,
   "id": "bfb4c43a-b5bf-4dac-9f5d-81f3cb3aeeb6",
   "metadata": {},
   "outputs": [
    {
     "data": {
      "text/plain": [
       "np.float64(0.18224713273240617)"
      ]
     },
     "execution_count": 48,
     "metadata": {},
     "output_type": "execute_result"
    }
   ],
   "source": [
    "#we can access a value just like ndarray\n",
    "#access single value\n",
    "s.iloc[0]\n"
   ]
  },
  {
   "cell_type": "code",
   "execution_count": 42,
   "id": "44962721-ddf1-437e-85aa-02e27b652c7e",
   "metadata": {},
   "outputs": [
    {
     "data": {
      "text/plain": [
       "a    0.182247\n",
       "b   -0.239999\n",
       "c    0.640343\n",
       "d    0.845657\n",
       "e   -0.627893\n",
       "dtype: float64"
      ]
     },
     "execution_count": 42,
     "metadata": {},
     "output_type": "execute_result"
    }
   ],
   "source": [
    "#access range of values\n",
    "s[:5]"
   ]
  },
  {
   "cell_type": "code",
   "execution_count": 43,
   "id": "d57c3efd-da64-49ed-a219-acc87b268bb5",
   "metadata": {},
   "outputs": [
    {
     "data": {
      "text/plain": [
       "c    0.640343\n",
       "d    0.845657\n",
       "dtype: float64"
      ]
     },
     "execution_count": 43,
     "metadata": {},
     "output_type": "execute_result"
    }
   ],
   "source": [
    " ###Following example will return a range of values in series whose value is greater than the median of series\n",
    "s[s > s.median()]"
   ]
  },
  {
   "cell_type": "code",
   "execution_count": 45,
   "id": "de5e1517-c1df-4222-a6bc-b608a7f1a3d7",
   "metadata": {},
   "outputs": [
    {
     "data": {
      "text/plain": [
       "e   -0.627893\n",
       "d    0.845657\n",
       "b   -0.239999\n",
       "dtype: float64"
      ]
     },
     "execution_count": 45,
     "metadata": {},
     "output_type": "execute_result"
    }
   ],
   "source": [
    "s.iloc[[4, 3, 1]]  # ✅ Correct and future-proof\n"
   ]
  },
  {
   "cell_type": "code",
   "execution_count": 49,
   "id": "fc0b1705-63c7-47f3-9598-698c5291c61b",
   "metadata": {},
   "outputs": [
    {
     "data": {
      "text/plain": [
       "a    1.199911\n",
       "b    0.786628\n",
       "c    1.897131\n",
       "d    2.329508\n",
       "e    0.533715\n",
       "dtype: float64"
      ]
     },
     "execution_count": 49,
     "metadata": {},
     "output_type": "execute_result"
    }
   ],
   "source": [
    "###Following example returns the exponent values. just like e^a (here a is index and its respective data is placed here)\n",
    "np.exp(s)"
   ]
  },
  {
   "cell_type": "code",
   "execution_count": 50,
   "id": "31c899a6-42bb-4ce4-8e63-bdf50caedba2",
   "metadata": {},
   "outputs": [
    {
     "data": {
      "text/plain": [
       "np.float64(0.18224713273240617)"
      ]
     },
     "execution_count": 50,
     "metadata": {},
     "output_type": "execute_result"
    }
   ],
   "source": [
    "## Following example will get the data of given index\"\"\"\n",
    "s['a']"
   ]
  },
  {
   "cell_type": "code",
   "execution_count": 51,
   "id": "1097e460-3f1d-48ec-9879-e0f64e7e21d8",
   "metadata": {},
   "outputs": [
    {
     "name": "stdout",
     "output_type": "stream",
     "text": [
      "-0.4099336125957855\n"
     ]
    }
   ],
   "source": [
    "import pandas as pd\n",
    "\n",
    "# Example Series with specific index and values\n",
    "s = pd.Series({'a': -0.4099336125957855, 'b': 0.25, 'c': 0.7})\n",
    "\n",
    "# Get value at index 'a'\n",
    "print(s['a'])  # ✅ Output: -0.4099336125957855\n"
   ]
  },
  {
   "cell_type": "code",
   "execution_count": 52,
   "id": "7140b07d-a1bc-478d-a7d1-1eac1f680f51",
   "metadata": {},
   "outputs": [
    {
     "data": {
      "text/plain": [
       "np.float64(-0.4099336125957855)"
      ]
     },
     "execution_count": 52,
     "metadata": {},
     "output_type": "execute_result"
    }
   ],
   "source": [
    "## Following example will get the data of given index\"\"\"\n",
    "s['a']"
   ]
  },
  {
   "cell_type": "code",
   "execution_count": 53,
   "id": "3b21aef4-7a52-42aa-83a6-7d6b4a2b580f",
   "metadata": {},
   "outputs": [
    {
     "data": {
      "text/plain": [
       "a    -0.409934\n",
       "b     0.250000\n",
       "c     0.700000\n",
       "e    12.000000\n",
       "dtype: float64"
      ]
     },
     "execution_count": 53,
     "metadata": {},
     "output_type": "execute_result"
    }
   ],
   "source": [
    "##3Following example will update the data of the given index\"\"\"\n",
    "s['e'] = 12.\n",
    "s # before updating e = 1.399281 but after updating e = 12.000000"
   ]
  },
  {
   "cell_type": "code",
   "execution_count": 54,
   "id": "c58afd2a-cd04-40c4-ae61-0f476ea6208b",
   "metadata": {},
   "outputs": [
    {
     "data": {
      "text/plain": [
       "True"
      ]
     },
     "execution_count": 54,
     "metadata": {},
     "output_type": "execute_result"
    }
   ],
   "source": [
    " ### Following will return true if 'e' is in the values of index otherwise false\n",
    "'e' in s"
   ]
  },
  {
   "cell_type": "code",
   "execution_count": 57,
   "id": "1bd4edf0-d71e-4f26-a395-8f8f0c24ba9e",
   "metadata": {},
   "outputs": [
    {
     "ename": "KeyError",
     "evalue": "'f'",
     "output_type": "error",
     "traceback": [
      "\u001b[31m---------------------------------------------------------------------------\u001b[39m",
      "\u001b[31mKeyError\u001b[39m                                  Traceback (most recent call last)",
      "\u001b[36mFile \u001b[39m\u001b[32mD:\\JupyterProject\\.venv\\Lib\\site-packages\\pandas\\core\\indexes\\base.py:3812\u001b[39m, in \u001b[36mIndex.get_loc\u001b[39m\u001b[34m(self, key)\u001b[39m\n\u001b[32m   3811\u001b[39m \u001b[38;5;28;01mtry\u001b[39;00m:\n\u001b[32m-> \u001b[39m\u001b[32m3812\u001b[39m     \u001b[38;5;28;01mreturn\u001b[39;00m \u001b[38;5;28;43mself\u001b[39;49m\u001b[43m.\u001b[49m\u001b[43m_engine\u001b[49m\u001b[43m.\u001b[49m\u001b[43mget_loc\u001b[49m\u001b[43m(\u001b[49m\u001b[43mcasted_key\u001b[49m\u001b[43m)\u001b[49m\n\u001b[32m   3813\u001b[39m \u001b[38;5;28;01mexcept\u001b[39;00m \u001b[38;5;167;01mKeyError\u001b[39;00m \u001b[38;5;28;01mas\u001b[39;00m err:\n",
      "\u001b[36mFile \u001b[39m\u001b[32mpandas/_libs/index.pyx:167\u001b[39m, in \u001b[36mpandas._libs.index.IndexEngine.get_loc\u001b[39m\u001b[34m()\u001b[39m\n",
      "\u001b[36mFile \u001b[39m\u001b[32mpandas/_libs/index.pyx:196\u001b[39m, in \u001b[36mpandas._libs.index.IndexEngine.get_loc\u001b[39m\u001b[34m()\u001b[39m\n",
      "\u001b[36mFile \u001b[39m\u001b[32mpandas/_libs/hashtable_class_helper.pxi:7088\u001b[39m, in \u001b[36mpandas._libs.hashtable.PyObjectHashTable.get_item\u001b[39m\u001b[34m()\u001b[39m\n",
      "\u001b[36mFile \u001b[39m\u001b[32mpandas/_libs/hashtable_class_helper.pxi:7096\u001b[39m, in \u001b[36mpandas._libs.hashtable.PyObjectHashTable.get_item\u001b[39m\u001b[34m()\u001b[39m\n",
      "\u001b[31mKeyError\u001b[39m: 'f'",
      "\nThe above exception was the direct cause of the following exception:\n",
      "\u001b[31mKeyError\u001b[39m                                  Traceback (most recent call last)",
      "\u001b[36mCell\u001b[39m\u001b[36m \u001b[39m\u001b[32mIn[57]\u001b[39m\u001b[32m, line 2\u001b[39m\n\u001b[32m      1\u001b[39m \u001b[38;5;66;03m## If a label is not contained and you are trying to access its data, an exception is raised: \u001b[39;00m\n\u001b[32m----> \u001b[39m\u001b[32m2\u001b[39m \u001b[43ms\u001b[49m\u001b[43m[\u001b[49m\u001b[33;43m'\u001b[39;49m\u001b[33;43mf\u001b[39;49m\u001b[33;43m'\u001b[39;49m\u001b[43m]\u001b[49m\n\u001b[32m      3\u001b[39m \u001b[38;5;66;03m# This will create error\u001b[39;00m\n",
      "\u001b[36mFile \u001b[39m\u001b[32mD:\\JupyterProject\\.venv\\Lib\\site-packages\\pandas\\core\\series.py:1130\u001b[39m, in \u001b[36mSeries.__getitem__\u001b[39m\u001b[34m(self, key)\u001b[39m\n\u001b[32m   1127\u001b[39m     \u001b[38;5;28;01mreturn\u001b[39;00m \u001b[38;5;28mself\u001b[39m._values[key]\n\u001b[32m   1129\u001b[39m \u001b[38;5;28;01melif\u001b[39;00m key_is_scalar:\n\u001b[32m-> \u001b[39m\u001b[32m1130\u001b[39m     \u001b[38;5;28;01mreturn\u001b[39;00m \u001b[38;5;28;43mself\u001b[39;49m\u001b[43m.\u001b[49m\u001b[43m_get_value\u001b[49m\u001b[43m(\u001b[49m\u001b[43mkey\u001b[49m\u001b[43m)\u001b[49m\n\u001b[32m   1132\u001b[39m \u001b[38;5;66;03m# Convert generator to list before going through hashable part\u001b[39;00m\n\u001b[32m   1133\u001b[39m \u001b[38;5;66;03m# (We will iterate through the generator there to check for slices)\u001b[39;00m\n\u001b[32m   1134\u001b[39m \u001b[38;5;28;01mif\u001b[39;00m is_iterator(key):\n",
      "\u001b[36mFile \u001b[39m\u001b[32mD:\\JupyterProject\\.venv\\Lib\\site-packages\\pandas\\core\\series.py:1246\u001b[39m, in \u001b[36mSeries._get_value\u001b[39m\u001b[34m(self, label, takeable)\u001b[39m\n\u001b[32m   1243\u001b[39m     \u001b[38;5;28;01mreturn\u001b[39;00m \u001b[38;5;28mself\u001b[39m._values[label]\n\u001b[32m   1245\u001b[39m \u001b[38;5;66;03m# Similar to Index.get_value, but we do not fall back to positional\u001b[39;00m\n\u001b[32m-> \u001b[39m\u001b[32m1246\u001b[39m loc = \u001b[38;5;28;43mself\u001b[39;49m\u001b[43m.\u001b[49m\u001b[43mindex\u001b[49m\u001b[43m.\u001b[49m\u001b[43mget_loc\u001b[49m\u001b[43m(\u001b[49m\u001b[43mlabel\u001b[49m\u001b[43m)\u001b[49m\n\u001b[32m   1248\u001b[39m \u001b[38;5;28;01mif\u001b[39;00m is_integer(loc):\n\u001b[32m   1249\u001b[39m     \u001b[38;5;28;01mreturn\u001b[39;00m \u001b[38;5;28mself\u001b[39m._values[loc]\n",
      "\u001b[36mFile \u001b[39m\u001b[32mD:\\JupyterProject\\.venv\\Lib\\site-packages\\pandas\\core\\indexes\\base.py:3819\u001b[39m, in \u001b[36mIndex.get_loc\u001b[39m\u001b[34m(self, key)\u001b[39m\n\u001b[32m   3814\u001b[39m     \u001b[38;5;28;01mif\u001b[39;00m \u001b[38;5;28misinstance\u001b[39m(casted_key, \u001b[38;5;28mslice\u001b[39m) \u001b[38;5;129;01mor\u001b[39;00m (\n\u001b[32m   3815\u001b[39m         \u001b[38;5;28misinstance\u001b[39m(casted_key, abc.Iterable)\n\u001b[32m   3816\u001b[39m         \u001b[38;5;129;01mand\u001b[39;00m \u001b[38;5;28many\u001b[39m(\u001b[38;5;28misinstance\u001b[39m(x, \u001b[38;5;28mslice\u001b[39m) \u001b[38;5;28;01mfor\u001b[39;00m x \u001b[38;5;129;01min\u001b[39;00m casted_key)\n\u001b[32m   3817\u001b[39m     ):\n\u001b[32m   3818\u001b[39m         \u001b[38;5;28;01mraise\u001b[39;00m InvalidIndexError(key)\n\u001b[32m-> \u001b[39m\u001b[32m3819\u001b[39m     \u001b[38;5;28;01mraise\u001b[39;00m \u001b[38;5;167;01mKeyError\u001b[39;00m(key) \u001b[38;5;28;01mfrom\u001b[39;00m\u001b[38;5;250m \u001b[39m\u001b[34;01merr\u001b[39;00m\n\u001b[32m   3820\u001b[39m \u001b[38;5;28;01mexcept\u001b[39;00m \u001b[38;5;167;01mTypeError\u001b[39;00m:\n\u001b[32m   3821\u001b[39m     \u001b[38;5;66;03m# If we have a listlike key, _check_indexing_error will raise\u001b[39;00m\n\u001b[32m   3822\u001b[39m     \u001b[38;5;66;03m#  InvalidIndexError. Otherwise we fall through and re-raise\u001b[39;00m\n\u001b[32m   3823\u001b[39m     \u001b[38;5;66;03m#  the TypeError.\u001b[39;00m\n\u001b[32m   3824\u001b[39m     \u001b[38;5;28mself\u001b[39m._check_indexing_error(key)\n",
      "\u001b[31mKeyError\u001b[39m: 'f'"
     ]
    }
   ],
   "source": [
    "## If a label is not contained and you are trying to access its data, an exception is raised: \n",
    "s['f']\n",
    "# This will create error"
   ]
  },
  {
   "cell_type": "code",
   "execution_count": 56,
   "id": "5bdbc852-f62b-4c5b-a2ff-6b4bd2b0d545",
   "metadata": {},
   "outputs": [
    {
     "data": {
      "text/plain": [
       "nan"
      ]
     },
     "execution_count": 56,
     "metadata": {},
     "output_type": "execute_result"
    }
   ],
   "source": [
    "###Using the get method, a missing label will return None or specified default\n",
    "s.get('f') #it will return none\n",
    "s.get('f', np.nan) #it will return default value\n"
   ]
  },
  {
   "cell_type": "markdown",
   "id": "d5156f02-aef6-450e-bb68-68a479cfec92",
   "metadata": {},
   "source": [
    "### 10.6 Vectorized operations and label alignment with Series\n"
   ]
  },
  {
   "cell_type": "code",
   "execution_count": 58,
   "id": "fd8a95d0-fc77-4583-8a3b-ab7500a862ba",
   "metadata": {},
   "outputs": [
    {
     "data": {
      "text/plain": [
       "a    -0.819867\n",
       "b     0.500000\n",
       "c     1.400000\n",
       "e    24.000000\n",
       "dtype: float64"
      ]
     },
     "execution_count": 58,
     "metadata": {},
     "output_type": "execute_result"
    }
   ],
   "source": [
    "\"\"\"following will add the data of respective values of indexes. For example, in given output, it is calculate\n",
    "d as: a = s['a'] +\n",
    "s['a'] b = s['b'] +\n",
    "s['b'] c = s['c'] +\n",
    "s['c'] d = s['d'] +\n",
    "s['d'] e = s['e'] +\n",
    "s['e']\n",
    "\"\"\"\n",
    "s + s"
   ]
  },
  {
   "cell_type": "code",
   "execution_count": 59,
   "id": "6c93d93b-e876-4c6d-962c-f6fa6877819c",
   "metadata": {},
   "outputs": [
    {
     "data": {
      "text/plain": [
       "a    -0.819867\n",
       "b     0.500000\n",
       "c     1.400000\n",
       "e    24.000000\n",
       "dtype: float64"
      ]
     },
     "execution_count": 59,
     "metadata": {},
     "output_type": "execute_result"
    }
   ],
   "source": [
    "\"\"\"following will multiply the data of each values of indexes, with 2. For example, in given output, it is ca\n",
    "lculated as:\n",
    "a = s['a'] *2\n",
    "b = s['b'] *2\n",
    "c = s['c'] *2\n",
    "d = s['d'] *2\n",
    "e = s['e'] *2\"\"\"\n",
    "s * 2\n"
   ]
  },
  {
   "cell_type": "code",
   "execution_count": 64,
   "id": "866609bb-4778-4436-a8b4-49b3f8561e6d",
   "metadata": {},
   "outputs": [
    {
     "data": {
      "text/plain": [
       "0    0.155836\n",
       "1    0.758400\n",
       "2    1.174211\n",
       "3   -0.637707\n",
       "4    1.009269\n",
       "Name: CyberGEN AI Developers Boot Camp, dtype: float64"
      ]
     },
     "execution_count": 64,
     "metadata": {},
     "output_type": "execute_result"
    }
   ],
   "source": [
    "s = pd.Series(np.random.randn(5), name='CyberGEN AI Developers Boot Camp')\n",
    "s\n"
   ]
  },
  {
   "cell_type": "code",
   "execution_count": 62,
   "id": "4ba10682-4945-47c4-9708-717bd21ea2c4",
   "metadata": {},
   "outputs": [
    {
     "data": {
      "text/plain": [
       "'something'"
      ]
     },
     "execution_count": 62,
     "metadata": {},
     "output_type": "execute_result"
    }
   ],
   "source": [
    "s.name #print the name attribute of series\n"
   ]
  },
  {
   "cell_type": "code",
   "execution_count": 63,
   "id": "7285df83-5e96-4f9e-8cdc-2d60addc5127",
   "metadata": {},
   "outputs": [
    {
     "data": {
      "text/plain": [
       "'TAHA AMER'"
      ]
     },
     "execution_count": 63,
     "metadata": {},
     "output_type": "execute_result"
    }
   ],
   "source": [
    "#rename the series name attribute and assign to s2 object. Note that s and s2 refer to different objects.\n",
    "s2 = s.rename(\"TAHA AMER\")\n",
    "s2.name\n"
   ]
  },
  {
   "cell_type": "markdown",
   "id": "7578310f-f981-4dd2-b40a-b2f02ee98c3a",
   "metadata": {},
   "source": [
    "## 11. Data Frames"
   ]
  },
  {
   "cell_type": "markdown",
   "id": "54bc9946-2d2d-4fbe-91d3-0a9010fe0155",
   "metadata": {},
   "source": [
    "### 11.1 From dict of Series or dicts"
   ]
  },
  {
   "cell_type": "code",
   "execution_count": 65,
   "id": "a3e90dae-9014-4de9-afaf-b139faab5ada",
   "metadata": {},
   "outputs": [
    {
     "data": {
      "text/html": [
       "<div>\n",
       "<style scoped>\n",
       "    .dataframe tbody tr th:only-of-type {\n",
       "        vertical-align: middle;\n",
       "    }\n",
       "\n",
       "    .dataframe tbody tr th {\n",
       "        vertical-align: top;\n",
       "    }\n",
       "\n",
       "    .dataframe thead th {\n",
       "        text-align: right;\n",
       "    }\n",
       "</style>\n",
       "<table border=\"1\" class=\"dataframe\">\n",
       "  <thead>\n",
       "    <tr style=\"text-align: right;\">\n",
       "      <th></th>\n",
       "      <th>one</th>\n",
       "      <th>two</th>\n",
       "    </tr>\n",
       "  </thead>\n",
       "  <tbody>\n",
       "    <tr>\n",
       "      <th>a</th>\n",
       "      <td>1.0</td>\n",
       "      <td>1.0</td>\n",
       "    </tr>\n",
       "    <tr>\n",
       "      <th>b</th>\n",
       "      <td>2.0</td>\n",
       "      <td>2.0</td>\n",
       "    </tr>\n",
       "    <tr>\n",
       "      <th>c</th>\n",
       "      <td>3.0</td>\n",
       "      <td>3.0</td>\n",
       "    </tr>\n",
       "    <tr>\n",
       "      <th>d</th>\n",
       "      <td>NaN</td>\n",
       "      <td>4.0</td>\n",
       "    </tr>\n",
       "  </tbody>\n",
       "</table>\n",
       "</div>"
      ],
      "text/plain": [
       "   one  two\n",
       "a  1.0  1.0\n",
       "b  2.0  2.0\n",
       "c  3.0  3.0\n",
       "d  NaN  4.0"
      ]
     },
     "execution_count": 65,
     "metadata": {},
     "output_type": "execute_result"
    }
   ],
   "source": [
    "\"\"\" A dict is created \"\"\"\n",
    "d = {\n",
    "'one' : pd.Series([1., 2., 3.], index=['a', 'b', 'c']),\n",
    "'two' : pd.Series([1., 2., 3., 4.], index=['a', 'b', 'c', 'd'])\n",
    "}\n",
    "\"\"\"create a dataframe. row label will be the indes of a series. As coloum labels are not given so it\n",
    "will be sorted list of dict keys\"\"\"\n",
    "df=pd.DataFrame(d)\n",
    "df"
   ]
  },
  {
   "cell_type": "code",
   "execution_count": 70,
   "id": "418eeac2-eddf-4582-87f5-080fabf7b147",
   "metadata": {},
   "outputs": [
    {
     "data": {
      "text/html": [
       "<div>\n",
       "<style scoped>\n",
       "    .dataframe tbody tr th:only-of-type {\n",
       "        vertical-align: middle;\n",
       "    }\n",
       "\n",
       "    .dataframe tbody tr th {\n",
       "        vertical-align: top;\n",
       "    }\n",
       "\n",
       "    .dataframe thead th {\n",
       "        text-align: right;\n",
       "    }\n",
       "</style>\n",
       "<table border=\"1\" class=\"dataframe\">\n",
       "  <thead>\n",
       "    <tr style=\"text-align: right;\">\n",
       "      <th></th>\n",
       "      <th>one</th>\n",
       "      <th>two</th>\n",
       "    </tr>\n",
       "  </thead>\n",
       "  <tbody>\n",
       "    <tr>\n",
       "      <th>d</th>\n",
       "      <td>NaN</td>\n",
       "      <td>4.0</td>\n",
       "    </tr>\n",
       "    <tr>\n",
       "      <th>b</th>\n",
       "      <td>2.0</td>\n",
       "      <td>2.0</td>\n",
       "    </tr>\n",
       "    <tr>\n",
       "      <th>a</th>\n",
       "      <td>1.0</td>\n",
       "      <td>1.0</td>\n",
       "    </tr>\n",
       "  </tbody>\n",
       "</table>\n",
       "</div>"
      ],
      "text/plain": [
       "   one  two\n",
       "d  NaN  4.0\n",
       "b  2.0  2.0\n",
       "a  1.0  1.0"
      ]
     },
     "execution_count": 70,
     "metadata": {},
     "output_type": "execute_result"
    }
   ],
   "source": [
    "###A data frame will be constructed for given row labels\"\"\"\n",
    "pd.DataFrame(d, index=['d', 'b', 'a'])"
   ]
  },
  {
   "cell_type": "code",
   "execution_count": 69,
   "id": "9a9a2fba-a1a7-498e-8509-421d234e016b",
   "metadata": {},
   "outputs": [
    {
     "data": {
      "text/html": [
       "<div>\n",
       "<style scoped>\n",
       "    .dataframe tbody tr th:only-of-type {\n",
       "        vertical-align: middle;\n",
       "    }\n",
       "\n",
       "    .dataframe tbody tr th {\n",
       "        vertical-align: top;\n",
       "    }\n",
       "\n",
       "    .dataframe thead th {\n",
       "        text-align: right;\n",
       "    }\n",
       "</style>\n",
       "<table border=\"1\" class=\"dataframe\">\n",
       "  <thead>\n",
       "    <tr style=\"text-align: right;\">\n",
       "      <th></th>\n",
       "      <th>one</th>\n",
       "      <th>two</th>\n",
       "    </tr>\n",
       "  </thead>\n",
       "  <tbody>\n",
       "    <tr>\n",
       "      <th>d</th>\n",
       "      <td>NaN</td>\n",
       "      <td>4.0</td>\n",
       "    </tr>\n",
       "    <tr>\n",
       "      <th>b</th>\n",
       "      <td>2.0</td>\n",
       "      <td>2.0</td>\n",
       "    </tr>\n",
       "    <tr>\n",
       "      <th>a</th>\n",
       "      <td>1.0</td>\n",
       "      <td>1.0</td>\n",
       "    </tr>\n",
       "  </tbody>\n",
       "</table>\n",
       "</div>"
      ],
      "text/plain": [
       "   one  two\n",
       "d  NaN  4.0\n",
       "b  2.0  2.0\n",
       "a  1.0  1.0"
      ]
     },
     "execution_count": 69,
     "metadata": {},
     "output_type": "execute_result"
    }
   ],
   "source": [
    "pd.DataFrame(d, index=['d', 'b', 'a'])"
   ]
  },
  {
   "cell_type": "code",
   "execution_count": 71,
   "id": "70acda0b-bf82-4414-9a84-afbdb27decdd",
   "metadata": {},
   "outputs": [
    {
     "data": {
      "text/html": [
       "<div>\n",
       "<style scoped>\n",
       "    .dataframe tbody tr th:only-of-type {\n",
       "        vertical-align: middle;\n",
       "    }\n",
       "\n",
       "    .dataframe tbody tr th {\n",
       "        vertical-align: top;\n",
       "    }\n",
       "\n",
       "    .dataframe thead th {\n",
       "        text-align: right;\n",
       "    }\n",
       "</style>\n",
       "<table border=\"1\" class=\"dataframe\">\n",
       "  <thead>\n",
       "    <tr style=\"text-align: right;\">\n",
       "      <th></th>\n",
       "      <th>two</th>\n",
       "      <th>three</th>\n",
       "    </tr>\n",
       "  </thead>\n",
       "  <tbody>\n",
       "    <tr>\n",
       "      <th>d</th>\n",
       "      <td>4.0</td>\n",
       "      <td>NaN</td>\n",
       "    </tr>\n",
       "    <tr>\n",
       "      <th>b</th>\n",
       "      <td>2.0</td>\n",
       "      <td>NaN</td>\n",
       "    </tr>\n",
       "    <tr>\n",
       "      <th>a</th>\n",
       "      <td>1.0</td>\n",
       "      <td>NaN</td>\n",
       "    </tr>\n",
       "  </tbody>\n",
       "</table>\n",
       "</div>"
      ],
      "text/plain": [
       "   two three\n",
       "d  4.0   NaN\n",
       "b  2.0   NaN\n",
       "a  1.0   NaN"
      ]
     },
     "execution_count": 71,
     "metadata": {},
     "output_type": "execute_result"
    }
   ],
   "source": [
    "\"\"\"following example shows a data frame when we give coloumn labels\"\"\"\n",
    "pd.DataFrame(d, index=['d', 'b', 'a'], columns=['two', 'three'])"
   ]
  },
  {
   "cell_type": "code",
   "execution_count": 72,
   "id": "df9cf0b8-437c-4739-84cd-1e77169ad6d7",
   "metadata": {},
   "outputs": [
    {
     "data": {
      "text/plain": [
       "Index(['one', 'two'], dtype='object')"
      ]
     },
     "execution_count": 72,
     "metadata": {},
     "output_type": "execute_result"
    }
   ],
   "source": [
    " df.columns\n"
   ]
  },
  {
   "cell_type": "markdown",
   "id": "93e301f4-d282-40a4-8430-c180ae15319d",
   "metadata": {},
   "source": [
    "### 11.2 From dict of ndarrays / lists\n"
   ]
  },
  {
   "cell_type": "code",
   "execution_count": 75,
   "id": "381d92fc-a9b8-4518-9ea9-39adb086b336",
   "metadata": {},
   "outputs": [
    {
     "data": {
      "text/html": [
       "<div>\n",
       "<style scoped>\n",
       "    .dataframe tbody tr th:only-of-type {\n",
       "        vertical-align: middle;\n",
       "    }\n",
       "\n",
       "    .dataframe tbody tr th {\n",
       "        vertical-align: top;\n",
       "    }\n",
       "\n",
       "    .dataframe thead th {\n",
       "        text-align: right;\n",
       "    }\n",
       "</style>\n",
       "<table border=\"1\" class=\"dataframe\">\n",
       "  <thead>\n",
       "    <tr style=\"text-align: right;\">\n",
       "      <th></th>\n",
       "      <th>one</th>\n",
       "      <th>two</th>\n",
       "    </tr>\n",
       "  </thead>\n",
       "  <tbody>\n",
       "    <tr>\n",
       "      <th>0</th>\n",
       "      <td>1.0</td>\n",
       "      <td>4.0</td>\n",
       "    </tr>\n",
       "    <tr>\n",
       "      <th>1</th>\n",
       "      <td>2.0</td>\n",
       "      <td>3.0</td>\n",
       "    </tr>\n",
       "    <tr>\n",
       "      <th>2</th>\n",
       "      <td>3.0</td>\n",
       "      <td>2.0</td>\n",
       "    </tr>\n",
       "    <tr>\n",
       "      <th>3</th>\n",
       "      <td>4.0</td>\n",
       "      <td>1.0</td>\n",
       "    </tr>\n",
       "  </tbody>\n",
       "</table>\n",
       "</div>"
      ],
      "text/plain": [
       "   one  two\n",
       "0  1.0  4.0\n",
       "1  2.0  3.0\n",
       "2  3.0  2.0\n",
       "3  4.0  1.0"
      ]
     },
     "execution_count": 75,
     "metadata": {},
     "output_type": "execute_result"
    }
   ],
   "source": [
    "\"\"\"following examples shows that ndarray has same length\"\"\"\n",
    "d = {\n",
    "'one' : [1., 2., 3., 4.],\n",
    "'two' : [4., 3., 2., 1.]\n",
    "}\n",
    "\"\"\"column labels are not given so the result will be range(n), where n is the array length\"\"\"\n",
    "pd.DataFrame(d)"
   ]
  },
  {
   "cell_type": "code",
   "execution_count": 76,
   "id": "a1ab8470-c9bf-4394-9333-0e023d7a615c",
   "metadata": {},
   "outputs": [
    {
     "data": {
      "text/html": [
       "<div>\n",
       "<style scoped>\n",
       "    .dataframe tbody tr th:only-of-type {\n",
       "        vertical-align: middle;\n",
       "    }\n",
       "\n",
       "    .dataframe tbody tr th {\n",
       "        vertical-align: top;\n",
       "    }\n",
       "\n",
       "    .dataframe thead th {\n",
       "        text-align: right;\n",
       "    }\n",
       "</style>\n",
       "<table border=\"1\" class=\"dataframe\">\n",
       "  <thead>\n",
       "    <tr style=\"text-align: right;\">\n",
       "      <th></th>\n",
       "      <th>one</th>\n",
       "      <th>two</th>\n",
       "    </tr>\n",
       "  </thead>\n",
       "  <tbody>\n",
       "    <tr>\n",
       "      <th>a</th>\n",
       "      <td>1.0</td>\n",
       "      <td>4.0</td>\n",
       "    </tr>\n",
       "    <tr>\n",
       "      <th>b</th>\n",
       "      <td>2.0</td>\n",
       "      <td>3.0</td>\n",
       "    </tr>\n",
       "    <tr>\n",
       "      <th>c</th>\n",
       "      <td>3.0</td>\n",
       "      <td>2.0</td>\n",
       "    </tr>\n",
       "    <tr>\n",
       "      <th>d</th>\n",
       "      <td>4.0</td>\n",
       "      <td>1.0</td>\n",
       "    </tr>\n",
       "  </tbody>\n",
       "</table>\n",
       "</div>"
      ],
      "text/plain": [
       "   one  two\n",
       "a  1.0  4.0\n",
       "b  2.0  3.0\n",
       "c  3.0  2.0\n",
       "d  4.0  1.0"
      ]
     },
     "execution_count": 76,
     "metadata": {},
     "output_type": "execute_result"
    }
   ],
   "source": [
    "\"\"\"If indexs are given then it would be same length as arrays\"\"\"\n",
    "pd.DataFrame(d, index=['a', 'b', 'c', 'd'])\n"
   ]
  },
  {
   "cell_type": "markdown",
   "id": "8df05224-bd8c-4fa6-a934-cfb78c211dde",
   "metadata": {},
   "source": [
    "### 11.3 From a list of dicts"
   ]
  },
  {
   "cell_type": "code",
   "execution_count": 77,
   "id": "f87ac1c2-0cb0-4e05-b1d8-38f0a5885d47",
   "metadata": {},
   "outputs": [
    {
     "data": {
      "text/html": [
       "<div>\n",
       "<style scoped>\n",
       "    .dataframe tbody tr th:only-of-type {\n",
       "        vertical-align: middle;\n",
       "    }\n",
       "\n",
       "    .dataframe tbody tr th {\n",
       "        vertical-align: top;\n",
       "    }\n",
       "\n",
       "    .dataframe thead th {\n",
       "        text-align: right;\n",
       "    }\n",
       "</style>\n",
       "<table border=\"1\" class=\"dataframe\">\n",
       "  <thead>\n",
       "    <tr style=\"text-align: right;\">\n",
       "      <th></th>\n",
       "      <th>a</th>\n",
       "      <th>b</th>\n",
       "      <th>c</th>\n",
       "    </tr>\n",
       "  </thead>\n",
       "  <tbody>\n",
       "    <tr>\n",
       "      <th>0</th>\n",
       "      <td>1</td>\n",
       "      <td>2</td>\n",
       "      <td>NaN</td>\n",
       "    </tr>\n",
       "    <tr>\n",
       "      <th>1</th>\n",
       "      <td>5</td>\n",
       "      <td>10</td>\n",
       "      <td>20.0</td>\n",
       "    </tr>\n",
       "  </tbody>\n",
       "</table>\n",
       "</div>"
      ],
      "text/plain": [
       "   a   b     c\n",
       "0  1   2   NaN\n",
       "1  5  10  20.0"
      ]
     },
     "execution_count": 77,
     "metadata": {},
     "output_type": "execute_result"
    }
   ],
   "source": [
    "\"\"\"constructing data frame from a list of dicts\"\"\"\n",
    "data2 = [{'a': 1, 'b': 2}, {'a': 5, 'b': 10, 'c': 20}]\n",
    "pd.DataFrame(data2)"
   ]
  },
  {
   "cell_type": "code",
   "execution_count": 79,
   "id": "a092ec8c-4dbb-44d0-895c-89ece443b255",
   "metadata": {},
   "outputs": [
    {
     "data": {
      "text/html": [
       "<div>\n",
       "<style scoped>\n",
       "    .dataframe tbody tr th:only-of-type {\n",
       "        vertical-align: middle;\n",
       "    }\n",
       "\n",
       "    .dataframe tbody tr th {\n",
       "        vertical-align: top;\n",
       "    }\n",
       "\n",
       "    .dataframe thead th {\n",
       "        text-align: right;\n",
       "    }\n",
       "</style>\n",
       "<table border=\"1\" class=\"dataframe\">\n",
       "  <thead>\n",
       "    <tr style=\"text-align: right;\">\n",
       "      <th></th>\n",
       "      <th>a</th>\n",
       "      <th>b</th>\n",
       "      <th>c</th>\n",
       "    </tr>\n",
       "  </thead>\n",
       "  <tbody>\n",
       "    <tr>\n",
       "      <th>first</th>\n",
       "      <td>1</td>\n",
       "      <td>2</td>\n",
       "      <td>NaN</td>\n",
       "    </tr>\n",
       "    <tr>\n",
       "      <th>second</th>\n",
       "      <td>5</td>\n",
       "      <td>10</td>\n",
       "      <td>20.0</td>\n",
       "    </tr>\n",
       "  </tbody>\n",
       "</table>\n",
       "</div>"
      ],
      "text/plain": [
       "        a   b     c\n",
       "first   1   2   NaN\n",
       "second  5  10  20.0"
      ]
     },
     "execution_count": 79,
     "metadata": {},
     "output_type": "execute_result"
    }
   ],
   "source": [
    "\"\"\"passing list of dicts as data and indexes (row labels)\"\"\"\n",
    "pd.DataFrame(data2, index=['first', 'second'])\n"
   ]
  },
  {
   "cell_type": "code",
   "execution_count": 80,
   "id": "1d438e79-e90a-4bbc-bcb4-8c4be8e8f970",
   "metadata": {},
   "outputs": [
    {
     "data": {
      "text/html": [
       "<div>\n",
       "<style scoped>\n",
       "    .dataframe tbody tr th:only-of-type {\n",
       "        vertical-align: middle;\n",
       "    }\n",
       "\n",
       "    .dataframe tbody tr th {\n",
       "        vertical-align: top;\n",
       "    }\n",
       "\n",
       "    .dataframe thead th {\n",
       "        text-align: right;\n",
       "    }\n",
       "</style>\n",
       "<table border=\"1\" class=\"dataframe\">\n",
       "  <thead>\n",
       "    <tr style=\"text-align: right;\">\n",
       "      <th></th>\n",
       "      <th>a</th>\n",
       "      <th>b</th>\n",
       "    </tr>\n",
       "  </thead>\n",
       "  <tbody>\n",
       "    <tr>\n",
       "      <th>0</th>\n",
       "      <td>1</td>\n",
       "      <td>2</td>\n",
       "    </tr>\n",
       "    <tr>\n",
       "      <th>1</th>\n",
       "      <td>5</td>\n",
       "      <td>10</td>\n",
       "    </tr>\n",
       "  </tbody>\n",
       "</table>\n",
       "</div>"
      ],
      "text/plain": [
       "   a   b\n",
       "0  1   2\n",
       "1  5  10"
      ]
     },
     "execution_count": 80,
     "metadata": {},
     "output_type": "execute_result"
    }
   ],
   "source": [
    "\"\"\"passing list of dicts as data and columns (columns labels)\"\"\"\n",
    "pd.DataFrame(data2, columns=['a', 'b'])"
   ]
  },
  {
   "cell_type": "markdown",
   "id": "14f66b54-4876-4510-9af9-47b32b7a1c54",
   "metadata": {},
   "source": [
    "### 11.4 From a dict of tuples"
   ]
  },
  {
   "cell_type": "code",
   "execution_count": 83,
   "id": "4fe24942-c695-4045-8065-3d0ed209db7b",
   "metadata": {},
   "outputs": [
    {
     "data": {
      "text/html": [
       "<div>\n",
       "<style scoped>\n",
       "    .dataframe tbody tr th:only-of-type {\n",
       "        vertical-align: middle;\n",
       "    }\n",
       "\n",
       "    .dataframe tbody tr th {\n",
       "        vertical-align: top;\n",
       "    }\n",
       "\n",
       "    .dataframe thead tr th {\n",
       "        text-align: left;\n",
       "    }\n",
       "</style>\n",
       "<table border=\"1\" class=\"dataframe\">\n",
       "  <thead>\n",
       "    <tr>\n",
       "      <th></th>\n",
       "      <th></th>\n",
       "      <th colspan=\"3\" halign=\"left\">a</th>\n",
       "      <th colspan=\"2\" halign=\"left\">b</th>\n",
       "    </tr>\n",
       "    <tr>\n",
       "      <th></th>\n",
       "      <th></th>\n",
       "      <th>b</th>\n",
       "      <th>a</th>\n",
       "      <th>c</th>\n",
       "      <th>a</th>\n",
       "      <th>b</th>\n",
       "    </tr>\n",
       "  </thead>\n",
       "  <tbody>\n",
       "    <tr>\n",
       "      <th rowspan=\"3\" valign=\"top\">A</th>\n",
       "      <th>B</th>\n",
       "      <td>1.0</td>\n",
       "      <td>4.0</td>\n",
       "      <td>5.0</td>\n",
       "      <td>8.0</td>\n",
       "      <td>10.0</td>\n",
       "    </tr>\n",
       "    <tr>\n",
       "      <th>C</th>\n",
       "      <td>2.0</td>\n",
       "      <td>3.0</td>\n",
       "      <td>6.0</td>\n",
       "      <td>7.0</td>\n",
       "      <td>NaN</td>\n",
       "    </tr>\n",
       "    <tr>\n",
       "      <th>D</th>\n",
       "      <td>NaN</td>\n",
       "      <td>NaN</td>\n",
       "      <td>NaN</td>\n",
       "      <td>NaN</td>\n",
       "      <td>9.0</td>\n",
       "    </tr>\n",
       "  </tbody>\n",
       "</table>\n",
       "</div>"
      ],
      "text/plain": [
       "       a              b      \n",
       "       b    a    c    a     b\n",
       "A B  1.0  4.0  5.0  8.0  10.0\n",
       "  C  2.0  3.0  6.0  7.0   NaN\n",
       "  D  NaN  NaN  NaN  NaN   9.0"
      ]
     },
     "execution_count": 83,
     "metadata": {},
     "output_type": "execute_result"
    }
   ],
   "source": [
    "pd.DataFrame({('a', 'b'): {('A', 'B'): 1, ('A', 'C'): 2},\n",
    "               ('a', 'a'): {('A', 'C'): 3, ('A', 'B'): 4},\n",
    "               ('a', 'c'): {('A', 'B'): 5, ('A', 'C'): 6},\n",
    "               ('b', 'a'): {('A', 'C'): 7, ('A', 'B'): 8},\n",
    "               ('b', 'b'): {('A', 'D'): 9, ('A', 'B'): 10}})\n",
    "#\"NaN shows missing data\n"
   ]
  },
  {
   "cell_type": "markdown",
   "id": "4f0da20b-6707-4c66-b92a-4451da522e20",
   "metadata": {},
   "source": [
    "### 11.5 Alternate Constructors\n"
   ]
  },
  {
   "cell_type": "code",
   "execution_count": 88,
   "id": "7f228d85-6f75-4bf1-a08c-075817346cc0",
   "metadata": {},
   "outputs": [
    {
     "name": "stdout",
     "output_type": "stream",
     "text": [
      "[(0, 0., b'') (0, 0., b'')]\n"
     ]
    }
   ],
   "source": [
    "import numpy as np\n",
    "\n",
    "data = np.zeros((2,), dtype=[('A', 'i4'), ('B', 'f4'), ('C', 'S10')])\n",
    "print(data)\n"
   ]
  },
  {
   "cell_type": "code",
   "execution_count": 90,
   "id": "24f78925-876d-400a-b8c2-6aa033336428",
   "metadata": {},
   "outputs": [
    {
     "name": "stderr",
     "output_type": "stream",
     "text": [
      "C:\\Users\\Cd Inn\\AppData\\Local\\Temp\\ipykernel_9612\\1791032826.py:1: DeprecationWarning: Data type alias 'a' was deprecated in NumPy 2.0. Use the 'S' alias instead.\n",
      "  data = np.zeros((2,), dtype=[('A', 'i4'),('B', 'f4'),('C', 'a10')])\n"
     ]
    },
    {
     "data": {
      "text/plain": [
       "array([(0, 0., b''), (0, 0., b'')],\n",
       "      dtype=[('A', '<i4'), ('B', '<f4'), ('C', 'S10')])"
      ]
     },
     "execution_count": 90,
     "metadata": {},
     "output_type": "execute_result"
    }
   ],
   "source": [
    "data = np.zeros((2,), dtype=[('A', 'i4'),('B', 'f4'),('C', 'a10')])\n",
    "data\n"
   ]
  },
  {
   "cell_type": "code",
   "execution_count": 95,
   "id": "ff3850f5-8911-4ced-834a-7a0f4d3c9b1b",
   "metadata": {},
   "outputs": [
    {
     "data": {
      "text/html": [
       "<div>\n",
       "<style scoped>\n",
       "    .dataframe tbody tr th:only-of-type {\n",
       "        vertical-align: middle;\n",
       "    }\n",
       "\n",
       "    .dataframe tbody tr th {\n",
       "        vertical-align: top;\n",
       "    }\n",
       "\n",
       "    .dataframe thead th {\n",
       "        text-align: right;\n",
       "    }\n",
       "</style>\n",
       "<table border=\"1\" class=\"dataframe\">\n",
       "  <thead>\n",
       "    <tr style=\"text-align: right;\">\n",
       "      <th></th>\n",
       "      <th>A</th>\n",
       "      <th>B</th>\n",
       "    </tr>\n",
       "    <tr>\n",
       "      <th>C</th>\n",
       "      <th></th>\n",
       "      <th></th>\n",
       "    </tr>\n",
       "  </thead>\n",
       "  <tbody>\n",
       "    <tr>\n",
       "      <th>b''</th>\n",
       "      <td>0</td>\n",
       "      <td>0.0</td>\n",
       "    </tr>\n",
       "    <tr>\n",
       "      <th>b''</th>\n",
       "      <td>0</td>\n",
       "      <td>0.0</td>\n",
       "    </tr>\n",
       "  </tbody>\n",
       "</table>\n",
       "</div>"
      ],
      "text/plain": [
       "     A    B\n",
       "C          \n",
       "b''  0  0.0\n",
       "b''  0  0.0"
      ]
     },
     "execution_count": 95,
     "metadata": {},
     "output_type": "execute_result"
    }
   ],
   "source": [
    "pd.DataFrame.from_records(data, index='C')\n"
   ]
  },
  {
   "cell_type": "code",
   "execution_count": 97,
   "id": "b5703cc3-60a6-4fde-8590-adb5c8c0fc54",
   "metadata": {},
   "outputs": [
    {
     "name": "stdout",
     "output_type": "stream",
     "text": [
      "   A  B\n",
      "0  1  4\n",
      "1  2  5\n",
      "2  3  6\n"
     ]
    }
   ],
   "source": [
    "import pandas as pd\n",
    "\n",
    "df = pd.DataFrame([ [1, 4], [2, 5], [3, 6] ], columns=['A', 'B'])\n",
    "print(df)\n"
   ]
  },
  {
   "cell_type": "markdown",
   "id": "83a870b5-3525-40b2-ad91-156d7311d12a",
   "metadata": {},
   "source": [
    "### 11.6 Column selection, addition, deletion\n"
   ]
  },
  {
   "cell_type": "code",
   "execution_count": 104,
   "id": "0fc21ab1-cac0-4a9f-bde7-072e5143ba0b",
   "metadata": {},
   "outputs": [
    {
     "data": {
      "text/plain": [
       "A    1\n",
       "B    4\n",
       "Name: one, dtype: int64"
      ]
     },
     "execution_count": 104,
     "metadata": {},
     "output_type": "execute_result"
    }
   ],
   "source": [
    "df['one'] # it is displaying data under coloumn 'one'\n"
   ]
  },
  {
   "cell_type": "code",
   "execution_count": 106,
   "id": "7b27f2de-81a2-46e6-a0ac-c37571d11379",
   "metadata": {},
   "outputs": [],
   "source": [
    "df['three'] = df['one'] * df['two'] # assigning values to a colomn named 'three' after calculation\n"
   ]
  },
  {
   "cell_type": "code",
   "execution_count": 107,
   "id": "91db33ee-046e-4950-9106-37430ed90407",
   "metadata": {},
   "outputs": [],
   "source": [
    "df['flag'] = df['one'] > 2 #check if value at column 'one' is > 2 then assign True otherwise false\n"
   ]
  },
  {
   "cell_type": "code",
   "execution_count": 108,
   "id": "d53564dd-4ddb-461f-8b08-80e691ef8272",
   "metadata": {},
   "outputs": [
    {
     "data": {
      "text/html": [
       "<div>\n",
       "<style scoped>\n",
       "    .dataframe tbody tr th:only-of-type {\n",
       "        vertical-align: middle;\n",
       "    }\n",
       "\n",
       "    .dataframe tbody tr th {\n",
       "        vertical-align: top;\n",
       "    }\n",
       "\n",
       "    .dataframe thead th {\n",
       "        text-align: right;\n",
       "    }\n",
       "</style>\n",
       "<table border=\"1\" class=\"dataframe\">\n",
       "  <thead>\n",
       "    <tr style=\"text-align: right;\">\n",
       "      <th></th>\n",
       "      <th>one</th>\n",
       "      <th>two</th>\n",
       "      <th>three</th>\n",
       "      <th>flag</th>\n",
       "    </tr>\n",
       "  </thead>\n",
       "  <tbody>\n",
       "    <tr>\n",
       "      <th>A</th>\n",
       "      <td>1</td>\n",
       "      <td>2</td>\n",
       "      <td>2</td>\n",
       "      <td>False</td>\n",
       "    </tr>\n",
       "    <tr>\n",
       "      <th>B</th>\n",
       "      <td>4</td>\n",
       "      <td>5</td>\n",
       "      <td>20</td>\n",
       "      <td>True</td>\n",
       "    </tr>\n",
       "  </tbody>\n",
       "</table>\n",
       "</div>"
      ],
      "text/plain": [
       "   one  two  three   flag\n",
       "A    1    2      2  False\n",
       "B    4    5     20   True"
      ]
     },
     "execution_count": 108,
     "metadata": {},
     "output_type": "execute_result"
    }
   ],
   "source": [
    "df #print a complete data frame\n"
   ]
  },
  {
   "cell_type": "code",
   "execution_count": 109,
   "id": "f600c443-784b-485b-80e3-f0dcb2edad7c",
   "metadata": {},
   "outputs": [],
   "source": [
    "df['foo'] = 'bar' #a coloumn 'foo' will be populated with 'bar'\n"
   ]
  },
  {
   "cell_type": "code",
   "execution_count": 110,
   "id": "f28f5b3b-6999-4688-8d60-a63c6e01c424",
   "metadata": {},
   "outputs": [
    {
     "data": {
      "text/html": [
       "<div>\n",
       "<style scoped>\n",
       "    .dataframe tbody tr th:only-of-type {\n",
       "        vertical-align: middle;\n",
       "    }\n",
       "\n",
       "    .dataframe tbody tr th {\n",
       "        vertical-align: top;\n",
       "    }\n",
       "\n",
       "    .dataframe thead th {\n",
       "        text-align: right;\n",
       "    }\n",
       "</style>\n",
       "<table border=\"1\" class=\"dataframe\">\n",
       "  <thead>\n",
       "    <tr style=\"text-align: right;\">\n",
       "      <th></th>\n",
       "      <th>one</th>\n",
       "      <th>two</th>\n",
       "      <th>three</th>\n",
       "      <th>flag</th>\n",
       "      <th>foo</th>\n",
       "    </tr>\n",
       "  </thead>\n",
       "  <tbody>\n",
       "    <tr>\n",
       "      <th>A</th>\n",
       "      <td>1</td>\n",
       "      <td>2</td>\n",
       "      <td>2</td>\n",
       "      <td>False</td>\n",
       "      <td>bar</td>\n",
       "    </tr>\n",
       "    <tr>\n",
       "      <th>B</th>\n",
       "      <td>4</td>\n",
       "      <td>5</td>\n",
       "      <td>20</td>\n",
       "      <td>True</td>\n",
       "      <td>bar</td>\n",
       "    </tr>\n",
       "  </tbody>\n",
       "</table>\n",
       "</div>"
      ],
      "text/plain": [
       "   one  two  three   flag  foo\n",
       "A    1    2      2  False  bar\n",
       "B    4    5     20   True  bar"
      ]
     },
     "execution_count": 110,
     "metadata": {},
     "output_type": "execute_result"
    }
   ],
   "source": [
    "df"
   ]
  },
  {
   "cell_type": "code",
   "execution_count": 111,
   "id": "7197e347-57f3-4eec-baf7-1771e759aeab",
   "metadata": {},
   "outputs": [],
   "source": [
    "\"\"\"following example will take values from coloumn one until give range and will populate the new coloumn\"\"\"\n",
    "df['one_trunc'] = df['one'][:2]"
   ]
  },
  {
   "cell_type": "code",
   "execution_count": 112,
   "id": "19141aef-df1f-459d-b00c-91f477ba2443",
   "metadata": {},
   "outputs": [
    {
     "data": {
      "text/html": [
       "<div>\n",
       "<style scoped>\n",
       "    .dataframe tbody tr th:only-of-type {\n",
       "        vertical-align: middle;\n",
       "    }\n",
       "\n",
       "    .dataframe tbody tr th {\n",
       "        vertical-align: top;\n",
       "    }\n",
       "\n",
       "    .dataframe thead th {\n",
       "        text-align: right;\n",
       "    }\n",
       "</style>\n",
       "<table border=\"1\" class=\"dataframe\">\n",
       "  <thead>\n",
       "    <tr style=\"text-align: right;\">\n",
       "      <th></th>\n",
       "      <th>one</th>\n",
       "      <th>two</th>\n",
       "      <th>three</th>\n",
       "      <th>flag</th>\n",
       "      <th>foo</th>\n",
       "      <th>one_trunc</th>\n",
       "    </tr>\n",
       "  </thead>\n",
       "  <tbody>\n",
       "    <tr>\n",
       "      <th>A</th>\n",
       "      <td>1</td>\n",
       "      <td>2</td>\n",
       "      <td>2</td>\n",
       "      <td>False</td>\n",
       "      <td>bar</td>\n",
       "      <td>1</td>\n",
       "    </tr>\n",
       "    <tr>\n",
       "      <th>B</th>\n",
       "      <td>4</td>\n",
       "      <td>5</td>\n",
       "      <td>20</td>\n",
       "      <td>True</td>\n",
       "      <td>bar</td>\n",
       "      <td>4</td>\n",
       "    </tr>\n",
       "  </tbody>\n",
       "</table>\n",
       "</div>"
      ],
      "text/plain": [
       "   one  two  three   flag  foo  one_trunc\n",
       "A    1    2      2  False  bar          1\n",
       "B    4    5     20   True  bar          4"
      ]
     },
     "execution_count": 112,
     "metadata": {},
     "output_type": "execute_result"
    }
   ],
   "source": [
    "df"
   ]
  },
  {
   "cell_type": "code",
   "execution_count": 113,
   "id": "706afae3-9670-4c42-8df0-2d3bdd2664cc",
   "metadata": {},
   "outputs": [],
   "source": [
    "\"\"\"following function has three arguments.\n",
    "First argument: index where new coloumn will be inserted.\n",
    "Second argument: label or title of a new coloumn\n",
    "Third argument: it will create a coloumn at specified position\"\"\"\n",
    "df.insert(1, 'bar2', df['one'])"
   ]
  },
  {
   "cell_type": "code",
   "execution_count": 114,
   "id": "f7fcba67-facd-4b36-986c-3e0195a564af",
   "metadata": {},
   "outputs": [
    {
     "data": {
      "text/html": [
       "<div>\n",
       "<style scoped>\n",
       "    .dataframe tbody tr th:only-of-type {\n",
       "        vertical-align: middle;\n",
       "    }\n",
       "\n",
       "    .dataframe tbody tr th {\n",
       "        vertical-align: top;\n",
       "    }\n",
       "\n",
       "    .dataframe thead th {\n",
       "        text-align: right;\n",
       "    }\n",
       "</style>\n",
       "<table border=\"1\" class=\"dataframe\">\n",
       "  <thead>\n",
       "    <tr style=\"text-align: right;\">\n",
       "      <th></th>\n",
       "      <th>one</th>\n",
       "      <th>bar2</th>\n",
       "      <th>two</th>\n",
       "      <th>three</th>\n",
       "      <th>flag</th>\n",
       "      <th>foo</th>\n",
       "      <th>one_trunc</th>\n",
       "    </tr>\n",
       "  </thead>\n",
       "  <tbody>\n",
       "    <tr>\n",
       "      <th>A</th>\n",
       "      <td>1</td>\n",
       "      <td>1</td>\n",
       "      <td>2</td>\n",
       "      <td>2</td>\n",
       "      <td>False</td>\n",
       "      <td>bar</td>\n",
       "      <td>1</td>\n",
       "    </tr>\n",
       "    <tr>\n",
       "      <th>B</th>\n",
       "      <td>4</td>\n",
       "      <td>4</td>\n",
       "      <td>5</td>\n",
       "      <td>20</td>\n",
       "      <td>True</td>\n",
       "      <td>bar</td>\n",
       "      <td>4</td>\n",
       "    </tr>\n",
       "  </tbody>\n",
       "</table>\n",
       "</div>"
      ],
      "text/plain": [
       "   one  bar2  two  three   flag  foo  one_trunc\n",
       "A    1     1    2      2  False  bar          1\n",
       "B    4     4    5     20   True  bar          4"
      ]
     },
     "execution_count": 114,
     "metadata": {},
     "output_type": "execute_result"
    }
   ],
   "source": [
    "df"
   ]
  },
  {
   "cell_type": "markdown",
   "id": "01783277-3633-4f4d-ab97-fd6aad9a1711",
   "metadata": {},
   "source": [
    "### 11.7 Indexing / Selection"
   ]
  },
  {
   "cell_type": "code",
   "execution_count": 116,
   "id": "d65bf45a-29a0-4a4c-969c-6da54f23069d",
   "metadata": {},
   "outputs": [
    {
     "ename": "KeyError",
     "evalue": "'b'",
     "output_type": "error",
     "traceback": [
      "\u001b[31m---------------------------------------------------------------------------\u001b[39m",
      "\u001b[31mKeyError\u001b[39m                                  Traceback (most recent call last)",
      "\u001b[36mFile \u001b[39m\u001b[32mD:\\JupyterProject\\.venv\\Lib\\site-packages\\pandas\\core\\indexes\\base.py:3812\u001b[39m, in \u001b[36mIndex.get_loc\u001b[39m\u001b[34m(self, key)\u001b[39m\n\u001b[32m   3811\u001b[39m \u001b[38;5;28;01mtry\u001b[39;00m:\n\u001b[32m-> \u001b[39m\u001b[32m3812\u001b[39m     \u001b[38;5;28;01mreturn\u001b[39;00m \u001b[38;5;28;43mself\u001b[39;49m\u001b[43m.\u001b[49m\u001b[43m_engine\u001b[49m\u001b[43m.\u001b[49m\u001b[43mget_loc\u001b[49m\u001b[43m(\u001b[49m\u001b[43mcasted_key\u001b[49m\u001b[43m)\u001b[49m\n\u001b[32m   3813\u001b[39m \u001b[38;5;28;01mexcept\u001b[39;00m \u001b[38;5;167;01mKeyError\u001b[39;00m \u001b[38;5;28;01mas\u001b[39;00m err:\n",
      "\u001b[36mFile \u001b[39m\u001b[32mpandas/_libs/index.pyx:167\u001b[39m, in \u001b[36mpandas._libs.index.IndexEngine.get_loc\u001b[39m\u001b[34m()\u001b[39m\n",
      "\u001b[36mFile \u001b[39m\u001b[32mpandas/_libs/index.pyx:196\u001b[39m, in \u001b[36mpandas._libs.index.IndexEngine.get_loc\u001b[39m\u001b[34m()\u001b[39m\n",
      "\u001b[36mFile \u001b[39m\u001b[32mpandas/_libs/hashtable_class_helper.pxi:7088\u001b[39m, in \u001b[36mpandas._libs.hashtable.PyObjectHashTable.get_item\u001b[39m\u001b[34m()\u001b[39m\n",
      "\u001b[36mFile \u001b[39m\u001b[32mpandas/_libs/hashtable_class_helper.pxi:7096\u001b[39m, in \u001b[36mpandas._libs.hashtable.PyObjectHashTable.get_item\u001b[39m\u001b[34m()\u001b[39m\n",
      "\u001b[31mKeyError\u001b[39m: 'b'",
      "\nThe above exception was the direct cause of the following exception:\n",
      "\u001b[31mKeyError\u001b[39m                                  Traceback (most recent call last)",
      "\u001b[36mCell\u001b[39m\u001b[36m \u001b[39m\u001b[32mIn[116]\u001b[39m\u001b[32m, line 1\u001b[39m\n\u001b[32m----> \u001b[39m\u001b[32m1\u001b[39m \u001b[43mdf\u001b[49m\u001b[43m.\u001b[49m\u001b[43mloc\u001b[49m\u001b[43m[\u001b[49m\u001b[33;43m'\u001b[39;49m\u001b[33;43mb\u001b[39;49m\u001b[33;43m'\u001b[39;49m\u001b[43m]\u001b[49m \u001b[38;5;66;03m#it will return the coloumn labels and values on row label 'b'\u001b[39;00m\n",
      "\u001b[36mFile \u001b[39m\u001b[32mD:\\JupyterProject\\.venv\\Lib\\site-packages\\pandas\\core\\indexing.py:1191\u001b[39m, in \u001b[36m_LocationIndexer.__getitem__\u001b[39m\u001b[34m(self, key)\u001b[39m\n\u001b[32m   1189\u001b[39m maybe_callable = com.apply_if_callable(key, \u001b[38;5;28mself\u001b[39m.obj)\n\u001b[32m   1190\u001b[39m maybe_callable = \u001b[38;5;28mself\u001b[39m._check_deprecated_callable_usage(key, maybe_callable)\n\u001b[32m-> \u001b[39m\u001b[32m1191\u001b[39m \u001b[38;5;28;01mreturn\u001b[39;00m \u001b[38;5;28;43mself\u001b[39;49m\u001b[43m.\u001b[49m\u001b[43m_getitem_axis\u001b[49m\u001b[43m(\u001b[49m\u001b[43mmaybe_callable\u001b[49m\u001b[43m,\u001b[49m\u001b[43m \u001b[49m\u001b[43maxis\u001b[49m\u001b[43m=\u001b[49m\u001b[43maxis\u001b[49m\u001b[43m)\u001b[49m\n",
      "\u001b[36mFile \u001b[39m\u001b[32mD:\\JupyterProject\\.venv\\Lib\\site-packages\\pandas\\core\\indexing.py:1431\u001b[39m, in \u001b[36m_LocIndexer._getitem_axis\u001b[39m\u001b[34m(self, key, axis)\u001b[39m\n\u001b[32m   1429\u001b[39m \u001b[38;5;66;03m# fall thru to straight lookup\u001b[39;00m\n\u001b[32m   1430\u001b[39m \u001b[38;5;28mself\u001b[39m._validate_key(key, axis)\n\u001b[32m-> \u001b[39m\u001b[32m1431\u001b[39m \u001b[38;5;28;01mreturn\u001b[39;00m \u001b[38;5;28;43mself\u001b[39;49m\u001b[43m.\u001b[49m\u001b[43m_get_label\u001b[49m\u001b[43m(\u001b[49m\u001b[43mkey\u001b[49m\u001b[43m,\u001b[49m\u001b[43m \u001b[49m\u001b[43maxis\u001b[49m\u001b[43m=\u001b[49m\u001b[43maxis\u001b[49m\u001b[43m)\u001b[49m\n",
      "\u001b[36mFile \u001b[39m\u001b[32mD:\\JupyterProject\\.venv\\Lib\\site-packages\\pandas\\core\\indexing.py:1381\u001b[39m, in \u001b[36m_LocIndexer._get_label\u001b[39m\u001b[34m(self, label, axis)\u001b[39m\n\u001b[32m   1379\u001b[39m \u001b[38;5;28;01mdef\u001b[39;00m\u001b[38;5;250m \u001b[39m\u001b[34m_get_label\u001b[39m(\u001b[38;5;28mself\u001b[39m, label, axis: AxisInt):\n\u001b[32m   1380\u001b[39m     \u001b[38;5;66;03m# GH#5567 this will fail if the label is not present in the axis.\u001b[39;00m\n\u001b[32m-> \u001b[39m\u001b[32m1381\u001b[39m     \u001b[38;5;28;01mreturn\u001b[39;00m \u001b[38;5;28;43mself\u001b[39;49m\u001b[43m.\u001b[49m\u001b[43mobj\u001b[49m\u001b[43m.\u001b[49m\u001b[43mxs\u001b[49m\u001b[43m(\u001b[49m\u001b[43mlabel\u001b[49m\u001b[43m,\u001b[49m\u001b[43m \u001b[49m\u001b[43maxis\u001b[49m\u001b[43m=\u001b[49m\u001b[43maxis\u001b[49m\u001b[43m)\u001b[49m\n",
      "\u001b[36mFile \u001b[39m\u001b[32mD:\\JupyterProject\\.venv\\Lib\\site-packages\\pandas\\core\\generic.py:4320\u001b[39m, in \u001b[36mNDFrame.xs\u001b[39m\u001b[34m(self, key, axis, level, drop_level)\u001b[39m\n\u001b[32m   4318\u001b[39m             new_index = index[loc]\n\u001b[32m   4319\u001b[39m \u001b[38;5;28;01melse\u001b[39;00m:\n\u001b[32m-> \u001b[39m\u001b[32m4320\u001b[39m     loc = \u001b[43mindex\u001b[49m\u001b[43m.\u001b[49m\u001b[43mget_loc\u001b[49m\u001b[43m(\u001b[49m\u001b[43mkey\u001b[49m\u001b[43m)\u001b[49m\n\u001b[32m   4322\u001b[39m     \u001b[38;5;28;01mif\u001b[39;00m \u001b[38;5;28misinstance\u001b[39m(loc, np.ndarray):\n\u001b[32m   4323\u001b[39m         \u001b[38;5;28;01mif\u001b[39;00m loc.dtype == np.bool_:\n",
      "\u001b[36mFile \u001b[39m\u001b[32mD:\\JupyterProject\\.venv\\Lib\\site-packages\\pandas\\core\\indexes\\base.py:3819\u001b[39m, in \u001b[36mIndex.get_loc\u001b[39m\u001b[34m(self, key)\u001b[39m\n\u001b[32m   3814\u001b[39m     \u001b[38;5;28;01mif\u001b[39;00m \u001b[38;5;28misinstance\u001b[39m(casted_key, \u001b[38;5;28mslice\u001b[39m) \u001b[38;5;129;01mor\u001b[39;00m (\n\u001b[32m   3815\u001b[39m         \u001b[38;5;28misinstance\u001b[39m(casted_key, abc.Iterable)\n\u001b[32m   3816\u001b[39m         \u001b[38;5;129;01mand\u001b[39;00m \u001b[38;5;28many\u001b[39m(\u001b[38;5;28misinstance\u001b[39m(x, \u001b[38;5;28mslice\u001b[39m) \u001b[38;5;28;01mfor\u001b[39;00m x \u001b[38;5;129;01min\u001b[39;00m casted_key)\n\u001b[32m   3817\u001b[39m     ):\n\u001b[32m   3818\u001b[39m         \u001b[38;5;28;01mraise\u001b[39;00m InvalidIndexError(key)\n\u001b[32m-> \u001b[39m\u001b[32m3819\u001b[39m     \u001b[38;5;28;01mraise\u001b[39;00m \u001b[38;5;167;01mKeyError\u001b[39;00m(key) \u001b[38;5;28;01mfrom\u001b[39;00m\u001b[38;5;250m \u001b[39m\u001b[34;01merr\u001b[39;00m\n\u001b[32m   3820\u001b[39m \u001b[38;5;28;01mexcept\u001b[39;00m \u001b[38;5;167;01mTypeError\u001b[39;00m:\n\u001b[32m   3821\u001b[39m     \u001b[38;5;66;03m# If we have a listlike key, _check_indexing_error will raise\u001b[39;00m\n\u001b[32m   3822\u001b[39m     \u001b[38;5;66;03m#  InvalidIndexError. Otherwise we fall through and re-raise\u001b[39;00m\n\u001b[32m   3823\u001b[39m     \u001b[38;5;66;03m#  the TypeError.\u001b[39;00m\n\u001b[32m   3824\u001b[39m     \u001b[38;5;28mself\u001b[39m._check_indexing_error(key)\n",
      "\u001b[31mKeyError\u001b[39m: 'b'"
     ]
    }
   ],
   "source": [
    "df.loc['b'] #it will return the coloumn labels and values on row label 'b'\n"
   ]
  },
  {
   "cell_type": "code",
   "execution_count": 117,
   "id": "c056c8d1-cba5-4949-be60-c8ad614d5ce1",
   "metadata": {},
   "outputs": [
    {
     "name": "stdout",
     "output_type": "stream",
     "text": [
      "Index(['A', 'B'], dtype='object')\n"
     ]
    }
   ],
   "source": [
    "print(df.index)\n"
   ]
  },
  {
   "cell_type": "code",
   "execution_count": 123,
   "id": "b9215fe1-e0a4-4f89-84c3-c07ccb9c2840",
   "metadata": {},
   "outputs": [
    {
     "data": {
      "text/plain": [
       "one             4\n",
       "bar2            4\n",
       "two             5\n",
       "three          20\n",
       "flag         True\n",
       "foo           bar\n",
       "one_trunc       4\n",
       "Name: B, dtype: object"
      ]
     },
     "execution_count": 123,
     "metadata": {},
     "output_type": "execute_result"
    }
   ],
   "source": [
    "df.loc['B']\n",
    "\n"
   ]
  },
  {
   "cell_type": "code",
   "execution_count": 124,
   "id": "585c7c70-d342-43de-bd98-553dc5315b70",
   "metadata": {},
   "outputs": [
    {
     "name": "stdout",
     "output_type": "stream",
     "text": [
      "2\n",
      "(2, 7)\n",
      "   one  bar2  two  three   flag  foo  one_trunc\n",
      "A    1     1    2      2  False  bar          1\n",
      "B    4     4    5     20   True  bar          4\n"
     ]
    }
   ],
   "source": [
    "print(len(df))         # shows total number of rows\n",
    "print(df.shape)        # (rows, columns)\n",
    "print(df)              # check the whole DataFrame\n"
   ]
  },
  {
   "cell_type": "code",
   "execution_count": 129,
   "id": "960dab60-1388-4b71-b136-7b981b297a00",
   "metadata": {},
   "outputs": [
    {
     "ename": "IndexError",
     "evalue": "single positional indexer is out-of-bounds",
     "output_type": "error",
     "traceback": [
      "\u001b[31m---------------------------------------------------------------------------\u001b[39m",
      "\u001b[31mIndexError\u001b[39m                                Traceback (most recent call last)",
      "\u001b[36mCell\u001b[39m\u001b[36m \u001b[39m\u001b[32mIn[129]\u001b[39m\u001b[32m, line 1\u001b[39m\n\u001b[32m----> \u001b[39m\u001b[32m1\u001b[39m \u001b[43mdf\u001b[49m\u001b[43m.\u001b[49m\u001b[43miloc\u001b[49m\u001b[43m[\u001b[49m\u001b[32;43m2\u001b[39;49m\u001b[43m]\u001b[49m \u001b[38;5;66;03m#it will return the values of those coloumns that is > than 2\u001b[39;00m\n",
      "\u001b[36mFile \u001b[39m\u001b[32mD:\\JupyterProject\\.venv\\Lib\\site-packages\\pandas\\core\\indexing.py:1191\u001b[39m, in \u001b[36m_LocationIndexer.__getitem__\u001b[39m\u001b[34m(self, key)\u001b[39m\n\u001b[32m   1189\u001b[39m maybe_callable = com.apply_if_callable(key, \u001b[38;5;28mself\u001b[39m.obj)\n\u001b[32m   1190\u001b[39m maybe_callable = \u001b[38;5;28mself\u001b[39m._check_deprecated_callable_usage(key, maybe_callable)\n\u001b[32m-> \u001b[39m\u001b[32m1191\u001b[39m \u001b[38;5;28;01mreturn\u001b[39;00m \u001b[38;5;28;43mself\u001b[39;49m\u001b[43m.\u001b[49m\u001b[43m_getitem_axis\u001b[49m\u001b[43m(\u001b[49m\u001b[43mmaybe_callable\u001b[49m\u001b[43m,\u001b[49m\u001b[43m \u001b[49m\u001b[43maxis\u001b[49m\u001b[43m=\u001b[49m\u001b[43maxis\u001b[49m\u001b[43m)\u001b[49m\n",
      "\u001b[36mFile \u001b[39m\u001b[32mD:\\JupyterProject\\.venv\\Lib\\site-packages\\pandas\\core\\indexing.py:1752\u001b[39m, in \u001b[36m_iLocIndexer._getitem_axis\u001b[39m\u001b[34m(self, key, axis)\u001b[39m\n\u001b[32m   1749\u001b[39m     \u001b[38;5;28;01mraise\u001b[39;00m \u001b[38;5;167;01mTypeError\u001b[39;00m(\u001b[33m\"\u001b[39m\u001b[33mCannot index by location index with a non-integer key\u001b[39m\u001b[33m\"\u001b[39m)\n\u001b[32m   1751\u001b[39m \u001b[38;5;66;03m# validate the location\u001b[39;00m\n\u001b[32m-> \u001b[39m\u001b[32m1752\u001b[39m \u001b[38;5;28;43mself\u001b[39;49m\u001b[43m.\u001b[49m\u001b[43m_validate_integer\u001b[49m\u001b[43m(\u001b[49m\u001b[43mkey\u001b[49m\u001b[43m,\u001b[49m\u001b[43m \u001b[49m\u001b[43maxis\u001b[49m\u001b[43m)\u001b[49m\n\u001b[32m   1754\u001b[39m \u001b[38;5;28;01mreturn\u001b[39;00m \u001b[38;5;28mself\u001b[39m.obj._ixs(key, axis=axis)\n",
      "\u001b[36mFile \u001b[39m\u001b[32mD:\\JupyterProject\\.venv\\Lib\\site-packages\\pandas\\core\\indexing.py:1685\u001b[39m, in \u001b[36m_iLocIndexer._validate_integer\u001b[39m\u001b[34m(self, key, axis)\u001b[39m\n\u001b[32m   1683\u001b[39m len_axis = \u001b[38;5;28mlen\u001b[39m(\u001b[38;5;28mself\u001b[39m.obj._get_axis(axis))\n\u001b[32m   1684\u001b[39m \u001b[38;5;28;01mif\u001b[39;00m key >= len_axis \u001b[38;5;129;01mor\u001b[39;00m key < -len_axis:\n\u001b[32m-> \u001b[39m\u001b[32m1685\u001b[39m     \u001b[38;5;28;01mraise\u001b[39;00m \u001b[38;5;167;01mIndexError\u001b[39;00m(\u001b[33m\"\u001b[39m\u001b[33msingle positional indexer is out-of-bounds\u001b[39m\u001b[33m\"\u001b[39m)\n",
      "\u001b[31mIndexError\u001b[39m: single positional indexer is out-of-bounds"
     ]
    }
   ],
   "source": [
    "df.iloc[2] #it will return the values of those coloumns that is > than 2"
   ]
  },
  {
   "cell_type": "code",
   "execution_count": 130,
   "id": "d670e691-91de-412c-9c36-7e972817af38",
   "metadata": {},
   "outputs": [
    {
     "name": "stdout",
     "output_type": "stream",
     "text": [
      "   one  bar2  two  three   flag  foo  one_trunc\n",
      "A    1     1    2      2  False  bar          1\n",
      "B    4     4    5     20   True  bar          4\n",
      "(2, 7)\n"
     ]
    }
   ],
   "source": [
    "print(df)\n",
    "print(df.shape)   # shows (rows, columns)\n"
   ]
  },
  {
   "cell_type": "code",
   "execution_count": 132,
   "id": "24fe965f-2862-4847-a1f2-96ace7ed3b85",
   "metadata": {},
   "outputs": [
    {
     "name": "stdout",
     "output_type": "stream",
     "text": [
      "A    3\n",
      "B    1\n",
      "Name: 2, dtype: int64\n",
      "     A    B\n",
      "0  NaN  NaN\n",
      "1  4.0  5.0\n",
      "2  3.0  NaN\n"
     ]
    }
   ],
   "source": [
    "import pandas as pd\n",
    "\n",
    "df = pd.DataFrame({\n",
    "    'A': [1, 4, 3],\n",
    "    'B': [2, 5, 1]\n",
    "})\n",
    "\n",
    "print(df.iloc[2])     # ✅ valid: third row\n",
    "print(df[df > 2])     # ✅ shows values > 2\n"
   ]
  },
  {
   "cell_type": "code",
   "execution_count": 133,
   "id": "eb4ca7d2-d4a8-4c4f-9f0e-43dcbcf91ae5",
   "metadata": {},
   "outputs": [
    {
     "data": {
      "text/plain": [
       "A    3\n",
       "B    1\n",
       "Name: 2, dtype: int64"
      ]
     },
     "execution_count": 133,
     "metadata": {},
     "output_type": "execute_result"
    }
   ],
   "source": [
    "df.iloc[2]  # it will return the values of those columns that is > than 2\n"
   ]
  },
  {
   "cell_type": "markdown",
   "id": "2f24dc49-e08f-4c1a-bdbf-94b11fca4b99",
   "metadata": {},
   "source": [
    "### 11.8 Data alignment and arithmetic"
   ]
  },
  {
   "cell_type": "code",
   "execution_count": 134,
   "id": "724e25c0-7673-4b7e-8aa9-43b062d0830c",
   "metadata": {},
   "outputs": [],
   "source": [
    "df = pd.DataFrame(np.random.randn(10, 4), columns=['A', 'B', 'C', 'D'])"
   ]
  },
  {
   "cell_type": "code",
   "execution_count": 135,
   "id": "9a5c0890-73e1-45c8-ad93-97c0e2a03597",
   "metadata": {},
   "outputs": [],
   "source": [
    "df2 = pd.DataFrame(np.random.randn(7, 3), columns=['A', 'B', 'C'])\n"
   ]
  },
  {
   "cell_type": "code",
   "execution_count": 136,
   "id": "dbc50f0a-c27b-4370-a1b8-60f07ac03f18",
   "metadata": {},
   "outputs": [
    {
     "data": {
      "text/html": [
       "<div>\n",
       "<style scoped>\n",
       "    .dataframe tbody tr th:only-of-type {\n",
       "        vertical-align: middle;\n",
       "    }\n",
       "\n",
       "    .dataframe tbody tr th {\n",
       "        vertical-align: top;\n",
       "    }\n",
       "\n",
       "    .dataframe thead th {\n",
       "        text-align: right;\n",
       "    }\n",
       "</style>\n",
       "<table border=\"1\" class=\"dataframe\">\n",
       "  <thead>\n",
       "    <tr style=\"text-align: right;\">\n",
       "      <th></th>\n",
       "      <th>A</th>\n",
       "      <th>B</th>\n",
       "      <th>C</th>\n",
       "      <th>D</th>\n",
       "    </tr>\n",
       "  </thead>\n",
       "  <tbody>\n",
       "    <tr>\n",
       "      <th>0</th>\n",
       "      <td>1.846483</td>\n",
       "      <td>2.302907</td>\n",
       "      <td>0.251073</td>\n",
       "      <td>NaN</td>\n",
       "    </tr>\n",
       "    <tr>\n",
       "      <th>1</th>\n",
       "      <td>-0.605726</td>\n",
       "      <td>-2.656575</td>\n",
       "      <td>1.421123</td>\n",
       "      <td>NaN</td>\n",
       "    </tr>\n",
       "    <tr>\n",
       "      <th>2</th>\n",
       "      <td>0.707641</td>\n",
       "      <td>0.681107</td>\n",
       "      <td>-0.043319</td>\n",
       "      <td>NaN</td>\n",
       "    </tr>\n",
       "    <tr>\n",
       "      <th>3</th>\n",
       "      <td>-1.380478</td>\n",
       "      <td>2.212260</td>\n",
       "      <td>0.563326</td>\n",
       "      <td>NaN</td>\n",
       "    </tr>\n",
       "    <tr>\n",
       "      <th>4</th>\n",
       "      <td>1.218811</td>\n",
       "      <td>0.435906</td>\n",
       "      <td>-0.242403</td>\n",
       "      <td>NaN</td>\n",
       "    </tr>\n",
       "    <tr>\n",
       "      <th>5</th>\n",
       "      <td>1.137630</td>\n",
       "      <td>-0.461277</td>\n",
       "      <td>-0.281098</td>\n",
       "      <td>NaN</td>\n",
       "    </tr>\n",
       "    <tr>\n",
       "      <th>6</th>\n",
       "      <td>-0.390676</td>\n",
       "      <td>-0.067140</td>\n",
       "      <td>-2.440443</td>\n",
       "      <td>NaN</td>\n",
       "    </tr>\n",
       "    <tr>\n",
       "      <th>7</th>\n",
       "      <td>NaN</td>\n",
       "      <td>NaN</td>\n",
       "      <td>NaN</td>\n",
       "      <td>NaN</td>\n",
       "    </tr>\n",
       "    <tr>\n",
       "      <th>8</th>\n",
       "      <td>NaN</td>\n",
       "      <td>NaN</td>\n",
       "      <td>NaN</td>\n",
       "      <td>NaN</td>\n",
       "    </tr>\n",
       "    <tr>\n",
       "      <th>9</th>\n",
       "      <td>NaN</td>\n",
       "      <td>NaN</td>\n",
       "      <td>NaN</td>\n",
       "      <td>NaN</td>\n",
       "    </tr>\n",
       "  </tbody>\n",
       "</table>\n",
       "</div>"
      ],
      "text/plain": [
       "          A         B         C   D\n",
       "0  1.846483  2.302907  0.251073 NaN\n",
       "1 -0.605726 -2.656575  1.421123 NaN\n",
       "2  0.707641  0.681107 -0.043319 NaN\n",
       "3 -1.380478  2.212260  0.563326 NaN\n",
       "4  1.218811  0.435906 -0.242403 NaN\n",
       "5  1.137630 -0.461277 -0.281098 NaN\n",
       "6 -0.390676 -0.067140 -2.440443 NaN\n",
       "7       NaN       NaN       NaN NaN\n",
       "8       NaN       NaN       NaN NaN\n",
       "9       NaN       NaN       NaN NaN"
      ]
     },
     "execution_count": 136,
     "metadata": {},
     "output_type": "execute_result"
    }
   ],
   "source": [
    "df + df2 # add values of respective coloumn labels\n"
   ]
  },
  {
   "cell_type": "code",
   "execution_count": 137,
   "id": "eb042e44-97c5-405e-b4fd-262f0793df77",
   "metadata": {},
   "outputs": [
    {
     "data": {
      "text/html": [
       "<div>\n",
       "<style scoped>\n",
       "    .dataframe tbody tr th:only-of-type {\n",
       "        vertical-align: middle;\n",
       "    }\n",
       "\n",
       "    .dataframe tbody tr th {\n",
       "        vertical-align: top;\n",
       "    }\n",
       "\n",
       "    .dataframe thead th {\n",
       "        text-align: right;\n",
       "    }\n",
       "</style>\n",
       "<table border=\"1\" class=\"dataframe\">\n",
       "  <thead>\n",
       "    <tr style=\"text-align: right;\">\n",
       "      <th></th>\n",
       "      <th>A</th>\n",
       "      <th>B</th>\n",
       "      <th>C</th>\n",
       "      <th>D</th>\n",
       "    </tr>\n",
       "  </thead>\n",
       "  <tbody>\n",
       "    <tr>\n",
       "      <th>0</th>\n",
       "      <td>0.000000</td>\n",
       "      <td>0.000000</td>\n",
       "      <td>0.000000</td>\n",
       "      <td>0.000000</td>\n",
       "    </tr>\n",
       "    <tr>\n",
       "      <th>1</th>\n",
       "      <td>1.212954</td>\n",
       "      <td>-0.367209</td>\n",
       "      <td>0.881188</td>\n",
       "      <td>0.355356</td>\n",
       "    </tr>\n",
       "    <tr>\n",
       "      <th>2</th>\n",
       "      <td>1.832981</td>\n",
       "      <td>1.037226</td>\n",
       "      <td>0.388425</td>\n",
       "      <td>1.143564</td>\n",
       "    </tr>\n",
       "    <tr>\n",
       "      <th>3</th>\n",
       "      <td>1.489832</td>\n",
       "      <td>1.163666</td>\n",
       "      <td>0.522307</td>\n",
       "      <td>0.045673</td>\n",
       "    </tr>\n",
       "    <tr>\n",
       "      <th>4</th>\n",
       "      <td>0.645717</td>\n",
       "      <td>-0.637493</td>\n",
       "      <td>-1.107383</td>\n",
       "      <td>-1.193509</td>\n",
       "    </tr>\n",
       "    <tr>\n",
       "      <th>5</th>\n",
       "      <td>-0.069497</td>\n",
       "      <td>0.244892</td>\n",
       "      <td>0.873453</td>\n",
       "      <td>0.133967</td>\n",
       "    </tr>\n",
       "    <tr>\n",
       "      <th>6</th>\n",
       "      <td>-0.547009</td>\n",
       "      <td>-0.575457</td>\n",
       "      <td>-0.984031</td>\n",
       "      <td>1.140953</td>\n",
       "    </tr>\n",
       "    <tr>\n",
       "      <th>7</th>\n",
       "      <td>2.195163</td>\n",
       "      <td>2.645516</td>\n",
       "      <td>0.060119</td>\n",
       "      <td>-0.426720</td>\n",
       "    </tr>\n",
       "    <tr>\n",
       "      <th>8</th>\n",
       "      <td>0.941010</td>\n",
       "      <td>0.491545</td>\n",
       "      <td>-0.145661</td>\n",
       "      <td>-0.775048</td>\n",
       "    </tr>\n",
       "    <tr>\n",
       "      <th>9</th>\n",
       "      <td>-0.218499</td>\n",
       "      <td>0.374885</td>\n",
       "      <td>-0.645427</td>\n",
       "      <td>-1.119320</td>\n",
       "    </tr>\n",
       "  </tbody>\n",
       "</table>\n",
       "</div>"
      ],
      "text/plain": [
       "          A         B         C         D\n",
       "0  0.000000  0.000000  0.000000  0.000000\n",
       "1  1.212954 -0.367209  0.881188  0.355356\n",
       "2  1.832981  1.037226  0.388425  1.143564\n",
       "3  1.489832  1.163666  0.522307  0.045673\n",
       "4  0.645717 -0.637493 -1.107383 -1.193509\n",
       "5 -0.069497  0.244892  0.873453  0.133967\n",
       "6 -0.547009 -0.575457 -0.984031  1.140953\n",
       "7  2.195163  2.645516  0.060119 -0.426720\n",
       "8  0.941010  0.491545 -0.145661 -0.775048\n",
       "9 -0.218499  0.374885 -0.645427 -1.119320"
      ]
     },
     "execution_count": 137,
     "metadata": {},
     "output_type": "execute_result"
    }
   ],
   "source": [
    "df - df.iloc[0]\n"
   ]
  },
  {
   "cell_type": "code",
   "execution_count": 138,
   "id": "209df014-7da3-4e29-9697-d801f7f87dd8",
   "metadata": {},
   "outputs": [
    {
     "data": {
      "text/html": [
       "<div>\n",
       "<style scoped>\n",
       "    .dataframe tbody tr th:only-of-type {\n",
       "        vertical-align: middle;\n",
       "    }\n",
       "\n",
       "    .dataframe tbody tr th {\n",
       "        vertical-align: top;\n",
       "    }\n",
       "\n",
       "    .dataframe thead th {\n",
       "        text-align: right;\n",
       "    }\n",
       "</style>\n",
       "<table border=\"1\" class=\"dataframe\">\n",
       "  <thead>\n",
       "    <tr style=\"text-align: right;\">\n",
       "      <th></th>\n",
       "      <th>A</th>\n",
       "      <th>B</th>\n",
       "      <th>C</th>\n",
       "      <th>D</th>\n",
       "    </tr>\n",
       "  </thead>\n",
       "  <tbody>\n",
       "    <tr>\n",
       "      <th>0</th>\n",
       "      <td>-1.398356</td>\n",
       "      <td>1.045144</td>\n",
       "      <td>0.408937</td>\n",
       "      <td>4.628369</td>\n",
       "    </tr>\n",
       "    <tr>\n",
       "      <th>1</th>\n",
       "      <td>4.666412</td>\n",
       "      <td>-0.790902</td>\n",
       "      <td>4.814879</td>\n",
       "      <td>6.405151</td>\n",
       "    </tr>\n",
       "    <tr>\n",
       "      <th>2</th>\n",
       "      <td>7.766551</td>\n",
       "      <td>6.231272</td>\n",
       "      <td>2.351063</td>\n",
       "      <td>10.346190</td>\n",
       "    </tr>\n",
       "    <tr>\n",
       "      <th>3</th>\n",
       "      <td>6.050802</td>\n",
       "      <td>6.863476</td>\n",
       "      <td>3.020474</td>\n",
       "      <td>4.856734</td>\n",
       "    </tr>\n",
       "    <tr>\n",
       "      <th>4</th>\n",
       "      <td>1.830228</td>\n",
       "      <td>-2.142322</td>\n",
       "      <td>-5.127976</td>\n",
       "      <td>-1.339174</td>\n",
       "    </tr>\n",
       "    <tr>\n",
       "      <th>5</th>\n",
       "      <td>-1.745842</td>\n",
       "      <td>2.269605</td>\n",
       "      <td>4.776201</td>\n",
       "      <td>5.298206</td>\n",
       "    </tr>\n",
       "    <tr>\n",
       "      <th>6</th>\n",
       "      <td>-4.133403</td>\n",
       "      <td>-1.832141</td>\n",
       "      <td>-4.511217</td>\n",
       "      <td>10.333134</td>\n",
       "    </tr>\n",
       "    <tr>\n",
       "      <th>7</th>\n",
       "      <td>9.577461</td>\n",
       "      <td>14.272727</td>\n",
       "      <td>0.709531</td>\n",
       "      <td>2.494767</td>\n",
       "    </tr>\n",
       "    <tr>\n",
       "      <th>8</th>\n",
       "      <td>3.306692</td>\n",
       "      <td>3.502869</td>\n",
       "      <td>-0.319366</td>\n",
       "      <td>0.753130</td>\n",
       "    </tr>\n",
       "    <tr>\n",
       "      <th>9</th>\n",
       "      <td>-2.490850</td>\n",
       "      <td>2.919570</td>\n",
       "      <td>-2.818200</td>\n",
       "      <td>-0.968230</td>\n",
       "    </tr>\n",
       "  </tbody>\n",
       "</table>\n",
       "</div>"
      ],
      "text/plain": [
       "          A          B         C          D\n",
       "0 -1.398356   1.045144  0.408937   4.628369\n",
       "1  4.666412  -0.790902  4.814879   6.405151\n",
       "2  7.766551   6.231272  2.351063  10.346190\n",
       "3  6.050802   6.863476  3.020474   4.856734\n",
       "4  1.830228  -2.142322 -5.127976  -1.339174\n",
       "5 -1.745842   2.269605  4.776201   5.298206\n",
       "6 -4.133403  -1.832141 -4.511217  10.333134\n",
       "7  9.577461  14.272727  0.709531   2.494767\n",
       "8  3.306692   3.502869 -0.319366   0.753130\n",
       "9 -2.490850   2.919570 -2.818200  -0.968230"
      ]
     },
     "execution_count": 138,
     "metadata": {},
     "output_type": "execute_result"
    }
   ],
   "source": [
    "df*5+2"
   ]
  },
  {
   "cell_type": "code",
   "execution_count": 139,
   "id": "c93f9722-7078-47fd-b9a3-b74227401630",
   "metadata": {},
   "outputs": [
    {
     "data": {
      "text/html": [
       "<div>\n",
       "<style scoped>\n",
       "    .dataframe tbody tr th:only-of-type {\n",
       "        vertical-align: middle;\n",
       "    }\n",
       "\n",
       "    .dataframe tbody tr th {\n",
       "        vertical-align: top;\n",
       "    }\n",
       "\n",
       "    .dataframe thead th {\n",
       "        text-align: right;\n",
       "    }\n",
       "</style>\n",
       "<table border=\"1\" class=\"dataframe\">\n",
       "  <thead>\n",
       "    <tr style=\"text-align: right;\">\n",
       "      <th></th>\n",
       "      <th>A</th>\n",
       "      <th>B</th>\n",
       "      <th>C</th>\n",
       "      <th>D</th>\n",
       "    </tr>\n",
       "  </thead>\n",
       "  <tbody>\n",
       "    <tr>\n",
       "      <th>0</th>\n",
       "      <td>-1.471300</td>\n",
       "      <td>-5.236394</td>\n",
       "      <td>-3.142554</td>\n",
       "      <td>1.902320</td>\n",
       "    </tr>\n",
       "    <tr>\n",
       "      <th>1</th>\n",
       "      <td>1.875179</td>\n",
       "      <td>-1.791536</td>\n",
       "      <td>1.776275</td>\n",
       "      <td>1.135035</td>\n",
       "    </tr>\n",
       "    <tr>\n",
       "      <th>2</th>\n",
       "      <td>0.867069</td>\n",
       "      <td>1.181678</td>\n",
       "      <td>14.242443</td>\n",
       "      <td>0.599076</td>\n",
       "    </tr>\n",
       "    <tr>\n",
       "      <th>3</th>\n",
       "      <td>1.234323</td>\n",
       "      <td>1.028071</td>\n",
       "      <td>4.899682</td>\n",
       "      <td>1.750251</td>\n",
       "    </tr>\n",
       "    <tr>\n",
       "      <th>4</th>\n",
       "      <td>-29.451244</td>\n",
       "      <td>-1.207053</td>\n",
       "      <td>-0.701461</td>\n",
       "      <td>-1.497376</td>\n",
       "    </tr>\n",
       "    <tr>\n",
       "      <th>5</th>\n",
       "      <td>-1.334813</td>\n",
       "      <td>18.545665</td>\n",
       "      <td>1.801022</td>\n",
       "      <td>1.515976</td>\n",
       "    </tr>\n",
       "    <tr>\n",
       "      <th>6</th>\n",
       "      <td>-0.815208</td>\n",
       "      <td>-1.304754</td>\n",
       "      <td>-0.767906</td>\n",
       "      <td>0.600014</td>\n",
       "    </tr>\n",
       "    <tr>\n",
       "      <th>7</th>\n",
       "      <td>0.659852</td>\n",
       "      <td>0.407407</td>\n",
       "      <td>-3.874560</td>\n",
       "      <td>10.105768</td>\n",
       "    </tr>\n",
       "    <tr>\n",
       "      <th>8</th>\n",
       "      <td>3.826456</td>\n",
       "      <td>3.326970</td>\n",
       "      <td>-2.155761</td>\n",
       "      <td>-4.010042</td>\n",
       "    </tr>\n",
       "    <tr>\n",
       "      <th>9</th>\n",
       "      <td>-1.113375</td>\n",
       "      <td>5.437325</td>\n",
       "      <td>-1.037732</td>\n",
       "      <td>-1.684506</td>\n",
       "    </tr>\n",
       "  </tbody>\n",
       "</table>\n",
       "</div>"
      ],
      "text/plain": [
       "           A          B          C          D\n",
       "0  -1.471300  -5.236394  -3.142554   1.902320\n",
       "1   1.875179  -1.791536   1.776275   1.135035\n",
       "2   0.867069   1.181678  14.242443   0.599076\n",
       "3   1.234323   1.028071   4.899682   1.750251\n",
       "4 -29.451244  -1.207053  -0.701461  -1.497376\n",
       "5  -1.334813  18.545665   1.801022   1.515976\n",
       "6  -0.815208  -1.304754  -0.767906   0.600014\n",
       "7   0.659852   0.407407  -3.874560  10.105768\n",
       "8   3.826456   3.326970  -2.155761  -4.010042\n",
       "9  -1.113375   5.437325  -1.037732  -1.684506"
      ]
     },
     "execution_count": 139,
     "metadata": {},
     "output_type": "execute_result"
    }
   ],
   "source": [
    "1 / df"
   ]
  },
  {
   "cell_type": "code",
   "execution_count": 140,
   "id": "a7cc47be-da85-49f4-846c-b4bd64b451fe",
   "metadata": {},
   "outputs": [
    {
     "data": {
      "text/html": [
       "<div>\n",
       "<style scoped>\n",
       "    .dataframe tbody tr th:only-of-type {\n",
       "        vertical-align: middle;\n",
       "    }\n",
       "\n",
       "    .dataframe tbody tr th {\n",
       "        vertical-align: top;\n",
       "    }\n",
       "\n",
       "    .dataframe thead th {\n",
       "        text-align: right;\n",
       "    }\n",
       "</style>\n",
       "<table border=\"1\" class=\"dataframe\">\n",
       "  <thead>\n",
       "    <tr style=\"text-align: right;\">\n",
       "      <th></th>\n",
       "      <th>A</th>\n",
       "      <th>B</th>\n",
       "      <th>C</th>\n",
       "      <th>D</th>\n",
       "    </tr>\n",
       "  </thead>\n",
       "  <tbody>\n",
       "    <tr>\n",
       "      <th>0</th>\n",
       "      <td>0.213400</td>\n",
       "      <td>0.001330</td>\n",
       "      <td>0.010253</td>\n",
       "      <td>0.076360</td>\n",
       "    </tr>\n",
       "    <tr>\n",
       "      <th>1</th>\n",
       "      <td>0.080878</td>\n",
       "      <td>0.097073</td>\n",
       "      <td>0.100452</td>\n",
       "      <td>0.602508</td>\n",
       "    </tr>\n",
       "    <tr>\n",
       "      <th>2</th>\n",
       "      <td>1.769230</td>\n",
       "      <td>0.512866</td>\n",
       "      <td>0.000024</td>\n",
       "      <td>7.763778</td>\n",
       "    </tr>\n",
       "    <tr>\n",
       "      <th>3</th>\n",
       "      <td>0.430808</td>\n",
       "      <td>0.895173</td>\n",
       "      <td>0.001735</td>\n",
       "      <td>0.106561</td>\n",
       "    </tr>\n",
       "    <tr>\n",
       "      <th>4</th>\n",
       "      <td>0.000001</td>\n",
       "      <td>0.471081</td>\n",
       "      <td>4.130331</td>\n",
       "      <td>0.198919</td>\n",
       "    </tr>\n",
       "    <tr>\n",
       "      <th>5</th>\n",
       "      <td>0.315005</td>\n",
       "      <td>0.000008</td>\n",
       "      <td>0.095044</td>\n",
       "      <td>0.189335</td>\n",
       "    </tr>\n",
       "    <tr>\n",
       "      <th>6</th>\n",
       "      <td>2.264259</td>\n",
       "      <td>0.345053</td>\n",
       "      <td>2.875865</td>\n",
       "      <td>7.715312</td>\n",
       "    </tr>\n",
       "    <tr>\n",
       "      <th>7</th>\n",
       "      <td>5.274906</td>\n",
       "      <td>36.298129</td>\n",
       "      <td>0.004437</td>\n",
       "      <td>0.000096</td>\n",
       "    </tr>\n",
       "    <tr>\n",
       "      <th>8</th>\n",
       "      <td>0.004665</td>\n",
       "      <td>0.008162</td>\n",
       "      <td>0.046302</td>\n",
       "      <td>0.003867</td>\n",
       "    </tr>\n",
       "    <tr>\n",
       "      <th>9</th>\n",
       "      <td>0.650780</td>\n",
       "      <td>0.001144</td>\n",
       "      <td>0.862302</td>\n",
       "      <td>0.124197</td>\n",
       "    </tr>\n",
       "  </tbody>\n",
       "</table>\n",
       "</div>"
      ],
      "text/plain": [
       "          A          B         C         D\n",
       "0  0.213400   0.001330  0.010253  0.076360\n",
       "1  0.080878   0.097073  0.100452  0.602508\n",
       "2  1.769230   0.512866  0.000024  7.763778\n",
       "3  0.430808   0.895173  0.001735  0.106561\n",
       "4  0.000001   0.471081  4.130331  0.198919\n",
       "5  0.315005   0.000008  0.095044  0.189335\n",
       "6  2.264259   0.345053  2.875865  7.715312\n",
       "7  5.274906  36.298129  0.004437  0.000096\n",
       "8  0.004665   0.008162  0.046302  0.003867\n",
       "9  0.650780   0.001144  0.862302  0.124197"
      ]
     },
     "execution_count": 140,
     "metadata": {},
     "output_type": "execute_result"
    }
   ],
   "source": [
    "df **4\n"
   ]
  },
  {
   "cell_type": "code",
   "execution_count": 141,
   "id": "969132a4-1c11-4628-b144-decd380b603c",
   "metadata": {},
   "outputs": [],
   "source": [
    "df1 = pd.DataFrame({'a' : [1, 0, 1], 'b' : [0, 1, 1] }, dtype=bool)\n"
   ]
  },
  {
   "cell_type": "code",
   "execution_count": 142,
   "id": "7e645938-bed2-4f64-95b9-44ec7b10f969",
   "metadata": {},
   "outputs": [],
   "source": [
    "df2 = pd.DataFrame({'a' : [0, 1, 1], 'b' : [1, 1, 0] }, dtype=bool)\n"
   ]
  },
  {
   "cell_type": "code",
   "execution_count": 143,
   "id": "5006e484-04c8-430b-b71c-05d5f2224b1d",
   "metadata": {},
   "outputs": [
    {
     "data": {
      "text/html": [
       "<div>\n",
       "<style scoped>\n",
       "    .dataframe tbody tr th:only-of-type {\n",
       "        vertical-align: middle;\n",
       "    }\n",
       "\n",
       "    .dataframe tbody tr th {\n",
       "        vertical-align: top;\n",
       "    }\n",
       "\n",
       "    .dataframe thead th {\n",
       "        text-align: right;\n",
       "    }\n",
       "</style>\n",
       "<table border=\"1\" class=\"dataframe\">\n",
       "  <thead>\n",
       "    <tr style=\"text-align: right;\">\n",
       "      <th></th>\n",
       "      <th>a</th>\n",
       "      <th>b</th>\n",
       "    </tr>\n",
       "  </thead>\n",
       "  <tbody>\n",
       "    <tr>\n",
       "      <th>0</th>\n",
       "      <td>False</td>\n",
       "      <td>True</td>\n",
       "    </tr>\n",
       "    <tr>\n",
       "      <th>1</th>\n",
       "      <td>True</td>\n",
       "      <td>True</td>\n",
       "    </tr>\n",
       "    <tr>\n",
       "      <th>2</th>\n",
       "      <td>True</td>\n",
       "      <td>False</td>\n",
       "    </tr>\n",
       "  </tbody>\n",
       "</table>\n",
       "</div>"
      ],
      "text/plain": [
       "       a      b\n",
       "0  False   True\n",
       "1   True   True\n",
       "2   True  False"
      ]
     },
     "execution_count": 143,
     "metadata": {},
     "output_type": "execute_result"
    }
   ],
   "source": [
    "pd.DataFrame({'a' : [0, 1, 1], 'b' : [1, 1, 0] }, dtype=bool)\n"
   ]
  },
  {
   "cell_type": "code",
   "execution_count": 144,
   "id": "3862f78b-75ac-4249-a166-fd68ba7a216b",
   "metadata": {},
   "outputs": [
    {
     "data": {
      "text/html": [
       "<div>\n",
       "<style scoped>\n",
       "    .dataframe tbody tr th:only-of-type {\n",
       "        vertical-align: middle;\n",
       "    }\n",
       "\n",
       "    .dataframe tbody tr th {\n",
       "        vertical-align: top;\n",
       "    }\n",
       "\n",
       "    .dataframe thead th {\n",
       "        text-align: right;\n",
       "    }\n",
       "</style>\n",
       "<table border=\"1\" class=\"dataframe\">\n",
       "  <thead>\n",
       "    <tr style=\"text-align: right;\">\n",
       "      <th></th>\n",
       "      <th>a</th>\n",
       "      <th>b</th>\n",
       "    </tr>\n",
       "  </thead>\n",
       "  <tbody>\n",
       "    <tr>\n",
       "      <th>0</th>\n",
       "      <td>False</td>\n",
       "      <td>False</td>\n",
       "    </tr>\n",
       "    <tr>\n",
       "      <th>1</th>\n",
       "      <td>False</td>\n",
       "      <td>True</td>\n",
       "    </tr>\n",
       "    <tr>\n",
       "      <th>2</th>\n",
       "      <td>True</td>\n",
       "      <td>False</td>\n",
       "    </tr>\n",
       "  </tbody>\n",
       "</table>\n",
       "</div>"
      ],
      "text/plain": [
       "       a      b\n",
       "0  False  False\n",
       "1  False   True\n",
       "2   True  False"
      ]
     },
     "execution_count": 144,
     "metadata": {},
     "output_type": "execute_result"
    }
   ],
   "source": [
    "df1 & df2 #and logical operator\n"
   ]
  },
  {
   "cell_type": "code",
   "execution_count": 145,
   "id": "af65b50b-d068-4951-b768-384101e7ca3d",
   "metadata": {},
   "outputs": [
    {
     "data": {
      "text/html": [
       "<div>\n",
       "<style scoped>\n",
       "    .dataframe tbody tr th:only-of-type {\n",
       "        vertical-align: middle;\n",
       "    }\n",
       "\n",
       "    .dataframe tbody tr th {\n",
       "        vertical-align: top;\n",
       "    }\n",
       "\n",
       "    .dataframe thead th {\n",
       "        text-align: right;\n",
       "    }\n",
       "</style>\n",
       "<table border=\"1\" class=\"dataframe\">\n",
       "  <thead>\n",
       "    <tr style=\"text-align: right;\">\n",
       "      <th></th>\n",
       "      <th>a</th>\n",
       "      <th>b</th>\n",
       "    </tr>\n",
       "  </thead>\n",
       "  <tbody>\n",
       "    <tr>\n",
       "      <th>0</th>\n",
       "      <td>True</td>\n",
       "      <td>True</td>\n",
       "    </tr>\n",
       "    <tr>\n",
       "      <th>1</th>\n",
       "      <td>True</td>\n",
       "      <td>True</td>\n",
       "    </tr>\n",
       "    <tr>\n",
       "      <th>2</th>\n",
       "      <td>True</td>\n",
       "      <td>True</td>\n",
       "    </tr>\n",
       "  </tbody>\n",
       "</table>\n",
       "</div>"
      ],
      "text/plain": [
       "      a     b\n",
       "0  True  True\n",
       "1  True  True\n",
       "2  True  True"
      ]
     },
     "execution_count": 145,
     "metadata": {},
     "output_type": "execute_result"
    }
   ],
   "source": [
    "df1 | df2 # or operator\n"
   ]
  },
  {
   "cell_type": "code",
   "execution_count": 146,
   "id": "75dd48f9-de11-4b86-b446-76bd58c94e5d",
   "metadata": {},
   "outputs": [
    {
     "data": {
      "text/html": [
       "<div>\n",
       "<style scoped>\n",
       "    .dataframe tbody tr th:only-of-type {\n",
       "        vertical-align: middle;\n",
       "    }\n",
       "\n",
       "    .dataframe tbody tr th {\n",
       "        vertical-align: top;\n",
       "    }\n",
       "\n",
       "    .dataframe thead th {\n",
       "        text-align: right;\n",
       "    }\n",
       "</style>\n",
       "<table border=\"1\" class=\"dataframe\">\n",
       "  <thead>\n",
       "    <tr style=\"text-align: right;\">\n",
       "      <th></th>\n",
       "      <th>a</th>\n",
       "      <th>b</th>\n",
       "    </tr>\n",
       "  </thead>\n",
       "  <tbody>\n",
       "    <tr>\n",
       "      <th>0</th>\n",
       "      <td>False</td>\n",
       "      <td>True</td>\n",
       "    </tr>\n",
       "    <tr>\n",
       "      <th>1</th>\n",
       "      <td>True</td>\n",
       "      <td>False</td>\n",
       "    </tr>\n",
       "    <tr>\n",
       "      <th>2</th>\n",
       "      <td>False</td>\n",
       "      <td>False</td>\n",
       "    </tr>\n",
       "  </tbody>\n",
       "</table>\n",
       "</div>"
      ],
      "text/plain": [
       "       a      b\n",
       "0  False   True\n",
       "1   True  False\n",
       "2  False  False"
      ]
     },
     "execution_count": 146,
     "metadata": {},
     "output_type": "execute_result"
    }
   ],
   "source": [
    "-df1"
   ]
  },
  {
   "cell_type": "markdown",
   "id": "9d3da40c-5610-4bbd-b5b1-c0233f87a844",
   "metadata": {},
   "source": [
    "### 11.9 Transposing"
   ]
  },
  {
   "cell_type": "code",
   "execution_count": 147,
   "id": "ff7ea7f4-b5a9-412c-bdd9-9c77de5454c4",
   "metadata": {},
   "outputs": [
    {
     "data": {
      "text/html": [
       "<div>\n",
       "<style scoped>\n",
       "    .dataframe tbody tr th:only-of-type {\n",
       "        vertical-align: middle;\n",
       "    }\n",
       "\n",
       "    .dataframe tbody tr th {\n",
       "        vertical-align: top;\n",
       "    }\n",
       "\n",
       "    .dataframe thead th {\n",
       "        text-align: right;\n",
       "    }\n",
       "</style>\n",
       "<table border=\"1\" class=\"dataframe\">\n",
       "  <thead>\n",
       "    <tr style=\"text-align: right;\">\n",
       "      <th></th>\n",
       "      <th>0</th>\n",
       "      <th>1</th>\n",
       "      <th>2</th>\n",
       "      <th>3</th>\n",
       "      <th>4</th>\n",
       "    </tr>\n",
       "  </thead>\n",
       "  <tbody>\n",
       "    <tr>\n",
       "      <th>A</th>\n",
       "      <td>-0.679671</td>\n",
       "      <td>0.533282</td>\n",
       "      <td>1.153310</td>\n",
       "      <td>0.810160</td>\n",
       "      <td>-0.033954</td>\n",
       "    </tr>\n",
       "    <tr>\n",
       "      <th>B</th>\n",
       "      <td>-0.190971</td>\n",
       "      <td>-0.558180</td>\n",
       "      <td>0.846254</td>\n",
       "      <td>0.972695</td>\n",
       "      <td>-0.828464</td>\n",
       "    </tr>\n",
       "    <tr>\n",
       "      <th>C</th>\n",
       "      <td>-0.318213</td>\n",
       "      <td>0.562976</td>\n",
       "      <td>0.070213</td>\n",
       "      <td>0.204095</td>\n",
       "      <td>-1.425595</td>\n",
       "    </tr>\n",
       "    <tr>\n",
       "      <th>D</th>\n",
       "      <td>0.525674</td>\n",
       "      <td>0.881030</td>\n",
       "      <td>1.669238</td>\n",
       "      <td>0.571347</td>\n",
       "      <td>-0.667835</td>\n",
       "    </tr>\n",
       "  </tbody>\n",
       "</table>\n",
       "</div>"
      ],
      "text/plain": [
       "          0         1         2         3         4\n",
       "A -0.679671  0.533282  1.153310  0.810160 -0.033954\n",
       "B -0.190971 -0.558180  0.846254  0.972695 -0.828464\n",
       "C -0.318213  0.562976  0.070213  0.204095 -1.425595\n",
       "D  0.525674  0.881030  1.669238  0.571347 -0.667835"
      ]
     },
     "execution_count": 147,
     "metadata": {},
     "output_type": "execute_result"
    }
   ],
   "source": [
    " # only show the first 5 rows\n",
    "df[:5].T\n"
   ]
  },
  {
   "cell_type": "code",
   "execution_count": 148,
   "id": "1666a02d-3a8a-4aad-b845-e3db62e57bfa",
   "metadata": {},
   "outputs": [],
   "source": [
    "dates = pd.date_range('20130101', periods=6)\n"
   ]
  },
  {
   "cell_type": "code",
   "execution_count": 149,
   "id": "df4fb28a-ec9f-44bb-82f9-f07763e07faf",
   "metadata": {},
   "outputs": [
    {
     "data": {
      "text/plain": [
       "DatetimeIndex(['2013-01-01', '2013-01-02', '2013-01-03', '2013-01-04',\n",
       "               '2013-01-05', '2013-01-06'],\n",
       "              dtype='datetime64[ns]', freq='D')"
      ]
     },
     "execution_count": 149,
     "metadata": {},
     "output_type": "execute_result"
    }
   ],
   "source": [
    "dates"
   ]
  },
  {
   "cell_type": "code",
   "execution_count": 150,
   "id": "30960239-9e92-4b32-b70b-1bf0969c6167",
   "metadata": {},
   "outputs": [],
   "source": [
    "df = pd.DataFrame(np.random.randn(6,4), index=dates, columns=list('TAHA'))\n"
   ]
  },
  {
   "cell_type": "code",
   "execution_count": 152,
   "id": "4d27cc1b-13ca-4d4e-86a0-d5a4a5692de8",
   "metadata": {},
   "outputs": [
    {
     "data": {
      "text/html": [
       "<div>\n",
       "<style scoped>\n",
       "    .dataframe tbody tr th:only-of-type {\n",
       "        vertical-align: middle;\n",
       "    }\n",
       "\n",
       "    .dataframe tbody tr th {\n",
       "        vertical-align: top;\n",
       "    }\n",
       "\n",
       "    .dataframe thead th {\n",
       "        text-align: right;\n",
       "    }\n",
       "</style>\n",
       "<table border=\"1\" class=\"dataframe\">\n",
       "  <thead>\n",
       "    <tr style=\"text-align: right;\">\n",
       "      <th></th>\n",
       "      <th>T</th>\n",
       "      <th>A</th>\n",
       "      <th>H</th>\n",
       "      <th>A</th>\n",
       "    </tr>\n",
       "  </thead>\n",
       "  <tbody>\n",
       "    <tr>\n",
       "      <th>2013-01-01</th>\n",
       "      <td>0.453296</td>\n",
       "      <td>-1.986865</td>\n",
       "      <td>-0.704332</td>\n",
       "      <td>1.678422</td>\n",
       "    </tr>\n",
       "    <tr>\n",
       "      <th>2013-01-02</th>\n",
       "      <td>-0.174547</td>\n",
       "      <td>-0.163405</td>\n",
       "      <td>-0.130367</td>\n",
       "      <td>1.601520</td>\n",
       "    </tr>\n",
       "    <tr>\n",
       "      <th>2013-01-03</th>\n",
       "      <td>-0.547773</td>\n",
       "      <td>-0.566115</td>\n",
       "      <td>-1.753779</td>\n",
       "      <td>1.695296</td>\n",
       "    </tr>\n",
       "    <tr>\n",
       "      <th>2013-01-04</th>\n",
       "      <td>0.207750</td>\n",
       "      <td>0.114795</td>\n",
       "      <td>0.913539</td>\n",
       "      <td>0.244570</td>\n",
       "    </tr>\n",
       "    <tr>\n",
       "      <th>2013-01-05</th>\n",
       "      <td>-1.273823</td>\n",
       "      <td>0.069872</td>\n",
       "      <td>-0.587884</td>\n",
       "      <td>-1.265897</td>\n",
       "    </tr>\n",
       "    <tr>\n",
       "      <th>2013-01-06</th>\n",
       "      <td>-0.955672</td>\n",
       "      <td>0.290812</td>\n",
       "      <td>-0.920613</td>\n",
       "      <td>0.596918</td>\n",
       "    </tr>\n",
       "  </tbody>\n",
       "</table>\n",
       "</div>"
      ],
      "text/plain": [
       "                   T         A         H         A\n",
       "2013-01-01  0.453296 -1.986865 -0.704332  1.678422\n",
       "2013-01-02 -0.174547 -0.163405 -0.130367  1.601520\n",
       "2013-01-03 -0.547773 -0.566115 -1.753779  1.695296\n",
       "2013-01-04  0.207750  0.114795  0.913539  0.244570\n",
       "2013-01-05 -1.273823  0.069872 -0.587884 -1.265897\n",
       "2013-01-06 -0.955672  0.290812 -0.920613  0.596918"
      ]
     },
     "execution_count": 152,
     "metadata": {},
     "output_type": "execute_result"
    }
   ],
   "source": [
    "df"
   ]
  },
  {
   "cell_type": "code",
   "execution_count": 153,
   "id": "317a3137-7632-45e0-906c-9699c4bb1aec",
   "metadata": {},
   "outputs": [],
   "source": [
    "df2 = pd.DataFrame({ 'A' : 1.,\n",
    "                        'B' : pd.Timestamp('20130102'),\n",
    "                        'C' : pd.Series(1,index=list(range(4)),dtype='float32'),\n",
    "                        'D' : np.array([3] * 4,dtype='int32'),\n",
    "                        'E' : pd.Categorical([\"test\",\"Taha\",\"test\",\"AI\"]),\n",
    "                        'F' : 'foo' })"
   ]
  },
  {
   "cell_type": "code",
   "execution_count": 154,
   "id": "b4bed030-8dfb-4ff1-bea0-cc0d776de45a",
   "metadata": {},
   "outputs": [
    {
     "data": {
      "text/html": [
       "<div>\n",
       "<style scoped>\n",
       "    .dataframe tbody tr th:only-of-type {\n",
       "        vertical-align: middle;\n",
       "    }\n",
       "\n",
       "    .dataframe tbody tr th {\n",
       "        vertical-align: top;\n",
       "    }\n",
       "\n",
       "    .dataframe thead th {\n",
       "        text-align: right;\n",
       "    }\n",
       "</style>\n",
       "<table border=\"1\" class=\"dataframe\">\n",
       "  <thead>\n",
       "    <tr style=\"text-align: right;\">\n",
       "      <th></th>\n",
       "      <th>A</th>\n",
       "      <th>B</th>\n",
       "      <th>C</th>\n",
       "      <th>D</th>\n",
       "      <th>E</th>\n",
       "      <th>F</th>\n",
       "    </tr>\n",
       "  </thead>\n",
       "  <tbody>\n",
       "    <tr>\n",
       "      <th>0</th>\n",
       "      <td>1.0</td>\n",
       "      <td>2013-01-02</td>\n",
       "      <td>1.0</td>\n",
       "      <td>3</td>\n",
       "      <td>test</td>\n",
       "      <td>foo</td>\n",
       "    </tr>\n",
       "    <tr>\n",
       "      <th>1</th>\n",
       "      <td>1.0</td>\n",
       "      <td>2013-01-02</td>\n",
       "      <td>1.0</td>\n",
       "      <td>3</td>\n",
       "      <td>Taha</td>\n",
       "      <td>foo</td>\n",
       "    </tr>\n",
       "    <tr>\n",
       "      <th>2</th>\n",
       "      <td>1.0</td>\n",
       "      <td>2013-01-02</td>\n",
       "      <td>1.0</td>\n",
       "      <td>3</td>\n",
       "      <td>test</td>\n",
       "      <td>foo</td>\n",
       "    </tr>\n",
       "    <tr>\n",
       "      <th>3</th>\n",
       "      <td>1.0</td>\n",
       "      <td>2013-01-02</td>\n",
       "      <td>1.0</td>\n",
       "      <td>3</td>\n",
       "      <td>AI</td>\n",
       "      <td>foo</td>\n",
       "    </tr>\n",
       "  </tbody>\n",
       "</table>\n",
       "</div>"
      ],
      "text/plain": [
       "     A          B    C  D     E    F\n",
       "0  1.0 2013-01-02  1.0  3  test  foo\n",
       "1  1.0 2013-01-02  1.0  3  Taha  foo\n",
       "2  1.0 2013-01-02  1.0  3  test  foo\n",
       "3  1.0 2013-01-02  1.0  3    AI  foo"
      ]
     },
     "execution_count": 154,
     "metadata": {},
     "output_type": "execute_result"
    }
   ],
   "source": [
    "df2"
   ]
  },
  {
   "cell_type": "code",
   "execution_count": 155,
   "id": "43d571cc-23be-44f2-8240-eb8bf9bad7ea",
   "metadata": {},
   "outputs": [
    {
     "data": {
      "text/plain": [
       "A          float64\n",
       "B    datetime64[s]\n",
       "C          float32\n",
       "D            int32\n",
       "E         category\n",
       "F           object\n",
       "dtype: object"
      ]
     },
     "execution_count": 155,
     "metadata": {},
     "output_type": "execute_result"
    }
   ],
   "source": [
    "#Having specific dtypes\n",
    "df2.dtypes"
   ]
  },
  {
   "cell_type": "markdown",
   "id": "d610b7f3-158d-4f03-8bc0-1a8dd48e75bc",
   "metadata": {},
   "source": [
    "## 12. Viewing Data"
   ]
  },
  {
   "cell_type": "code",
   "execution_count": 156,
   "id": "078b5f93-7a3e-4b92-88d5-3d44fb9b65fb",
   "metadata": {},
   "outputs": [
    {
     "data": {
      "text/html": [
       "<div>\n",
       "<style scoped>\n",
       "    .dataframe tbody tr th:only-of-type {\n",
       "        vertical-align: middle;\n",
       "    }\n",
       "\n",
       "    .dataframe tbody tr th {\n",
       "        vertical-align: top;\n",
       "    }\n",
       "\n",
       "    .dataframe thead th {\n",
       "        text-align: right;\n",
       "    }\n",
       "</style>\n",
       "<table border=\"1\" class=\"dataframe\">\n",
       "  <thead>\n",
       "    <tr style=\"text-align: right;\">\n",
       "      <th></th>\n",
       "      <th>T</th>\n",
       "      <th>A</th>\n",
       "      <th>H</th>\n",
       "      <th>A</th>\n",
       "    </tr>\n",
       "  </thead>\n",
       "  <tbody>\n",
       "    <tr>\n",
       "      <th>2013-01-01</th>\n",
       "      <td>0.453296</td>\n",
       "      <td>-1.986865</td>\n",
       "      <td>-0.704332</td>\n",
       "      <td>1.678422</td>\n",
       "    </tr>\n",
       "    <tr>\n",
       "      <th>2013-01-02</th>\n",
       "      <td>-0.174547</td>\n",
       "      <td>-0.163405</td>\n",
       "      <td>-0.130367</td>\n",
       "      <td>1.601520</td>\n",
       "    </tr>\n",
       "    <tr>\n",
       "      <th>2013-01-03</th>\n",
       "      <td>-0.547773</td>\n",
       "      <td>-0.566115</td>\n",
       "      <td>-1.753779</td>\n",
       "      <td>1.695296</td>\n",
       "    </tr>\n",
       "    <tr>\n",
       "      <th>2013-01-04</th>\n",
       "      <td>0.207750</td>\n",
       "      <td>0.114795</td>\n",
       "      <td>0.913539</td>\n",
       "      <td>0.244570</td>\n",
       "    </tr>\n",
       "    <tr>\n",
       "      <th>2013-01-05</th>\n",
       "      <td>-1.273823</td>\n",
       "      <td>0.069872</td>\n",
       "      <td>-0.587884</td>\n",
       "      <td>-1.265897</td>\n",
       "    </tr>\n",
       "  </tbody>\n",
       "</table>\n",
       "</div>"
      ],
      "text/plain": [
       "                   T         A         H         A\n",
       "2013-01-01  0.453296 -1.986865 -0.704332  1.678422\n",
       "2013-01-02 -0.174547 -0.163405 -0.130367  1.601520\n",
       "2013-01-03 -0.547773 -0.566115 -1.753779  1.695296\n",
       "2013-01-04  0.207750  0.114795  0.913539  0.244570\n",
       "2013-01-05 -1.273823  0.069872 -0.587884 -1.265897"
      ]
     },
     "execution_count": 156,
     "metadata": {},
     "output_type": "execute_result"
    }
   ],
   "source": [
    "df.head() #display first 5 records"
   ]
  },
  {
   "cell_type": "code",
   "execution_count": 157,
   "id": "960b3c11-a8e9-4837-a406-af83edf8f8f8",
   "metadata": {},
   "outputs": [
    {
     "data": {
      "text/html": [
       "<div>\n",
       "<style scoped>\n",
       "    .dataframe tbody tr th:only-of-type {\n",
       "        vertical-align: middle;\n",
       "    }\n",
       "\n",
       "    .dataframe tbody tr th {\n",
       "        vertical-align: top;\n",
       "    }\n",
       "\n",
       "    .dataframe thead th {\n",
       "        text-align: right;\n",
       "    }\n",
       "</style>\n",
       "<table border=\"1\" class=\"dataframe\">\n",
       "  <thead>\n",
       "    <tr style=\"text-align: right;\">\n",
       "      <th></th>\n",
       "      <th>T</th>\n",
       "      <th>A</th>\n",
       "      <th>H</th>\n",
       "      <th>A</th>\n",
       "    </tr>\n",
       "  </thead>\n",
       "  <tbody>\n",
       "    <tr>\n",
       "      <th>2013-01-04</th>\n",
       "      <td>0.207750</td>\n",
       "      <td>0.114795</td>\n",
       "      <td>0.913539</td>\n",
       "      <td>0.244570</td>\n",
       "    </tr>\n",
       "    <tr>\n",
       "      <th>2013-01-05</th>\n",
       "      <td>-1.273823</td>\n",
       "      <td>0.069872</td>\n",
       "      <td>-0.587884</td>\n",
       "      <td>-1.265897</td>\n",
       "    </tr>\n",
       "    <tr>\n",
       "      <th>2013-01-06</th>\n",
       "      <td>-0.955672</td>\n",
       "      <td>0.290812</td>\n",
       "      <td>-0.920613</td>\n",
       "      <td>0.596918</td>\n",
       "    </tr>\n",
       "  </tbody>\n",
       "</table>\n",
       "</div>"
      ],
      "text/plain": [
       "                   T         A         H         A\n",
       "2013-01-04  0.207750  0.114795  0.913539  0.244570\n",
       "2013-01-05 -1.273823  0.069872 -0.587884 -1.265897\n",
       "2013-01-06 -0.955672  0.290812 -0.920613  0.596918"
      ]
     },
     "execution_count": 157,
     "metadata": {},
     "output_type": "execute_result"
    }
   ],
   "source": [
    "df.tail(3) #display last 3 records\n"
   ]
  },
  {
   "cell_type": "code",
   "execution_count": 158,
   "id": "ba36c367-c2b6-46c3-acee-bdfd9aba38da",
   "metadata": {},
   "outputs": [
    {
     "data": {
      "text/plain": [
       "DatetimeIndex(['2013-01-01', '2013-01-02', '2013-01-03', '2013-01-04',\n",
       "               '2013-01-05', '2013-01-06'],\n",
       "              dtype='datetime64[ns]', freq='D')"
      ]
     },
     "execution_count": 158,
     "metadata": {},
     "output_type": "execute_result"
    }
   ],
   "source": [
    "df.index #display indexes\n"
   ]
  },
  {
   "cell_type": "code",
   "execution_count": 159,
   "id": "82ba0e5e-2660-4a7f-bb3c-f430b61e8473",
   "metadata": {},
   "outputs": [
    {
     "data": {
      "text/plain": [
       "Index(['T', 'A', 'H', 'A'], dtype='object')"
      ]
     },
     "execution_count": 159,
     "metadata": {},
     "output_type": "execute_result"
    }
   ],
   "source": [
    "df.columns #display coloumns\n"
   ]
  },
  {
   "cell_type": "code",
   "execution_count": 160,
   "id": "18629d20-a926-40d7-9925-14f89c582f77",
   "metadata": {},
   "outputs": [
    {
     "data": {
      "text/plain": [
       "array([[ 0.45329631, -1.98686461, -0.70433176,  1.67842196],\n",
       "       [-0.17454739, -0.16340452, -0.13036709,  1.60152024],\n",
       "       [-0.54777267, -0.56611525, -1.75377894,  1.69529634],\n",
       "       [ 0.20775   ,  0.11479497,  0.91353922,  0.24457026],\n",
       "       [-1.27382317,  0.06987204, -0.58788425, -1.26589708],\n",
       "       [-0.95567198,  0.29081238, -0.9206127 ,  0.59691761]])"
      ]
     },
     "execution_count": 160,
     "metadata": {},
     "output_type": "execute_result"
    }
   ],
   "source": [
    "df.values # print values\n"
   ]
  },
  {
   "cell_type": "code",
   "execution_count": 161,
   "id": "aba65020-1262-4493-b3ca-7996ce670367",
   "metadata": {},
   "outputs": [
    {
     "data": {
      "text/html": [
       "<div>\n",
       "<style scoped>\n",
       "    .dataframe tbody tr th:only-of-type {\n",
       "        vertical-align: middle;\n",
       "    }\n",
       "\n",
       "    .dataframe tbody tr th {\n",
       "        vertical-align: top;\n",
       "    }\n",
       "\n",
       "    .dataframe thead th {\n",
       "        text-align: right;\n",
       "    }\n",
       "</style>\n",
       "<table border=\"1\" class=\"dataframe\">\n",
       "  <thead>\n",
       "    <tr style=\"text-align: right;\">\n",
       "      <th></th>\n",
       "      <th>2013-01-01</th>\n",
       "      <th>2013-01-02</th>\n",
       "      <th>2013-01-03</th>\n",
       "      <th>2013-01-04</th>\n",
       "      <th>2013-01-05</th>\n",
       "      <th>2013-01-06</th>\n",
       "    </tr>\n",
       "  </thead>\n",
       "  <tbody>\n",
       "    <tr>\n",
       "      <th>T</th>\n",
       "      <td>0.453296</td>\n",
       "      <td>-0.174547</td>\n",
       "      <td>-0.547773</td>\n",
       "      <td>0.207750</td>\n",
       "      <td>-1.273823</td>\n",
       "      <td>-0.955672</td>\n",
       "    </tr>\n",
       "    <tr>\n",
       "      <th>A</th>\n",
       "      <td>-1.986865</td>\n",
       "      <td>-0.163405</td>\n",
       "      <td>-0.566115</td>\n",
       "      <td>0.114795</td>\n",
       "      <td>0.069872</td>\n",
       "      <td>0.290812</td>\n",
       "    </tr>\n",
       "    <tr>\n",
       "      <th>H</th>\n",
       "      <td>-0.704332</td>\n",
       "      <td>-0.130367</td>\n",
       "      <td>-1.753779</td>\n",
       "      <td>0.913539</td>\n",
       "      <td>-0.587884</td>\n",
       "      <td>-0.920613</td>\n",
       "    </tr>\n",
       "    <tr>\n",
       "      <th>A</th>\n",
       "      <td>1.678422</td>\n",
       "      <td>1.601520</td>\n",
       "      <td>1.695296</td>\n",
       "      <td>0.244570</td>\n",
       "      <td>-1.265897</td>\n",
       "      <td>0.596918</td>\n",
       "    </tr>\n",
       "  </tbody>\n",
       "</table>\n",
       "</div>"
      ],
      "text/plain": [
       "   2013-01-01  2013-01-02  2013-01-03  2013-01-04  2013-01-05  2013-01-06\n",
       "T    0.453296   -0.174547   -0.547773    0.207750   -1.273823   -0.955672\n",
       "A   -1.986865   -0.163405   -0.566115    0.114795    0.069872    0.290812\n",
       "H   -0.704332   -0.130367   -1.753779    0.913539   -0.587884   -0.920613\n",
       "A    1.678422    1.601520    1.695296    0.244570   -1.265897    0.596918"
      ]
     },
     "execution_count": 161,
     "metadata": {},
     "output_type": "execute_result"
    }
   ],
   "source": [
    "# Transposing your data\n",
    "df.T\n"
   ]
  },
  {
   "cell_type": "code",
   "execution_count": 162,
   "id": "1efc5b91-ba55-4a89-abdb-064760e66322",
   "metadata": {},
   "outputs": [
    {
     "data": {
      "text/html": [
       "<div>\n",
       "<style scoped>\n",
       "    .dataframe tbody tr th:only-of-type {\n",
       "        vertical-align: middle;\n",
       "    }\n",
       "\n",
       "    .dataframe tbody tr th {\n",
       "        vertical-align: top;\n",
       "    }\n",
       "\n",
       "    .dataframe thead th {\n",
       "        text-align: right;\n",
       "    }\n",
       "</style>\n",
       "<table border=\"1\" class=\"dataframe\">\n",
       "  <thead>\n",
       "    <tr style=\"text-align: right;\">\n",
       "      <th></th>\n",
       "      <th>T</th>\n",
       "      <th>H</th>\n",
       "      <th>A</th>\n",
       "      <th>A</th>\n",
       "    </tr>\n",
       "  </thead>\n",
       "  <tbody>\n",
       "    <tr>\n",
       "      <th>2013-01-01</th>\n",
       "      <td>0.453296</td>\n",
       "      <td>-0.704332</td>\n",
       "      <td>-1.986865</td>\n",
       "      <td>1.678422</td>\n",
       "    </tr>\n",
       "    <tr>\n",
       "      <th>2013-01-02</th>\n",
       "      <td>-0.174547</td>\n",
       "      <td>-0.130367</td>\n",
       "      <td>-0.163405</td>\n",
       "      <td>1.601520</td>\n",
       "    </tr>\n",
       "    <tr>\n",
       "      <th>2013-01-03</th>\n",
       "      <td>-0.547773</td>\n",
       "      <td>-1.753779</td>\n",
       "      <td>-0.566115</td>\n",
       "      <td>1.695296</td>\n",
       "    </tr>\n",
       "    <tr>\n",
       "      <th>2013-01-04</th>\n",
       "      <td>0.207750</td>\n",
       "      <td>0.913539</td>\n",
       "      <td>0.114795</td>\n",
       "      <td>0.244570</td>\n",
       "    </tr>\n",
       "    <tr>\n",
       "      <th>2013-01-05</th>\n",
       "      <td>-1.273823</td>\n",
       "      <td>-0.587884</td>\n",
       "      <td>0.069872</td>\n",
       "      <td>-1.265897</td>\n",
       "    </tr>\n",
       "    <tr>\n",
       "      <th>2013-01-06</th>\n",
       "      <td>-0.955672</td>\n",
       "      <td>-0.920613</td>\n",
       "      <td>0.290812</td>\n",
       "      <td>0.596918</td>\n",
       "    </tr>\n",
       "  </tbody>\n",
       "</table>\n",
       "</div>"
      ],
      "text/plain": [
       "                   T         H         A         A\n",
       "2013-01-01  0.453296 -0.704332 -1.986865  1.678422\n",
       "2013-01-02 -0.174547 -0.130367 -0.163405  1.601520\n",
       "2013-01-03 -0.547773 -1.753779 -0.566115  1.695296\n",
       "2013-01-04  0.207750  0.913539  0.114795  0.244570\n",
       "2013-01-05 -1.273823 -0.587884  0.069872 -1.265897\n",
       "2013-01-06 -0.955672 -0.920613  0.290812  0.596918"
      ]
     },
     "execution_count": 162,
     "metadata": {},
     "output_type": "execute_result"
    }
   ],
   "source": [
    " #Sorting by an axis\n",
    "df.sort_index(axis=1, ascending=False)\n"
   ]
  },
  {
   "cell_type": "code",
   "execution_count": 4,
   "id": "3817b51a-f7ea-435e-b624-baafc44ad1b6",
   "metadata": {},
   "outputs": [
    {
     "name": "stdout",
     "output_type": "stream",
     "text": [
      "                   T         H         A         A\n",
      "2013-01-06  0.874863 -1.627257  0.083776 -0.536444\n",
      "2013-01-05  2.095122 -0.775471 -0.172476 -0.949045\n",
      "2013-01-03  0.727796 -0.610306 -1.940319 -0.515120\n",
      "2013-01-01 -0.925172 -0.232885  0.351592  0.450190\n",
      "2013-01-02  0.726585  0.467108  1.038036 -0.020423\n",
      "2013-01-04 -1.030102  1.672901 -1.312540 -0.915103\n"
     ]
    }
   ],
   "source": [
    "import pandas as pd\n",
    "import numpy as np\n",
    "\n",
    "# Create the DataFrame\n",
    "dates = pd.date_range('2013-01-01', periods=6)\n",
    "df = pd.DataFrame(np.random.randn(6, 4), index=dates, columns=['T', 'H', 'A', 'A'])\n",
    "\n",
    "# Now you can sort by a column\n",
    "df_sorted = df.sort_values(by='H')  # Replace 'H' with your desired column name\n",
    "print(df_sorted)\n"
   ]
  },
  {
   "cell_type": "code",
   "execution_count": 5,
   "id": "83dd7558-189c-4078-9e9a-4cd682e33d80",
   "metadata": {},
   "outputs": [],
   "source": [
    "df.columns = ['T', 'H', 'A1', 'A2']\n"
   ]
  },
  {
   "cell_type": "code",
   "execution_count": 6,
   "id": "fe820b91-1c3a-40a2-91bf-604f709395ed",
   "metadata": {},
   "outputs": [
    {
     "data": {
      "text/html": [
       "<div>\n",
       "<style scoped>\n",
       "    .dataframe tbody tr th:only-of-type {\n",
       "        vertical-align: middle;\n",
       "    }\n",
       "\n",
       "    .dataframe tbody tr th {\n",
       "        vertical-align: top;\n",
       "    }\n",
       "\n",
       "    .dataframe thead th {\n",
       "        text-align: right;\n",
       "    }\n",
       "</style>\n",
       "<table border=\"1\" class=\"dataframe\">\n",
       "  <thead>\n",
       "    <tr style=\"text-align: right;\">\n",
       "      <th></th>\n",
       "      <th>T</th>\n",
       "      <th>H</th>\n",
       "      <th>A1</th>\n",
       "      <th>A2</th>\n",
       "    </tr>\n",
       "  </thead>\n",
       "  <tbody>\n",
       "    <tr>\n",
       "      <th>2013-01-06</th>\n",
       "      <td>0.874863</td>\n",
       "      <td>-1.627257</td>\n",
       "      <td>0.083776</td>\n",
       "      <td>-0.536444</td>\n",
       "    </tr>\n",
       "    <tr>\n",
       "      <th>2013-01-05</th>\n",
       "      <td>2.095122</td>\n",
       "      <td>-0.775471</td>\n",
       "      <td>-0.172476</td>\n",
       "      <td>-0.949045</td>\n",
       "    </tr>\n",
       "    <tr>\n",
       "      <th>2013-01-03</th>\n",
       "      <td>0.727796</td>\n",
       "      <td>-0.610306</td>\n",
       "      <td>-1.940319</td>\n",
       "      <td>-0.515120</td>\n",
       "    </tr>\n",
       "    <tr>\n",
       "      <th>2013-01-01</th>\n",
       "      <td>-0.925172</td>\n",
       "      <td>-0.232885</td>\n",
       "      <td>0.351592</td>\n",
       "      <td>0.450190</td>\n",
       "    </tr>\n",
       "    <tr>\n",
       "      <th>2013-01-02</th>\n",
       "      <td>0.726585</td>\n",
       "      <td>0.467108</td>\n",
       "      <td>1.038036</td>\n",
       "      <td>-0.020423</td>\n",
       "    </tr>\n",
       "    <tr>\n",
       "      <th>2013-01-04</th>\n",
       "      <td>-1.030102</td>\n",
       "      <td>1.672901</td>\n",
       "      <td>-1.312540</td>\n",
       "      <td>-0.915103</td>\n",
       "    </tr>\n",
       "  </tbody>\n",
       "</table>\n",
       "</div>"
      ],
      "text/plain": [
       "                   T         H        A1        A2\n",
       "2013-01-06  0.874863 -1.627257  0.083776 -0.536444\n",
       "2013-01-05  2.095122 -0.775471 -0.172476 -0.949045\n",
       "2013-01-03  0.727796 -0.610306 -1.940319 -0.515120\n",
       "2013-01-01 -0.925172 -0.232885  0.351592  0.450190\n",
       "2013-01-02  0.726585  0.467108  1.038036 -0.020423\n",
       "2013-01-04 -1.030102  1.672901 -1.312540 -0.915103"
      ]
     },
     "execution_count": 6,
     "metadata": {},
     "output_type": "execute_result"
    }
   ],
   "source": [
    "df.sort_values(by='H')\n"
   ]
  },
  {
   "cell_type": "code",
   "execution_count": 7,
   "id": "8f860f01-459f-4d2c-a7fb-390eaf2f541a",
   "metadata": {},
   "outputs": [
    {
     "data": {
      "text/html": [
       "<div>\n",
       "<style scoped>\n",
       "    .dataframe tbody tr th:only-of-type {\n",
       "        vertical-align: middle;\n",
       "    }\n",
       "\n",
       "    .dataframe tbody tr th {\n",
       "        vertical-align: top;\n",
       "    }\n",
       "\n",
       "    .dataframe thead th {\n",
       "        text-align: right;\n",
       "    }\n",
       "</style>\n",
       "<table border=\"1\" class=\"dataframe\">\n",
       "  <thead>\n",
       "    <tr style=\"text-align: right;\">\n",
       "      <th></th>\n",
       "      <th>T</th>\n",
       "      <th>H</th>\n",
       "      <th>A1</th>\n",
       "      <th>A2</th>\n",
       "    </tr>\n",
       "  </thead>\n",
       "  <tbody>\n",
       "    <tr>\n",
       "      <th>count</th>\n",
       "      <td>6.000000</td>\n",
       "      <td>6.000000</td>\n",
       "      <td>6.000000</td>\n",
       "      <td>6.000000</td>\n",
       "    </tr>\n",
       "    <tr>\n",
       "      <th>mean</th>\n",
       "      <td>0.411515</td>\n",
       "      <td>-0.184318</td>\n",
       "      <td>-0.325322</td>\n",
       "      <td>-0.414324</td>\n",
       "    </tr>\n",
       "    <tr>\n",
       "      <th>std</th>\n",
       "      <td>1.192772</td>\n",
       "      <td>1.139208</td>\n",
       "      <td>1.103675</td>\n",
       "      <td>0.541169</td>\n",
       "    </tr>\n",
       "    <tr>\n",
       "      <th>min</th>\n",
       "      <td>-1.030102</td>\n",
       "      <td>-1.627257</td>\n",
       "      <td>-1.940319</td>\n",
       "      <td>-0.949045</td>\n",
       "    </tr>\n",
       "    <tr>\n",
       "      <th>25%</th>\n",
       "      <td>-0.512233</td>\n",
       "      <td>-0.734180</td>\n",
       "      <td>-1.027524</td>\n",
       "      <td>-0.820438</td>\n",
       "    </tr>\n",
       "    <tr>\n",
       "      <th>50%</th>\n",
       "      <td>0.727190</td>\n",
       "      <td>-0.421595</td>\n",
       "      <td>-0.044350</td>\n",
       "      <td>-0.525782</td>\n",
       "    </tr>\n",
       "    <tr>\n",
       "      <th>75%</th>\n",
       "      <td>0.838096</td>\n",
       "      <td>0.292110</td>\n",
       "      <td>0.284638</td>\n",
       "      <td>-0.144098</td>\n",
       "    </tr>\n",
       "    <tr>\n",
       "      <th>max</th>\n",
       "      <td>2.095122</td>\n",
       "      <td>1.672901</td>\n",
       "      <td>1.038036</td>\n",
       "      <td>0.450190</td>\n",
       "    </tr>\n",
       "  </tbody>\n",
       "</table>\n",
       "</div>"
      ],
      "text/plain": [
       "              T         H        A1        A2\n",
       "count  6.000000  6.000000  6.000000  6.000000\n",
       "mean   0.411515 -0.184318 -0.325322 -0.414324\n",
       "std    1.192772  1.139208  1.103675  0.541169\n",
       "min   -1.030102 -1.627257 -1.940319 -0.949045\n",
       "25%   -0.512233 -0.734180 -1.027524 -0.820438\n",
       "50%    0.727190 -0.421595 -0.044350 -0.525782\n",
       "75%    0.838096  0.292110  0.284638 -0.144098\n",
       "max    2.095122  1.672901  1.038036  0.450190"
      ]
     },
     "execution_count": 7,
     "metadata": {},
     "output_type": "execute_result"
    }
   ],
   "source": [
    "# Describe shows a quick statistic summary of your data\n",
    "df.describe() "
   ]
  },
  {
   "cell_type": "code",
   "execution_count": 8,
   "id": "19652814-5a50-4c8c-8c34-7c2966afd266",
   "metadata": {},
   "outputs": [
    {
     "data": {
      "text/plain": [
       "2013-01-01   -0.925172\n",
       "2013-01-02    0.726585\n",
       "2013-01-03    0.727796\n",
       "2013-01-04   -1.030102\n",
       "2013-01-05    2.095122\n",
       "2013-01-06    0.874863\n",
       "Freq: D, Name: T, dtype: float64"
      ]
     },
     "execution_count": 8,
     "metadata": {},
     "output_type": "execute_result"
    }
   ],
   "source": [
    "#Selecting a single column, which yields a Series, equivalent to df.A \n",
    "df['T'] "
   ]
  },
  {
   "cell_type": "code",
   "execution_count": 9,
   "id": "0ffafb70-a9e6-421d-a0e0-825446069cb7",
   "metadata": {},
   "outputs": [
    {
     "data": {
      "text/html": [
       "<div>\n",
       "<style scoped>\n",
       "    .dataframe tbody tr th:only-of-type {\n",
       "        vertical-align: middle;\n",
       "    }\n",
       "\n",
       "    .dataframe tbody tr th {\n",
       "        vertical-align: top;\n",
       "    }\n",
       "\n",
       "    .dataframe thead th {\n",
       "        text-align: right;\n",
       "    }\n",
       "</style>\n",
       "<table border=\"1\" class=\"dataframe\">\n",
       "  <thead>\n",
       "    <tr style=\"text-align: right;\">\n",
       "      <th></th>\n",
       "      <th>T</th>\n",
       "      <th>H</th>\n",
       "      <th>A1</th>\n",
       "      <th>A2</th>\n",
       "    </tr>\n",
       "  </thead>\n",
       "  <tbody>\n",
       "    <tr>\n",
       "      <th>2013-01-01</th>\n",
       "      <td>-0.925172</td>\n",
       "      <td>-0.232885</td>\n",
       "      <td>0.351592</td>\n",
       "      <td>0.450190</td>\n",
       "    </tr>\n",
       "    <tr>\n",
       "      <th>2013-01-02</th>\n",
       "      <td>0.726585</td>\n",
       "      <td>0.467108</td>\n",
       "      <td>1.038036</td>\n",
       "      <td>-0.020423</td>\n",
       "    </tr>\n",
       "    <tr>\n",
       "      <th>2013-01-03</th>\n",
       "      <td>0.727796</td>\n",
       "      <td>-0.610306</td>\n",
       "      <td>-1.940319</td>\n",
       "      <td>-0.515120</td>\n",
       "    </tr>\n",
       "  </tbody>\n",
       "</table>\n",
       "</div>"
      ],
      "text/plain": [
       "                   T         H        A1        A2\n",
       "2013-01-01 -0.925172 -0.232885  0.351592  0.450190\n",
       "2013-01-02  0.726585  0.467108  1.038036 -0.020423\n",
       "2013-01-03  0.727796 -0.610306 -1.940319 -0.515120"
      ]
     },
     "execution_count": 9,
     "metadata": {},
     "output_type": "execute_result"
    }
   ],
   "source": [
    "#Selecting via [], which slices the rows. \n",
    "df[0:3] "
   ]
  },
  {
   "cell_type": "code",
   "execution_count": 10,
   "id": "27ace82e-3e1f-4b96-a4c2-cc85b9f7f4b7",
   "metadata": {},
   "outputs": [
    {
     "data": {
      "text/html": [
       "<div>\n",
       "<style scoped>\n",
       "    .dataframe tbody tr th:only-of-type {\n",
       "        vertical-align: middle;\n",
       "    }\n",
       "\n",
       "    .dataframe tbody tr th {\n",
       "        vertical-align: top;\n",
       "    }\n",
       "\n",
       "    .dataframe thead th {\n",
       "        text-align: right;\n",
       "    }\n",
       "</style>\n",
       "<table border=\"1\" class=\"dataframe\">\n",
       "  <thead>\n",
       "    <tr style=\"text-align: right;\">\n",
       "      <th></th>\n",
       "      <th>T</th>\n",
       "      <th>H</th>\n",
       "      <th>A1</th>\n",
       "      <th>A2</th>\n",
       "    </tr>\n",
       "  </thead>\n",
       "  <tbody>\n",
       "    <tr>\n",
       "      <th>2013-01-02</th>\n",
       "      <td>0.726585</td>\n",
       "      <td>0.467108</td>\n",
       "      <td>1.038036</td>\n",
       "      <td>-0.020423</td>\n",
       "    </tr>\n",
       "    <tr>\n",
       "      <th>2013-01-03</th>\n",
       "      <td>0.727796</td>\n",
       "      <td>-0.610306</td>\n",
       "      <td>-1.940319</td>\n",
       "      <td>-0.515120</td>\n",
       "    </tr>\n",
       "    <tr>\n",
       "      <th>2013-01-04</th>\n",
       "      <td>-1.030102</td>\n",
       "      <td>1.672901</td>\n",
       "      <td>-1.312540</td>\n",
       "      <td>-0.915103</td>\n",
       "    </tr>\n",
       "  </tbody>\n",
       "</table>\n",
       "</div>"
      ],
      "text/plain": [
       "                   T         H        A1        A2\n",
       "2013-01-02  0.726585  0.467108  1.038036 -0.020423\n",
       "2013-01-03  0.727796 -0.610306 -1.940319 -0.515120\n",
       "2013-01-04 -1.030102  1.672901 -1.312540 -0.915103"
      ]
     },
     "execution_count": 10,
     "metadata": {},
     "output_type": "execute_result"
    }
   ],
   "source": [
    "df['20130102':'20130104'] "
   ]
  },
  {
   "cell_type": "code",
   "execution_count": 11,
   "id": "14704a83-7412-4bc6-9b11-5664d8b24451",
   "metadata": {},
   "outputs": [
    {
     "data": {
      "text/html": [
       "<div>\n",
       "<style scoped>\n",
       "    .dataframe tbody tr th:only-of-type {\n",
       "        vertical-align: middle;\n",
       "    }\n",
       "\n",
       "    .dataframe tbody tr th {\n",
       "        vertical-align: top;\n",
       "    }\n",
       "\n",
       "    .dataframe thead th {\n",
       "        text-align: right;\n",
       "    }\n",
       "</style>\n",
       "<table border=\"1\" class=\"dataframe\">\n",
       "  <thead>\n",
       "    <tr style=\"text-align: right;\">\n",
       "      <th></th>\n",
       "      <th>T</th>\n",
       "      <th>H</th>\n",
       "    </tr>\n",
       "  </thead>\n",
       "  <tbody>\n",
       "    <tr>\n",
       "      <th>2013-01-01</th>\n",
       "      <td>-0.925172</td>\n",
       "      <td>-0.232885</td>\n",
       "    </tr>\n",
       "    <tr>\n",
       "      <th>2013-01-02</th>\n",
       "      <td>0.726585</td>\n",
       "      <td>0.467108</td>\n",
       "    </tr>\n",
       "    <tr>\n",
       "      <th>2013-01-03</th>\n",
       "      <td>0.727796</td>\n",
       "      <td>-0.610306</td>\n",
       "    </tr>\n",
       "    <tr>\n",
       "      <th>2013-01-04</th>\n",
       "      <td>-1.030102</td>\n",
       "      <td>1.672901</td>\n",
       "    </tr>\n",
       "    <tr>\n",
       "      <th>2013-01-05</th>\n",
       "      <td>2.095122</td>\n",
       "      <td>-0.775471</td>\n",
       "    </tr>\n",
       "    <tr>\n",
       "      <th>2013-01-06</th>\n",
       "      <td>0.874863</td>\n",
       "      <td>-1.627257</td>\n",
       "    </tr>\n",
       "  </tbody>\n",
       "</table>\n",
       "</div>"
      ],
      "text/plain": [
       "                   T         H\n",
       "2013-01-01 -0.925172 -0.232885\n",
       "2013-01-02  0.726585  0.467108\n",
       "2013-01-03  0.727796 -0.610306\n",
       "2013-01-04 -1.030102  1.672901\n",
       "2013-01-05  2.095122 -0.775471\n",
       "2013-01-06  0.874863 -1.627257"
      ]
     },
     "execution_count": 11,
     "metadata": {},
     "output_type": "execute_result"
    }
   ],
   "source": [
    "#Selecting on a multi-axis by label\n",
    "df.loc[:,['T','H']] "
   ]
  },
  {
   "cell_type": "code",
   "execution_count": 14,
   "id": "3de04bb9-33a4-4013-8547-ae85cef3d16f",
   "metadata": {},
   "outputs": [
    {
     "data": {
      "text/html": [
       "<div>\n",
       "<style scoped>\n",
       "    .dataframe tbody tr th:only-of-type {\n",
       "        vertical-align: middle;\n",
       "    }\n",
       "\n",
       "    .dataframe tbody tr th {\n",
       "        vertical-align: top;\n",
       "    }\n",
       "\n",
       "    .dataframe thead th {\n",
       "        text-align: right;\n",
       "    }\n",
       "</style>\n",
       "<table border=\"1\" class=\"dataframe\">\n",
       "  <thead>\n",
       "    <tr style=\"text-align: right;\">\n",
       "      <th></th>\n",
       "      <th>T</th>\n",
       "      <th>H</th>\n",
       "    </tr>\n",
       "  </thead>\n",
       "  <tbody>\n",
       "    <tr>\n",
       "      <th>2013-01-02</th>\n",
       "      <td>0.726585</td>\n",
       "      <td>0.467108</td>\n",
       "    </tr>\n",
       "    <tr>\n",
       "      <th>2013-01-03</th>\n",
       "      <td>0.727796</td>\n",
       "      <td>-0.610306</td>\n",
       "    </tr>\n",
       "    <tr>\n",
       "      <th>2013-01-04</th>\n",
       "      <td>-1.030102</td>\n",
       "      <td>1.672901</td>\n",
       "    </tr>\n",
       "  </tbody>\n",
       "</table>\n",
       "</div>"
      ],
      "text/plain": [
       "                   T         H\n",
       "2013-01-02  0.726585  0.467108\n",
       "2013-01-03  0.727796 -0.610306\n",
       "2013-01-04 -1.030102  1.672901"
      ]
     },
     "execution_count": 14,
     "metadata": {},
     "output_type": "execute_result"
    }
   ],
   "source": [
    "#Showing label slicing, both endpoints are included\n",
    "df.loc['20130102':'20130104',['T','H']] "
   ]
  },
  {
   "cell_type": "code",
   "execution_count": 15,
   "id": "fcf3ae03-b38c-46c5-ac8e-3d2a7cdb5efe",
   "metadata": {},
   "outputs": [
    {
     "data": {
      "text/plain": [
       "T    0.726585\n",
       "H    0.467108\n",
       "Name: 2013-01-02 00:00:00, dtype: float64"
      ]
     },
     "execution_count": 15,
     "metadata": {},
     "output_type": "execute_result"
    }
   ],
   "source": [
    "# Reduction in the dimensions of the returned object \n",
    "df.loc['20130102',['T','H']] "
   ]
  },
  {
   "cell_type": "code",
   "execution_count": 16,
   "id": "8716781a-282d-4faa-888c-ab13d76b75c0",
   "metadata": {},
   "outputs": [
    {
     "data": {
      "text/plain": [
       "np.float64(-0.9251721671597749)"
      ]
     },
     "execution_count": 16,
     "metadata": {},
     "output_type": "execute_result"
    }
   ],
   "source": [
    "# For getting a scalar value \n",
    "df.loc[dates[0],'T'] "
   ]
  },
  {
   "cell_type": "code",
   "execution_count": 17,
   "id": "21301e1a-9c81-4b69-b24a-98241e8c3d7f",
   "metadata": {},
   "outputs": [
    {
     "data": {
      "text/plain": [
       "np.float64(-0.9251721671597749)"
      ]
     },
     "execution_count": 17,
     "metadata": {},
     "output_type": "execute_result"
    }
   ],
   "source": [
    "# For getting fast access to a scalar \n",
    "df.at[dates[0],'T'] "
   ]
  },
  {
   "cell_type": "code",
   "execution_count": 18,
   "id": "2a73f0e4-08be-4fc3-813c-8da3dc19a74e",
   "metadata": {},
   "outputs": [
    {
     "data": {
      "text/plain": [
       "T    -1.030102\n",
       "H     1.672901\n",
       "A1   -1.312540\n",
       "A2   -0.915103\n",
       "Name: 2013-01-04 00:00:00, dtype: float64"
      ]
     },
     "execution_count": 18,
     "metadata": {},
     "output_type": "execute_result"
    }
   ],
   "source": [
    "# Select via the position of the passed integers \n",
    "df.iloc[3] "
   ]
  },
  {
   "cell_type": "code",
   "execution_count": 19,
   "id": "562358c0-fff1-4d8c-9269-346b515c4b13",
   "metadata": {},
   "outputs": [
    {
     "data": {
      "text/html": [
       "<div>\n",
       "<style scoped>\n",
       "    .dataframe tbody tr th:only-of-type {\n",
       "        vertical-align: middle;\n",
       "    }\n",
       "\n",
       "    .dataframe tbody tr th {\n",
       "        vertical-align: top;\n",
       "    }\n",
       "\n",
       "    .dataframe thead th {\n",
       "        text-align: right;\n",
       "    }\n",
       "</style>\n",
       "<table border=\"1\" class=\"dataframe\">\n",
       "  <thead>\n",
       "    <tr style=\"text-align: right;\">\n",
       "      <th></th>\n",
       "      <th>T</th>\n",
       "      <th>H</th>\n",
       "    </tr>\n",
       "  </thead>\n",
       "  <tbody>\n",
       "    <tr>\n",
       "      <th>2013-01-04</th>\n",
       "      <td>-1.030102</td>\n",
       "      <td>1.672901</td>\n",
       "    </tr>\n",
       "    <tr>\n",
       "      <th>2013-01-05</th>\n",
       "      <td>2.095122</td>\n",
       "      <td>-0.775471</td>\n",
       "    </tr>\n",
       "  </tbody>\n",
       "</table>\n",
       "</div>"
      ],
      "text/plain": [
       "                   T         H\n",
       "2013-01-04 -1.030102  1.672901\n",
       "2013-01-05  2.095122 -0.775471"
      ]
     },
     "execution_count": 19,
     "metadata": {},
     "output_type": "execute_result"
    }
   ],
   "source": [
    "# By integer slices, acting similar to numpy/python \n",
    "df.iloc[3:5,0:2] "
   ]
  },
  {
   "cell_type": "code",
   "execution_count": 20,
   "id": "bed64260-6e0d-42ec-b07c-17e9fc6fd7ee",
   "metadata": {},
   "outputs": [
    {
     "data": {
      "text/html": [
       "<div>\n",
       "<style scoped>\n",
       "    .dataframe tbody tr th:only-of-type {\n",
       "        vertical-align: middle;\n",
       "    }\n",
       "\n",
       "    .dataframe tbody tr th {\n",
       "        vertical-align: top;\n",
       "    }\n",
       "\n",
       "    .dataframe thead th {\n",
       "        text-align: right;\n",
       "    }\n",
       "</style>\n",
       "<table border=\"1\" class=\"dataframe\">\n",
       "  <thead>\n",
       "    <tr style=\"text-align: right;\">\n",
       "      <th></th>\n",
       "      <th>T</th>\n",
       "      <th>A1</th>\n",
       "    </tr>\n",
       "  </thead>\n",
       "  <tbody>\n",
       "    <tr>\n",
       "      <th>2013-01-02</th>\n",
       "      <td>0.726585</td>\n",
       "      <td>1.038036</td>\n",
       "    </tr>\n",
       "    <tr>\n",
       "      <th>2013-01-03</th>\n",
       "      <td>0.727796</td>\n",
       "      <td>-1.940319</td>\n",
       "    </tr>\n",
       "    <tr>\n",
       "      <th>2013-01-05</th>\n",
       "      <td>2.095122</td>\n",
       "      <td>-0.172476</td>\n",
       "    </tr>\n",
       "  </tbody>\n",
       "</table>\n",
       "</div>"
      ],
      "text/plain": [
       "                   T        A1\n",
       "2013-01-02  0.726585  1.038036\n",
       "2013-01-03  0.727796 -1.940319\n",
       "2013-01-05  2.095122 -0.172476"
      ]
     },
     "execution_count": 20,
     "metadata": {},
     "output_type": "execute_result"
    }
   ],
   "source": [
    "# By lists of integer position locations, similar to the numpy/python style\n",
    "df.iloc[[1,2,4],[0,2]] "
   ]
  },
  {
   "cell_type": "code",
   "execution_count": 21,
   "id": "0ca1c9a9-9b5e-4a0c-91a5-032940bd435c",
   "metadata": {},
   "outputs": [
    {
     "data": {
      "text/html": [
       "<div>\n",
       "<style scoped>\n",
       "    .dataframe tbody tr th:only-of-type {\n",
       "        vertical-align: middle;\n",
       "    }\n",
       "\n",
       "    .dataframe tbody tr th {\n",
       "        vertical-align: top;\n",
       "    }\n",
       "\n",
       "    .dataframe thead th {\n",
       "        text-align: right;\n",
       "    }\n",
       "</style>\n",
       "<table border=\"1\" class=\"dataframe\">\n",
       "  <thead>\n",
       "    <tr style=\"text-align: right;\">\n",
       "      <th></th>\n",
       "      <th>H</th>\n",
       "      <th>A1</th>\n",
       "    </tr>\n",
       "  </thead>\n",
       "  <tbody>\n",
       "    <tr>\n",
       "      <th>2013-01-01</th>\n",
       "      <td>-0.232885</td>\n",
       "      <td>0.351592</td>\n",
       "    </tr>\n",
       "    <tr>\n",
       "      <th>2013-01-02</th>\n",
       "      <td>0.467108</td>\n",
       "      <td>1.038036</td>\n",
       "    </tr>\n",
       "    <tr>\n",
       "      <th>2013-01-03</th>\n",
       "      <td>-0.610306</td>\n",
       "      <td>-1.940319</td>\n",
       "    </tr>\n",
       "    <tr>\n",
       "      <th>2013-01-04</th>\n",
       "      <td>1.672901</td>\n",
       "      <td>-1.312540</td>\n",
       "    </tr>\n",
       "    <tr>\n",
       "      <th>2013-01-05</th>\n",
       "      <td>-0.775471</td>\n",
       "      <td>-0.172476</td>\n",
       "    </tr>\n",
       "    <tr>\n",
       "      <th>2013-01-06</th>\n",
       "      <td>-1.627257</td>\n",
       "      <td>0.083776</td>\n",
       "    </tr>\n",
       "  </tbody>\n",
       "</table>\n",
       "</div>"
      ],
      "text/plain": [
       "                   H        A1\n",
       "2013-01-01 -0.232885  0.351592\n",
       "2013-01-02  0.467108  1.038036\n",
       "2013-01-03 -0.610306 -1.940319\n",
       "2013-01-04  1.672901 -1.312540\n",
       "2013-01-05 -0.775471 -0.172476\n",
       "2013-01-06 -1.627257  0.083776"
      ]
     },
     "execution_count": 21,
     "metadata": {},
     "output_type": "execute_result"
    }
   ],
   "source": [
    "# For slicing rows explicitly\n",
    "df.iloc[:,1:3] "
   ]
  },
  {
   "cell_type": "code",
   "execution_count": 22,
   "id": "2ff16fc8-3bc0-419f-8cf7-b0d02cfb34bc",
   "metadata": {},
   "outputs": [
    {
     "data": {
      "text/plain": [
       "np.float64(0.4671080317476909)"
      ]
     },
     "execution_count": 22,
     "metadata": {},
     "output_type": "execute_result"
    }
   ],
   "source": [
    "# For getting a value explicitly \n",
    "df.iloc[1,1] "
   ]
  },
  {
   "cell_type": "code",
   "execution_count": 24,
   "id": "6ebe94d3-3a4c-47a7-93d7-fe39c58d408f",
   "metadata": {},
   "outputs": [
    {
     "data": {
      "text/html": [
       "<div>\n",
       "<style scoped>\n",
       "    .dataframe tbody tr th:only-of-type {\n",
       "        vertical-align: middle;\n",
       "    }\n",
       "\n",
       "    .dataframe tbody tr th {\n",
       "        vertical-align: top;\n",
       "    }\n",
       "\n",
       "    .dataframe thead th {\n",
       "        text-align: right;\n",
       "    }\n",
       "</style>\n",
       "<table border=\"1\" class=\"dataframe\">\n",
       "  <thead>\n",
       "    <tr style=\"text-align: right;\">\n",
       "      <th></th>\n",
       "      <th>T</th>\n",
       "      <th>H</th>\n",
       "      <th>A1</th>\n",
       "      <th>A2</th>\n",
       "    </tr>\n",
       "  </thead>\n",
       "  <tbody>\n",
       "    <tr>\n",
       "      <th>2013-01-01</th>\n",
       "      <td>NaN</td>\n",
       "      <td>NaN</td>\n",
       "      <td>NaN</td>\n",
       "      <td>NaN</td>\n",
       "    </tr>\n",
       "    <tr>\n",
       "      <th>2013-01-02</th>\n",
       "      <td>NaN</td>\n",
       "      <td>NaN</td>\n",
       "      <td>NaN</td>\n",
       "      <td>NaN</td>\n",
       "    </tr>\n",
       "    <tr>\n",
       "      <th>2013-01-03</th>\n",
       "      <td>NaN</td>\n",
       "      <td>NaN</td>\n",
       "      <td>NaN</td>\n",
       "      <td>NaN</td>\n",
       "    </tr>\n",
       "    <tr>\n",
       "      <th>2013-01-04</th>\n",
       "      <td>NaN</td>\n",
       "      <td>NaN</td>\n",
       "      <td>NaN</td>\n",
       "      <td>NaN</td>\n",
       "    </tr>\n",
       "    <tr>\n",
       "      <th>2013-01-05</th>\n",
       "      <td>NaN</td>\n",
       "      <td>NaN</td>\n",
       "      <td>NaN</td>\n",
       "      <td>NaN</td>\n",
       "    </tr>\n",
       "    <tr>\n",
       "      <th>2013-01-06</th>\n",
       "      <td>NaN</td>\n",
       "      <td>NaN</td>\n",
       "      <td>NaN</td>\n",
       "      <td>NaN</td>\n",
       "    </tr>\n",
       "  </tbody>\n",
       "</table>\n",
       "</div>"
      ],
      "text/plain": [
       "             T   H  A1  A2\n",
       "2013-01-01 NaN NaN NaN NaN\n",
       "2013-01-02 NaN NaN NaN NaN\n",
       "2013-01-03 NaN NaN NaN NaN\n",
       "2013-01-04 NaN NaN NaN NaN\n",
       "2013-01-05 NaN NaN NaN NaN\n",
       "2013-01-06 NaN NaN NaN NaN"
      ]
     },
     "execution_count": 24,
     "metadata": {},
     "output_type": "execute_result"
    }
   ],
   "source": [
    "# Using a single column’s values to select data. \n",
    "df[df.T > 0] "
   ]
  },
  {
   "cell_type": "code",
   "execution_count": 25,
   "id": "194ce7f4-1895-4c2e-8914-b965b277f704",
   "metadata": {},
   "outputs": [
    {
     "data": {
      "text/html": [
       "<div>\n",
       "<style scoped>\n",
       "    .dataframe tbody tr th:only-of-type {\n",
       "        vertical-align: middle;\n",
       "    }\n",
       "\n",
       "    .dataframe tbody tr th {\n",
       "        vertical-align: top;\n",
       "    }\n",
       "\n",
       "    .dataframe thead th {\n",
       "        text-align: right;\n",
       "    }\n",
       "</style>\n",
       "<table border=\"1\" class=\"dataframe\">\n",
       "  <thead>\n",
       "    <tr style=\"text-align: right;\">\n",
       "      <th></th>\n",
       "      <th>T</th>\n",
       "      <th>H</th>\n",
       "      <th>A1</th>\n",
       "      <th>A2</th>\n",
       "    </tr>\n",
       "  </thead>\n",
       "  <tbody>\n",
       "    <tr>\n",
       "      <th>2013-01-01</th>\n",
       "      <td>NaN</td>\n",
       "      <td>NaN</td>\n",
       "      <td>0.351592</td>\n",
       "      <td>0.45019</td>\n",
       "    </tr>\n",
       "    <tr>\n",
       "      <th>2013-01-02</th>\n",
       "      <td>0.726585</td>\n",
       "      <td>0.467108</td>\n",
       "      <td>1.038036</td>\n",
       "      <td>NaN</td>\n",
       "    </tr>\n",
       "    <tr>\n",
       "      <th>2013-01-03</th>\n",
       "      <td>0.727796</td>\n",
       "      <td>NaN</td>\n",
       "      <td>NaN</td>\n",
       "      <td>NaN</td>\n",
       "    </tr>\n",
       "    <tr>\n",
       "      <th>2013-01-04</th>\n",
       "      <td>NaN</td>\n",
       "      <td>1.672901</td>\n",
       "      <td>NaN</td>\n",
       "      <td>NaN</td>\n",
       "    </tr>\n",
       "    <tr>\n",
       "      <th>2013-01-05</th>\n",
       "      <td>2.095122</td>\n",
       "      <td>NaN</td>\n",
       "      <td>NaN</td>\n",
       "      <td>NaN</td>\n",
       "    </tr>\n",
       "    <tr>\n",
       "      <th>2013-01-06</th>\n",
       "      <td>0.874863</td>\n",
       "      <td>NaN</td>\n",
       "      <td>0.083776</td>\n",
       "      <td>NaN</td>\n",
       "    </tr>\n",
       "  </tbody>\n",
       "</table>\n",
       "</div>"
      ],
      "text/plain": [
       "                   T         H        A1       A2\n",
       "2013-01-01       NaN       NaN  0.351592  0.45019\n",
       "2013-01-02  0.726585  0.467108  1.038036      NaN\n",
       "2013-01-03  0.727796       NaN       NaN      NaN\n",
       "2013-01-04       NaN  1.672901       NaN      NaN\n",
       "2013-01-05  2.095122       NaN       NaN      NaN\n",
       "2013-01-06  0.874863       NaN  0.083776      NaN"
      ]
     },
     "execution_count": 25,
     "metadata": {},
     "output_type": "execute_result"
    }
   ],
   "source": [
    "# Selecting values from a DataFrame where a boolean condition is met.\n",
    "df[df > 0] "
   ]
  },
  {
   "cell_type": "code",
   "execution_count": 26,
   "id": "0396c8cd-548f-4a85-929d-51b584ffc369",
   "metadata": {},
   "outputs": [],
   "source": [
    "# Using the isin() method for filtering:\n",
    "df2 = df.copy() "
   ]
  },
  {
   "cell_type": "code",
   "execution_count": 27,
   "id": "0d30bbbd-9dd0-46d7-aba1-e3ea3b0f560c",
   "metadata": {},
   "outputs": [],
   "source": [
    "df2['E'] = ['one', 'one','two','three','four','three'] \n"
   ]
  },
  {
   "cell_type": "code",
   "execution_count": 28,
   "id": "8a4013b5-f66b-4923-8ec5-207004b0e7bc",
   "metadata": {},
   "outputs": [
    {
     "data": {
      "text/html": [
       "<div>\n",
       "<style scoped>\n",
       "    .dataframe tbody tr th:only-of-type {\n",
       "        vertical-align: middle;\n",
       "    }\n",
       "\n",
       "    .dataframe tbody tr th {\n",
       "        vertical-align: top;\n",
       "    }\n",
       "\n",
       "    .dataframe thead th {\n",
       "        text-align: right;\n",
       "    }\n",
       "</style>\n",
       "<table border=\"1\" class=\"dataframe\">\n",
       "  <thead>\n",
       "    <tr style=\"text-align: right;\">\n",
       "      <th></th>\n",
       "      <th>T</th>\n",
       "      <th>H</th>\n",
       "      <th>A1</th>\n",
       "      <th>A2</th>\n",
       "      <th>E</th>\n",
       "    </tr>\n",
       "  </thead>\n",
       "  <tbody>\n",
       "    <tr>\n",
       "      <th>2013-01-01</th>\n",
       "      <td>-0.925172</td>\n",
       "      <td>-0.232885</td>\n",
       "      <td>0.351592</td>\n",
       "      <td>0.450190</td>\n",
       "      <td>one</td>\n",
       "    </tr>\n",
       "    <tr>\n",
       "      <th>2013-01-02</th>\n",
       "      <td>0.726585</td>\n",
       "      <td>0.467108</td>\n",
       "      <td>1.038036</td>\n",
       "      <td>-0.020423</td>\n",
       "      <td>one</td>\n",
       "    </tr>\n",
       "    <tr>\n",
       "      <th>2013-01-03</th>\n",
       "      <td>0.727796</td>\n",
       "      <td>-0.610306</td>\n",
       "      <td>-1.940319</td>\n",
       "      <td>-0.515120</td>\n",
       "      <td>two</td>\n",
       "    </tr>\n",
       "    <tr>\n",
       "      <th>2013-01-04</th>\n",
       "      <td>-1.030102</td>\n",
       "      <td>1.672901</td>\n",
       "      <td>-1.312540</td>\n",
       "      <td>-0.915103</td>\n",
       "      <td>three</td>\n",
       "    </tr>\n",
       "    <tr>\n",
       "      <th>2013-01-05</th>\n",
       "      <td>2.095122</td>\n",
       "      <td>-0.775471</td>\n",
       "      <td>-0.172476</td>\n",
       "      <td>-0.949045</td>\n",
       "      <td>four</td>\n",
       "    </tr>\n",
       "    <tr>\n",
       "      <th>2013-01-06</th>\n",
       "      <td>0.874863</td>\n",
       "      <td>-1.627257</td>\n",
       "      <td>0.083776</td>\n",
       "      <td>-0.536444</td>\n",
       "      <td>three</td>\n",
       "    </tr>\n",
       "  </tbody>\n",
       "</table>\n",
       "</div>"
      ],
      "text/plain": [
       "                   T         H        A1        A2      E\n",
       "2013-01-01 -0.925172 -0.232885  0.351592  0.450190    one\n",
       "2013-01-02  0.726585  0.467108  1.038036 -0.020423    one\n",
       "2013-01-03  0.727796 -0.610306 -1.940319 -0.515120    two\n",
       "2013-01-04 -1.030102  1.672901 -1.312540 -0.915103  three\n",
       "2013-01-05  2.095122 -0.775471 -0.172476 -0.949045   four\n",
       "2013-01-06  0.874863 -1.627257  0.083776 -0.536444  three"
      ]
     },
     "execution_count": 28,
     "metadata": {},
     "output_type": "execute_result"
    }
   ],
   "source": [
    "df2"
   ]
  },
  {
   "cell_type": "code",
   "execution_count": 29,
   "id": "aa190bd1-4244-4a19-8630-61cf4844a3ac",
   "metadata": {},
   "outputs": [
    {
     "data": {
      "text/html": [
       "<div>\n",
       "<style scoped>\n",
       "    .dataframe tbody tr th:only-of-type {\n",
       "        vertical-align: middle;\n",
       "    }\n",
       "\n",
       "    .dataframe tbody tr th {\n",
       "        vertical-align: top;\n",
       "    }\n",
       "\n",
       "    .dataframe thead th {\n",
       "        text-align: right;\n",
       "    }\n",
       "</style>\n",
       "<table border=\"1\" class=\"dataframe\">\n",
       "  <thead>\n",
       "    <tr style=\"text-align: right;\">\n",
       "      <th></th>\n",
       "      <th>T</th>\n",
       "      <th>H</th>\n",
       "      <th>A1</th>\n",
       "      <th>A2</th>\n",
       "      <th>E</th>\n",
       "    </tr>\n",
       "  </thead>\n",
       "  <tbody>\n",
       "    <tr>\n",
       "      <th>2013-01-03</th>\n",
       "      <td>0.727796</td>\n",
       "      <td>-0.610306</td>\n",
       "      <td>-1.940319</td>\n",
       "      <td>-0.515120</td>\n",
       "      <td>two</td>\n",
       "    </tr>\n",
       "    <tr>\n",
       "      <th>2013-01-05</th>\n",
       "      <td>2.095122</td>\n",
       "      <td>-0.775471</td>\n",
       "      <td>-0.172476</td>\n",
       "      <td>-0.949045</td>\n",
       "      <td>four</td>\n",
       "    </tr>\n",
       "  </tbody>\n",
       "</table>\n",
       "</div>"
      ],
      "text/plain": [
       "                   T         H        A1        A2     E\n",
       "2013-01-03  0.727796 -0.610306 -1.940319 -0.515120   two\n",
       "2013-01-05  2.095122 -0.775471 -0.172476 -0.949045  four"
      ]
     },
     "execution_count": 29,
     "metadata": {},
     "output_type": "execute_result"
    }
   ],
   "source": [
    " df2[df2['E'].isin(['two','four'])] \n"
   ]
  },
  {
   "cell_type": "markdown",
   "id": "5ac8d7db-0d5a-4b9b-8df7-3a91cac738c9",
   "metadata": {},
   "source": [
    "# ALLHAMDULILLAH DONE ASSIGNMENT NO: 1"
   ]
  },
  {
   "cell_type": "code",
   "execution_count": null,
   "id": "f9f713d3-2b0c-4295-9dee-12f76e50711b",
   "metadata": {},
   "outputs": [],
   "source": []
  }
 ],
 "metadata": {
  "kernelspec": {
   "display_name": "Python 3 (ipykernel)",
   "language": "python",
   "name": "python3"
  },
  "language_info": {
   "codemirror_mode": {
    "name": "ipython",
    "version": 3
   },
   "file_extension": ".py",
   "mimetype": "text/x-python",
   "name": "python",
   "nbconvert_exporter": "python",
   "pygments_lexer": "ipython3",
   "version": "3.13.5"
  }
 },
 "nbformat": 4,
 "nbformat_minor": 5
}
